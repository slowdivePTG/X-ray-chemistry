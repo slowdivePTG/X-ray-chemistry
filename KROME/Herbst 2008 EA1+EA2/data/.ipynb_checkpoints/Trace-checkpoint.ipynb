{
 "cells": [
  {
   "cell_type": "code",
   "execution_count": 1,
   "metadata": {},
   "outputs": [],
   "source": [
    "import numpy as np\n",
    "import matplotlib.pyplot as plt"
   ]
  },
  {
   "cell_type": "code",
   "execution_count": 2,
   "metadata": {},
   "outputs": [
    {
     "ename": "ValueError",
     "evalue": "could not convert string to float: '0.00000E+00-0.14244E-07'",
     "output_type": "error",
     "traceback": [
      "\u001b[0;31m---------------------------------------------------------------------------\u001b[0m",
      "\u001b[0;31mValueError\u001b[0m                                Traceback (most recent call last)",
      "\u001b[0;32m<ipython-input-2-04e6fd8013ea>\u001b[0m in \u001b[0;36m<module>\u001b[0;34m()\u001b[0m\n\u001b[0;32m----> 1\u001b[0;31m \u001b[0mraw1\u001b[0m\u001b[0;34m=\u001b[0m\u001b[0mnp\u001b[0m\u001b[0;34m.\u001b[0m\u001b[0mloadtxt\u001b[0m\u001b[0;34m(\u001b[0m\u001b[0;34m'Trace5'\u001b[0m\u001b[0;34m)\u001b[0m\u001b[0;34m\u001b[0m\u001b[0m\n\u001b[0m\u001b[1;32m      2\u001b[0m \u001b[0mraw2\u001b[0m\u001b[0;34m=\u001b[0m\u001b[0mnp\u001b[0m\u001b[0;34m.\u001b[0m\u001b[0mloadtxt\u001b[0m\u001b[0;34m(\u001b[0m\u001b[0;34m'Trace5_1'\u001b[0m\u001b[0;34m)\u001b[0m\u001b[0;34m\u001b[0m\u001b[0m\n",
      "\u001b[0;32m~/anaconda3/lib/python3.7/site-packages/numpy/lib/npyio.py\u001b[0m in \u001b[0;36mloadtxt\u001b[0;34m(fname, dtype, comments, delimiter, converters, skiprows, usecols, unpack, ndmin, encoding)\u001b[0m\n\u001b[1;32m   1099\u001b[0m         \u001b[0;31m# converting the data\u001b[0m\u001b[0;34m\u001b[0m\u001b[0;34m\u001b[0m\u001b[0m\n\u001b[1;32m   1100\u001b[0m         \u001b[0mX\u001b[0m \u001b[0;34m=\u001b[0m \u001b[0;32mNone\u001b[0m\u001b[0;34m\u001b[0m\u001b[0m\n\u001b[0;32m-> 1101\u001b[0;31m         \u001b[0;32mfor\u001b[0m \u001b[0mx\u001b[0m \u001b[0;32min\u001b[0m \u001b[0mread_data\u001b[0m\u001b[0;34m(\u001b[0m\u001b[0m_loadtxt_chunksize\u001b[0m\u001b[0;34m)\u001b[0m\u001b[0;34m:\u001b[0m\u001b[0;34m\u001b[0m\u001b[0m\n\u001b[0m\u001b[1;32m   1102\u001b[0m             \u001b[0;32mif\u001b[0m \u001b[0mX\u001b[0m \u001b[0;32mis\u001b[0m \u001b[0;32mNone\u001b[0m\u001b[0;34m:\u001b[0m\u001b[0;34m\u001b[0m\u001b[0m\n\u001b[1;32m   1103\u001b[0m                 \u001b[0mX\u001b[0m \u001b[0;34m=\u001b[0m \u001b[0mnp\u001b[0m\u001b[0;34m.\u001b[0m\u001b[0marray\u001b[0m\u001b[0;34m(\u001b[0m\u001b[0mx\u001b[0m\u001b[0;34m,\u001b[0m \u001b[0mdtype\u001b[0m\u001b[0;34m)\u001b[0m\u001b[0;34m\u001b[0m\u001b[0m\n",
      "\u001b[0;32m~/anaconda3/lib/python3.7/site-packages/numpy/lib/npyio.py\u001b[0m in \u001b[0;36mread_data\u001b[0;34m(chunk_size)\u001b[0m\n\u001b[1;32m   1026\u001b[0m \u001b[0;34m\u001b[0m\u001b[0m\n\u001b[1;32m   1027\u001b[0m             \u001b[0;31m# Convert each value according to its column and store\u001b[0m\u001b[0;34m\u001b[0m\u001b[0;34m\u001b[0m\u001b[0m\n\u001b[0;32m-> 1028\u001b[0;31m             \u001b[0mitems\u001b[0m \u001b[0;34m=\u001b[0m \u001b[0;34m[\u001b[0m\u001b[0mconv\u001b[0m\u001b[0;34m(\u001b[0m\u001b[0mval\u001b[0m\u001b[0;34m)\u001b[0m \u001b[0;32mfor\u001b[0m \u001b[0;34m(\u001b[0m\u001b[0mconv\u001b[0m\u001b[0;34m,\u001b[0m \u001b[0mval\u001b[0m\u001b[0;34m)\u001b[0m \u001b[0;32min\u001b[0m \u001b[0mzip\u001b[0m\u001b[0;34m(\u001b[0m\u001b[0mconverters\u001b[0m\u001b[0;34m,\u001b[0m \u001b[0mvals\u001b[0m\u001b[0;34m)\u001b[0m\u001b[0;34m]\u001b[0m\u001b[0;34m\u001b[0m\u001b[0m\n\u001b[0m\u001b[1;32m   1029\u001b[0m \u001b[0;34m\u001b[0m\u001b[0m\n\u001b[1;32m   1030\u001b[0m             \u001b[0;31m# Then pack it according to the dtype's nesting\u001b[0m\u001b[0;34m\u001b[0m\u001b[0;34m\u001b[0m\u001b[0m\n",
      "\u001b[0;32m~/anaconda3/lib/python3.7/site-packages/numpy/lib/npyio.py\u001b[0m in \u001b[0;36m<listcomp>\u001b[0;34m(.0)\u001b[0m\n\u001b[1;32m   1026\u001b[0m \u001b[0;34m\u001b[0m\u001b[0m\n\u001b[1;32m   1027\u001b[0m             \u001b[0;31m# Convert each value according to its column and store\u001b[0m\u001b[0;34m\u001b[0m\u001b[0;34m\u001b[0m\u001b[0m\n\u001b[0;32m-> 1028\u001b[0;31m             \u001b[0mitems\u001b[0m \u001b[0;34m=\u001b[0m \u001b[0;34m[\u001b[0m\u001b[0mconv\u001b[0m\u001b[0;34m(\u001b[0m\u001b[0mval\u001b[0m\u001b[0;34m)\u001b[0m \u001b[0;32mfor\u001b[0m \u001b[0;34m(\u001b[0m\u001b[0mconv\u001b[0m\u001b[0;34m,\u001b[0m \u001b[0mval\u001b[0m\u001b[0;34m)\u001b[0m \u001b[0;32min\u001b[0m \u001b[0mzip\u001b[0m\u001b[0;34m(\u001b[0m\u001b[0mconverters\u001b[0m\u001b[0;34m,\u001b[0m \u001b[0mvals\u001b[0m\u001b[0;34m)\u001b[0m\u001b[0;34m]\u001b[0m\u001b[0;34m\u001b[0m\u001b[0m\n\u001b[0m\u001b[1;32m   1029\u001b[0m \u001b[0;34m\u001b[0m\u001b[0m\n\u001b[1;32m   1030\u001b[0m             \u001b[0;31m# Then pack it according to the dtype's nesting\u001b[0m\u001b[0;34m\u001b[0m\u001b[0;34m\u001b[0m\u001b[0m\n",
      "\u001b[0;32m~/anaconda3/lib/python3.7/site-packages/numpy/lib/npyio.py\u001b[0m in \u001b[0;36mfloatconv\u001b[0;34m(x)\u001b[0m\n\u001b[1;32m    744\u001b[0m         \u001b[0;32mif\u001b[0m \u001b[0;34m'0x'\u001b[0m \u001b[0;32min\u001b[0m \u001b[0mx\u001b[0m\u001b[0;34m:\u001b[0m\u001b[0;34m\u001b[0m\u001b[0m\n\u001b[1;32m    745\u001b[0m             \u001b[0;32mreturn\u001b[0m \u001b[0mfloat\u001b[0m\u001b[0;34m.\u001b[0m\u001b[0mfromhex\u001b[0m\u001b[0;34m(\u001b[0m\u001b[0mx\u001b[0m\u001b[0;34m)\u001b[0m\u001b[0;34m\u001b[0m\u001b[0m\n\u001b[0;32m--> 746\u001b[0;31m         \u001b[0;32mreturn\u001b[0m \u001b[0mfloat\u001b[0m\u001b[0;34m(\u001b[0m\u001b[0mx\u001b[0m\u001b[0;34m)\u001b[0m\u001b[0;34m\u001b[0m\u001b[0m\n\u001b[0m\u001b[1;32m    747\u001b[0m \u001b[0;34m\u001b[0m\u001b[0m\n\u001b[1;32m    748\u001b[0m     \u001b[0mtyp\u001b[0m \u001b[0;34m=\u001b[0m \u001b[0mdtype\u001b[0m\u001b[0;34m.\u001b[0m\u001b[0mtype\u001b[0m\u001b[0;34m\u001b[0m\u001b[0m\n",
      "\u001b[0;31mValueError\u001b[0m: could not convert string to float: '0.00000E+00-0.14244E-07'"
     ]
    }
   ],
   "source": [
    "raw1=np.loadtxt('Trace5')\n",
    "raw2=np.loadtxt('Trace5_1')"
   ]
  },
  {
   "cell_type": "code",
   "execution_count": 119,
   "metadata": {},
   "outputs": [
    {
     "name": "stdout",
     "output_type": "stream",
     "text": [
      "61\n"
     ]
    },
    {
     "data": {
      "text/plain": [
       "array([[-7.27e-25,  0.00e+00,  0.00e+00, ...,  0.00e+00,  0.00e+00,\n",
       "         0.00e+00],\n",
       "       [-3.45e-25,  0.00e+00,  0.00e+00, ...,  0.00e+00,  0.00e+00,\n",
       "         0.00e+00],\n",
       "       [-2.94e-25,  0.00e+00,  0.00e+00, ...,  0.00e+00,  0.00e+00,\n",
       "         0.00e+00],\n",
       "       ...,\n",
       "       [-3.66e-17,  0.00e+00,  0.00e+00, ...,  0.00e+00,  0.00e+00,\n",
       "         0.00e+00],\n",
       "       [-3.65e-17,  0.00e+00,  0.00e+00, ...,  0.00e+00,  0.00e+00,\n",
       "         0.00e+00],\n",
       "       [-3.64e-17,  0.00e+00,  0.00e+00, ...,  0.00e+00,  0.00e+00,\n",
       "         0.00e+00]])"
      ]
     },
     "execution_count": 119,
     "metadata": {},
     "output_type": "execute_result"
    }
   ],
   "source": [
    "i=381 #CH4\n",
    "print(len(raw1))\n",
    "#raw1=np.reshape(raw1,(int(len(raw1)/452/452),452,452))\n",
    "#raw2=np.reshape(raw2,(int(len(raw2)/452/452),452,452))\n",
    "#raw3=np.reshape(raw3,(int(len(raw3)/452/452),452,452))\n",
    "data=raw1[:,i,:]\n",
    "data2=raw2[:,i,:]\n",
    "data3=raw3[:,i,:]\n",
    "data"
   ]
  },
  {
   "cell_type": "code",
   "execution_count": 120,
   "metadata": {},
   "outputs": [],
   "source": [
    "def deal_with(data):\n",
    "    leng=5\n",
    "    l=len(data[:,1])\n",
    "    dat=data\n",
    "    small,big=np.zeros((l,leng)),np.zeros((l,leng))\n",
    "    big_index,small_index=np.zeros((l,leng)),np.zeros((l,leng))\n",
    "    for i in range(l):\n",
    "        dati=dat[i,:]\n",
    "        sor1 = dati.argsort()[1:leng+1]\n",
    "        sor2 = dati.argsort()[-1-leng:-1]\n",
    "        big_index[i,:]=sor2+1\n",
    "        small_index[i,:]=sor1+1\n",
    "        for j in range(leng):\n",
    "            big[i,j]=dati[sor2[j]]\n",
    "            small[i,j]=dati[sor1[j]]\n",
    "    return(big,small,big_index,small_index)\n",
    "\n"
   ]
  },
  {
   "cell_type": "code",
   "execution_count": 121,
   "metadata": {},
   "outputs": [
    {
     "name": "stdout",
     "output_type": "stream",
     "text": [
      "[[144. 154. 206.  31. 321.]\n",
      " [144. 154. 206.  31. 321.]\n",
      " [144. 154. 206.  31. 321.]\n",
      " [144. 154. 206.  31. 321.]\n",
      " [144. 154. 206.  31. 321.]\n",
      " [144. 154. 206.  31. 321.]\n",
      " [144. 154. 206.  31. 321.]\n",
      " [144. 154. 206.  31. 321.]\n",
      " [144. 154. 206.  31. 321.]]\n",
      "[[144. 154. 206.  31. 321.]\n",
      " [144. 154. 206.  31. 321.]\n",
      " [144. 154. 206.  31. 321.]\n",
      " [144. 154. 206.  31. 321.]\n",
      " [144. 154. 206.  31. 321.]\n",
      " [144. 154. 206.  31. 321.]\n",
      " [144. 154. 206.  31. 321.]\n",
      " [144. 154. 206.  31. 321.]\n",
      " [144. 154. 206.  31. 321.]]\n",
      "[[144. 154. 206.  31. 321.]\n",
      " [144. 154. 206.  31. 321.]\n",
      " [144. 154. 206.  31. 321.]\n",
      " [144. 154. 206.  31. 321.]\n",
      " [144. 154. 206.  31. 321.]\n",
      " [144. 154. 206.  31. 321.]\n",
      " [144. 154. 206.  31. 321.]\n",
      " [144. 154. 206.  31. 321.]\n",
      " [144. 154. 206.  31. 321.]]\n"
     ]
    }
   ],
   "source": [
    "b,s,b_in,s_in=deal_with(data)\n",
    "b2,s2,b2_in,s2_in=deal_with(data2)\n",
    "b3,s3,b3_in,s3_in=deal_with(data3)\n",
    "\n",
    "print(b_in[-10:-1])\n",
    "print(b2_in[-10:-1])\n",
    "print(b3_in[-10:-1])"
   ]
  },
  {
   "cell_type": "code",
   "execution_count": 122,
   "metadata": {},
   "outputs": [
    {
     "name": "stdout",
     "output_type": "stream",
     "text": [
      "[[  1.  21.  61. 307. 306.]\n",
      " [  1.  21.  61. 307. 306.]\n",
      " [  1.  21.  61. 307. 306.]\n",
      " [  1.  21.  61. 307. 306.]\n",
      " [  1.  21.  61. 307. 306.]\n",
      " [  1.  21.  61. 307. 306.]\n",
      " [  1.  21.  61. 307. 306.]\n",
      " [  1.  21.  61. 307. 306.]\n",
      " [  1.  21.  61. 307. 306.]]\n",
      "[[  1.  21.  61. 307. 306.]\n",
      " [  1.  21.  61. 307. 306.]\n",
      " [  1.  21.  61. 307. 306.]\n",
      " [  1.  21.  61. 307. 306.]\n",
      " [  1.  21.  61. 307. 306.]\n",
      " [  1.  21.  61. 307. 306.]\n",
      " [  1.  21.  61. 307. 306.]\n",
      " [  1.  21.  61. 307. 306.]\n",
      " [  1.  21.  61. 307. 306.]]\n",
      "[[  1.  21.  61. 307. 306.]\n",
      " [  1.  21.  61. 307. 306.]\n",
      " [  1.  21.  61. 307. 306.]\n",
      " [  1.  21.  61. 307. 306.]\n",
      " [  1.  21.  61. 307. 306.]\n",
      " [  1.  21.  61. 307. 306.]\n",
      " [  1.  21.  61. 307. 306.]\n",
      " [  1.  21.  61. 307. 306.]\n",
      " [  1.  21.  61. 307. 306.]]\n"
     ]
    }
   ],
   "source": [
    "print(s_in[-10:-1])\n",
    "print(s2_in[-10:-1])\n",
    "print(s3_in[-10:-1])"
   ]
  },
  {
   "cell_type": "code",
   "execution_count": 124,
   "metadata": {},
   "outputs": [
    {
     "name": "stdout",
     "output_type": "stream",
     "text": [
      "[[       nan        nan 0.01078086 0.01078086 0.36751592]\n",
      " [       nan        nan 0.72473868 0.72473868 0.95375723]\n",
      " [       nan        nan 1.18065434 1.18065434 1.05405405]\n",
      " [       nan        nan 1.35168961 1.35168961 1.08717949]\n",
      " [       nan        nan 1.42196532 1.42196532 1.10891089]\n",
      " [       nan        nan 1.46017699 1.46017699 1.12621359]\n",
      " [       nan        nan 1.48751357 1.48751357 1.1291866 ]\n",
      " [       nan        nan 1.48429036 1.48429036 1.13397129]\n",
      " [       nan        nan 1.48471616 1.48471616 1.13397129]]\n",
      "[[0.38434164 0.114      0.00178971        nan        nan]\n",
      " [0.96428571 0.80081967 0.42820181        nan        nan]\n",
      " [1.05487805 0.97142857 0.74954955        nan        nan]\n",
      " [1.09329446 1.04516129 0.91034483        nan        nan]\n",
      " [1.11299435 1.08383234 1.02312139        nan        nan]\n",
      " [1.12465374 1.11494253 1.08762887        nan        nan]\n",
      " [1.12876712 1.12921348 1.12077295        nan        nan]\n",
      " [1.13114754 1.13333333 1.14150943        nan        nan]\n",
      " [1.13150685 1.13888889 1.14485981        nan        nan]]\n"
     ]
    },
    {
     "name": "stderr",
     "output_type": "stream",
     "text": [
      "/home/chang/anaconda3/lib/python3.7/site-packages/ipykernel_launcher.py:1: RuntimeWarning: invalid value encountered in true_divide\n",
      "  \"\"\"Entry point for launching an IPython kernel.\n",
      "/home/chang/anaconda3/lib/python3.7/site-packages/ipykernel_launcher.py:2: RuntimeWarning: invalid value encountered in true_divide\n",
      "  \n"
     ]
    }
   ],
   "source": [
    "print(((b3)/b)[-10:-1])\n",
    "print(((s3)/s)[-10:-1])"
   ]
  },
  {
   "cell_type": "code",
   "execution_count": null,
   "metadata": {},
   "outputs": [],
   "source": []
  }
 ],
 "metadata": {
  "kernelspec": {
   "display_name": "Python 3",
   "language": "python",
   "name": "python3"
  },
  "language_info": {
   "codemirror_mode": {
    "name": "ipython",
    "version": 3
   },
   "file_extension": ".py",
   "mimetype": "text/x-python",
   "name": "python",
   "nbconvert_exporter": "python",
   "pygments_lexer": "ipython3",
   "version": "3.7.0"
  }
 },
 "nbformat": 4,
 "nbformat_minor": 2
}
