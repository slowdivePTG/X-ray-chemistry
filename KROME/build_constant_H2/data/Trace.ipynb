{
 "cells": [
  {
   "cell_type": "code",
   "execution_count": 1,
   "metadata": {},
   "outputs": [
    {
     "name": "stdout",
     "output_type": "stream",
     "text": [
      "All variables set as e.g. krome_idx_H2\n",
      "plot 'your_output' u 1:krome_idx_H2\n",
      " the offset is nkrome= 0\n"
     ]
    }
   ],
   "source": [
    "import numpy as np\n",
    "import matplotlib.pyplot as plt\n",
    "from species import *"
   ]
  },
  {
   "cell_type": "code",
   "execution_count": 2,
   "metadata": {},
   "outputs": [
    {
     "data": {
      "text/plain": [
       "4530"
      ]
     },
     "execution_count": 2,
     "metadata": {},
     "output_type": "execute_result"
    }
   ],
   "source": [
    "raw10=np.loadtxt('Trace4_0')\n",
    "raw20=np.loadtxt('Trace4_1')\n",
    "l=len(raw10)\n",
    "l"
   ]
  },
  {
   "cell_type": "code",
   "execution_count": 3,
   "metadata": {},
   "outputs": [
    {
     "data": {
      "text/plain": [
       "array(['E', 'GRAINk', 'Hk', 'Ck', 'CNk', 'Ok', 'OHk', 'Sk', 'GRAIN0', 'C',\n",
       "       'FE', 'H', 'HE', 'MG', 'N', 'NA', 'O', 'S', 'SI', 'H2', 'CO', 'CL',\n",
       "       'P', 'C2', 'CCL', 'CH', 'CLO', 'CN', 'CP', 'CS', 'HCL', 'HF', 'F',\n",
       "       'HS', 'MGH', 'N2', 'NAH', 'NH', 'NO', 'NS', 'O2', 'OH', 'PH', 'PN',\n",
       "       'PO', 'S2', 'SIC', 'SIH', 'SIN', 'SIO', 'SIS', 'SO', 'C2H', 'C2N',\n",
       "       'C2S', 'C3', 'CCO', 'CCP', 'CH2', 'CO2', 'H2O', 'H2S', 'HCN',\n",
       "       'HCO', 'HCP', 'HCS', 'HCSI', 'HNC', 'HNO', 'HNSI', 'HPO', 'HS2',\n",
       "       'N2O', 'NAOH', 'NH2', 'NO2', 'O2H', 'OCN', 'OCS', 'PH2', 'SIC2',\n",
       "       'SIH2', 'SINC', 'SIO2', 'SO2', 'C2H2', 'C3H', 'HC3', 'C3N', 'C3O',\n",
       "       'C3P', 'C3S', 'C4', 'CH3', 'H2CO', 'H2CS', 'H2O2', 'H2S2', 'H2SIO',\n",
       "       'HCCP', 'NH3', 'SIC2H', 'SIC3', 'SICH2', 'SIH3', 'C2H2N', 'C2H2O',\n",
       "       'C2H3', 'C3H2', 'H2C3', 'C4H', 'C4N', 'C4P', 'C4S', 'C5', 'CH2O2',\n",
       "       'CH2PH', 'CH3N', 'CH4', 'HC3N', 'SIC2H2', 'SIC3H', 'SIC4', 'SICH3',\n",
       "       'SIH4', 'C2H3N', 'C2H4', 'C3H3', 'C4H2', 'C5H', 'C5N', 'C6',\n",
       "       'CH4O', 'C2H4O', 'C2H5', 'C3H3N', 'C3H4', 'C5H2', 'C6H', 'C7',\n",
       "       'CH5N', 'HC5N', 'C6H2', 'C7H', 'C7N', 'C8', 'CH3C3N', 'HCOOCH3',\n",
       "       'C2H5OH', 'C7H2', 'C8H', 'C9', 'CH3C4H', 'CH3OCH3', 'HC7N',\n",
       "       'C2H6CO', 'C8H2', 'C9H', 'C9N', 'CH3C5N', 'C9H2', 'CH3C6H',\n",
       "       'CH3C7N', 'HC9N', 'HCNC2', 'HC2NC', 'HNC3', 'NH2CHO', 'C4H3',\n",
       "       'NH2CN', 'C6H6', 'H2CN', 'C10', 'C11', 'SIC3H3', 'SIC4H', 'SIC6H',\n",
       "       'SIC8H', 'SIC2H3', 'C3H6', 'SIC3H5', 'C4H4', 'C4H6', 'HC4N',\n",
       "       'HC6N', 'HC8N', 'HC10N', 'HC11N', 'HC12N', 'NC4N', 'NC6N', 'NC8N',\n",
       "       'NC10N', 'NC12N', 'HC13N', 'Cj', 'FEj', 'Hj', 'HEj', 'MGj', 'Nj',\n",
       "       'NAj', 'Oj', 'Sj', 'SIj', 'H3j', 'HCOj', 'CLj', 'Pj', 'COj', 'H2j',\n",
       "       'NOj', 'O2j', 'CH2j', 'H2Sj', 'HCSj', 'HNOj', 'NH2j', 'OCSj',\n",
       "       'C2H2j', 'CH3j', 'NH3j', 'C2H2Oj', 'CH2O2j', 'C2H3Nj', 'C2H4j',\n",
       "       'C4H2j', 'H3COj', 'CH4Oj', 'C2H4Oj', 'C3H4j', 'CH5Nj', 'C2H5OHj',\n",
       "       'CH3OCH3j', 'CHj', 'CCLj', 'C2j', 'CLOj', 'CPj', 'CFj', 'CSj',\n",
       "       'CNj', 'NSj', 'PHj', 'POj', 'SICj', 'SINj', 'SISj', 'SOj', 'C3j',\n",
       "       'C2Sj', 'C2Oj', 'CCPj', 'C2Hj', 'HOCj', 'C2Nj', 'CNCj', 'HCPj',\n",
       "       'SIC2j', 'SINCj', 'HPOj', 'HCNj', 'CHSIj', 'SIH2j', 'C3Hj', 'C4j',\n",
       "       'C3Oj', 'C3Sj', 'H2COj', 'H2SIOj', 'HCNHj', 'SIC2Hj', 'SIC3j',\n",
       "       'CH2SIj', 'SIH3j', 'C2H2Nj', 'C2H3j', 'C3H2j', 'H2C3j', 'C4Hj',\n",
       "       'C5j', 'C4Sj', 'PC2Hj', 'C3Nj', 'C4Nj', 'C3HNj', 'HNCj', 'SIC3Hj',\n",
       "       'SIC4j', 'SIC2H2j', 'SICH3j', 'HC2NCHj', 'C3H3j', 'H3C3j', 'C5Hj',\n",
       "       'C6j', 'C2H3Oj', 'C2H5j', 'C3H3Nj', 'C5H2j', 'C4H3j', 'C6Hj',\n",
       "       'C7j', 'CH4Nj', 'C5HNj', 'C7Hj', 'C8j', 'COOCH4j', 'C2H5Oj',\n",
       "       'C8Hj', 'C9j', 'C5H3j', 'C6H2j', 'C6H3j', 'C2H6COj', 'C9Hj',\n",
       "       'C10j', 'C7H3j', 'C8H2j', 'C8H3j', 'HCLj', 'Fj', 'HFj', 'HSj',\n",
       "       'NHj', 'OHj', 'PNj', 'S2j', 'SIHj', 'SIOj', 'H2Oj', 'HNSIj',\n",
       "       'S2Hj', 'PH2j', 'H2CSj', 'H2S2j', 'HSIOj', 'C4Pj', 'HCO2j',\n",
       "       'PCH3j', 'CH4j', 'C2NHj', 'SIH4j', 'NH4j', 'H2NCj', 'C3H2Nj',\n",
       "       'C7H2j', 'C5H4j', 'C7HNj', 'C9H2j', 'C7H4j', 'C9HNj', 'N2j',\n",
       "       'CO2j', 'HEHj', 'SO2j', 'C6H5j', 'C5H5j', 'N2Hj', 'NO2j', 'PC2H2j',\n",
       "       'PNH2j', 'PCH2j', 'HC2Sj', 'HC3Sj', 'H3CSj', 'HC4Sj', 'SIFj',\n",
       "       'SINH2j', 'SIC2H3j', 'SIC3H2j', 'C2HOj', 'H3Oj', 'H3Sj', 'HOCSj',\n",
       "       'CH5Oj', 'NCOj', 'HNCOj', 'C2N2j', 'O2Hj', 'CH5j', 'H2CLj', 'H2Fj',\n",
       "       'CH3O2j', 'H2POj', 'PNH3j', 'PCH4j', 'PC2H3j', 'HSISj', 'HSOj',\n",
       "       'HNSj', 'HPNj', 'H2NOj', 'NAH2Oj', 'PH3j', 'SINCHj', 'HSIO2j',\n",
       "       'HSO2j', 'HC3Oj', 'PC3Hj', 'H3S2j', 'H3SIOj', 'PC4Hj', 'NH2CNHj',\n",
       "       'SIC4Hj', 'SICH4j', 'SIH5j', 'C2H4Nj', 'NH2CH2Oj', 'C2H6j',\n",
       "       'C3H4Nj', 'C3H5j', 'C4H4j', 'CH6Nj', 'C5H2Nj', 'C4H4Nj', 'H5C2O2j',\n",
       "       'C2H5OH2j', 'CH3OCH4j', 'C7H2Nj', 'C3H6OHj', 'C6H4Nj', 'C9H3j',\n",
       "       'C7H5j', 'C8H4Nj', 'C9H2Nj', 'C6H7j', 'NAH2j', 'PC2H4j', 'C4H5j',\n",
       "       'H2CCLj', 'PC4H2j', 'C6H4j', 'C8H4j', 'C9H4j', 'C4H7j', 'HC4Nj',\n",
       "       'HC4Oj', 'C5Nj', 'H2C4Nj', 'H3C4Nj', 'C7Nj', 'C5H3Nj', 'C9Nj',\n",
       "       'C7H3Nj', 'C9H3Nj', 'OCSjH2', 'H2C3Oj', 'H3C3Oj', 'C5H4Nj',\n",
       "       'C8H5j', 'C9H5j', 'HEjj', 'dust_C_1', 'dust_C_2', 'dust_C_3',\n",
       "       'dust_C_4', 'dust_C_5', 'dust_C_6', 'dust_C_7', 'dust_C_8',\n",
       "       'dust_C_9', 'dust_C_10', 'dust_Si_1', 'dust_Si_2', 'dust_Si_3',\n",
       "       'dust_Si_4', 'dust_Si_5', 'dust_Si_6', 'dust_Si_7', 'dust_Si_8',\n",
       "       'dust_Si_9', 'dust_Si_10', 'CR', 'g', 'Tgas', 'dummy', '0.0',\n",
       "       '0.0', '0.0', '0.0', '0.0', '0.0', '0.0', '0.0', '0.0', '0.0',\n",
       "       '0.0', '0.0', '0.0', '0.0', '0.0', '0.0', '0.0', '0.0', '0.0',\n",
       "       '0.0', '0.0', '0.0', '0.0'], dtype='<U32')"
      ]
     },
     "execution_count": 3,
     "metadata": {},
     "output_type": "execute_result"
    }
   ],
   "source": [
    "data = open('species')\n",
    "Name = np.zeros(500).astype(np.str)\n",
    "length=len('krome_idx_')\n",
    "i=0\n",
    "while 1:\n",
    "    line = data.readline()\n",
    "    if not line:\n",
    "        break\n",
    "    line=line.strip('\\n')\n",
    "    temp=line[length:line.find(' ')]\n",
    "    if (temp[-1]=='J'):\n",
    "        temp=temp[0:-1]+'j'\n",
    "    Name[i]=temp\n",
    "    i += 1\n",
    "Name"
   ]
  },
  {
   "cell_type": "code",
   "execution_count": 4,
   "metadata": {},
   "outputs": [],
   "source": [
    "def deal_with(data):\n",
    "    leng=5\n",
    "    l=len(data[:,1])\n",
    "    dat=data\n",
    "    small,big=np.zeros((l,leng)),np.zeros((l,leng))\n",
    "    big_index,small_index=np.zeros((l,leng)),np.zeros((l,leng))\n",
    "    for i in range(l):\n",
    "        dati=dat[i,:]\n",
    "        sor1 = dati.argsort()[1:leng+1] #sort, find the smallest\n",
    "        sor2 = dati.argsort()[-1-leng:-1] #biggest\n",
    "        big_index[i,:]=sor2+1\n",
    "        small_index[i,:]=sor1+1\n",
    "        for j in range(leng):\n",
    "            big[i,j]=dati[sor2[j]]\n",
    "            small[i,j]=dati[sor1[j]]    \n",
    "    return(big,small,big_index,small_index)"
   ]
  },
  {
   "cell_type": "code",
   "execution_count": 5,
   "metadata": {},
   "outputs": [],
   "source": [
    "def read_name(index):\n",
    "    name=np.zeros((int(l/453),5)).astype(np.str)\n",
    "    for i in range(int(l/453)):\n",
    "        for j in range(5):\n",
    "            name[i,j]=Name[int(index[i,j]-1)]\n",
    "    return(name)"
   ]
  },
  {
   "cell_type": "code",
   "execution_count": 9,
   "metadata": {},
   "outputs": [
    {
     "data": {
      "text/plain": [
       "array([[3.84945824e-11, 0.00000000e+00, 3.73950699e-21, ...,\n",
       "        0.00000000e+00, 0.00000000e+00, 0.00000000e+00],\n",
       "       [3.84931752e-11, 0.00000000e+00, 3.73883300e-21, ...,\n",
       "        0.00000000e+00, 0.00000000e+00, 0.00000000e+00],\n",
       "       [3.84917760e-11, 0.00000000e+00, 3.73816300e-21, ...,\n",
       "        0.00000000e+00, 0.00000000e+00, 0.00000000e+00],\n",
       "       ...,\n",
       "       [3.84785794e-11, 0.00000000e+00, 3.73185332e-21, ...,\n",
       "        0.00000000e+00, 0.00000000e+00, 0.00000000e+00],\n",
       "       [3.84729429e-11, 0.00000000e+00, 3.72916475e-21, ...,\n",
       "        0.00000000e+00, 0.00000000e+00, 0.00000000e+00],\n",
       "       [3.84655368e-11, 0.00000000e+00, 3.72563805e-21, ...,\n",
       "        0.00000000e+00, 0.00000000e+00, 0.00000000e+00]])"
      ]
     },
     "execution_count": 9,
     "metadata": {},
     "output_type": "execute_result"
    }
   ],
   "source": [
    "raw1=raw10.reshape(int(l/453),453,453)\n",
    "raw2=raw20.reshape(int(l/453),453,453)\n",
    "data1=raw1[:,krome_idx_CH-1,:]\n",
    "data2=raw1[:,krome_idx_HCNHj-1,:]\n",
    "\n",
    "data1"
   ]
  },
  {
   "cell_type": "code",
   "execution_count": 10,
   "metadata": {},
   "outputs": [
    {
     "name": "stdout",
     "output_type": "stream",
     "text": [
      "[['O2' 'O' 'N' 'H2' 'Hj']\n",
      " ['O2' 'O' 'N' 'H2' 'Hj']\n",
      " ['O2' 'O' 'N' 'H2' 'Hj']\n",
      " ['O2' 'O' 'N' 'H2' 'Hj']\n",
      " ['O2' 'O' 'N' 'H2' 'Hj']\n",
      " ['O2' 'O' 'N' 'H2' 'Hj']\n",
      " ['O2' 'O' 'N' 'H2' 'Hj']\n",
      " ['O2' 'O' 'N' 'H2' 'Hj']\n",
      " ['O2' 'O' 'N' 'H2' 'Hj']\n",
      " ['O2' 'O' 'N' 'H2' 'Hj']]\n",
      "[['H2CO' 'C2H2j' 'CH2' 'CH3j' 'HCOj']\n",
      " ['H2CO' 'C2H2j' 'CH2' 'CH3j' 'HCOj']\n",
      " ['H2CO' 'C2H2j' 'CH2' 'CH3j' 'HCOj']\n",
      " ['H2CO' 'C2H2j' 'CH2' 'CH3j' 'HCOj']\n",
      " ['H2CO' 'C2H2j' 'CH2' 'CH3j' 'HCOj']\n",
      " ['H2CO' 'C2H2j' 'CH2' 'CH3j' 'HCOj']\n",
      " ['H2CO' 'C2H2j' 'CH2' 'CH3j' 'HCOj']\n",
      " ['H2CO' 'C2H2j' 'CH2' 'CH3j' 'HCOj']\n",
      " ['H2CO' 'C2H2j' 'CH2' 'CH3j' 'HCOj']\n",
      " ['H2CO' 'C2H2j' 'CH2' 'CH3j' 'HCOj']]\n",
      "[[-9.83069375e-12 -1.95683744e-12 -3.25075932e-13 -2.40419894e-13\n",
      "  -2.26968365e-13]\n",
      " [-9.83134300e-12 -1.95658199e-12 -3.25018538e-13 -2.40402971e-13\n",
      "  -2.26927834e-13]\n",
      " [-9.83198855e-12 -1.95632801e-12 -3.24961430e-13 -2.40386147e-13\n",
      "  -2.26887544e-13]\n",
      " [-9.83263079e-12 -1.95607535e-12 -3.24904584e-13 -2.40369410e-13\n",
      "  -2.26847469e-13]\n",
      " [-9.83348239e-12 -1.95574031e-12 -3.24829163e-13 -2.40347216e-13\n",
      "  -2.26794337e-13]\n",
      " [-9.83461009e-12 -1.95529652e-12 -3.24729218e-13 -2.40317815e-13\n",
      "  -2.26723976e-13]\n",
      " [-9.83610179e-12 -1.95470944e-12 -3.24596963e-13 -2.40278924e-13\n",
      "  -2.26630930e-13]\n",
      " [-9.83807119e-12 -1.95393417e-12 -3.24422293e-13 -2.40227566e-13\n",
      "  -2.26508116e-13]\n",
      " [-9.84066348e-12 -1.95291281e-12 -3.24192199e-13 -2.40159885e-13\n",
      "  -2.26346407e-13]\n",
      " [-9.84406385e-12 -1.95157178e-12 -3.23890193e-13 -2.40070999e-13\n",
      "  -2.26134250e-13]]\n",
      "[[6.20021133e-15 1.58125859e-14 5.21993144e-14 1.66241627e-13\n",
      "  3.82533071e-11]\n",
      " [6.19891477e-15 1.58087668e-14 5.21925487e-14 1.66215149e-13\n",
      "  3.82519361e-11]\n",
      " [6.19762591e-15 1.58049708e-14 5.21858232e-14 1.66188829e-13\n",
      "  3.82505729e-11]\n",
      " [6.19634392e-15 1.58011953e-14 5.21791337e-14 1.66162649e-13\n",
      "  3.82492165e-11]\n",
      " [6.19464421e-15 1.57961900e-14 5.21702646e-14 1.66127938e-13\n",
      "  3.82474177e-11]\n",
      " [6.19239327e-15 1.57895623e-14 5.21585194e-14 1.66081971e-13\n",
      "  3.82450341e-11]\n",
      " [6.18941637e-15 1.57807986e-14 5.21429876e-14 1.66021182e-13\n",
      "  3.82418804e-11]\n",
      " [6.18548654e-15 1.57692323e-14 5.21224866e-14 1.65940942e-13\n",
      "  3.82377149e-11]\n",
      " [6.18031143e-15 1.57540055e-14 5.20954917e-14 1.65835288e-13\n",
      "  3.82322229e-11]\n",
      " [6.17352039e-15 1.57340324e-14 5.20600737e-14 1.65696668e-13\n",
      "  3.82250063e-11]]\n"
     ]
    }
   ],
   "source": [
    "b1,s1,b1_in,s1_in=deal_with(data1)\n",
    "b2,s2,b2_in,s2_in=deal_with(data2)\n",
    "b1_name=read_name(b1_in)\n",
    "b2_name=read_name(b2_in)\n",
    "s1_name=read_name(s1_in)\n",
    "s2_name=read_name(s2_in)\n",
    "\n",
    "print(s1_name)\n",
    "print(b1_name)\n",
    "print(s1)\n",
    "print(b1)"
   ]
  },
  {
   "cell_type": "code",
   "execution_count": 11,
   "metadata": {},
   "outputs": [
    {
     "name": "stdout",
     "output_type": "stream",
     "text": [
      "[['E' 'CH' 'H2CO' 'NH2' 'CH2']\n",
      " ['E' 'CH' 'H2CO' 'NH2' 'CH2']\n",
      " ['E' 'CH' 'H2CO' 'NH2' 'CH2']\n",
      " ['E' 'CH' 'H2CO' 'NH2' 'CH2']\n",
      " ['E' 'CH' 'H2CO' 'NH2' 'CH2']\n",
      " ['E' 'CH' 'H2CO' 'NH2' 'CH2']\n",
      " ['E' 'CH' 'H2CO' 'NH2' 'CH2']\n",
      " ['E' 'CH' 'H2CO' 'NH2' 'CH2']\n",
      " ['E' 'CH' 'H2CO' 'NH2' 'CH2']\n",
      " ['E' 'CH' 'H2CO' 'NH2' 'CH2']]\n",
      "[['HCOj' 'HCNj' 'H2' 'HNC' 'HCN']\n",
      " ['HCOj' 'HCNj' 'H2' 'HNC' 'HCN']\n",
      " ['HCOj' 'HCNj' 'H2' 'HNC' 'HCN']\n",
      " ['HCOj' 'HCNj' 'H2' 'HNC' 'HCN']\n",
      " ['HCOj' 'HCNj' 'H2' 'HNC' 'HCN']\n",
      " ['HCOj' 'HCNj' 'H2' 'HNC' 'HCN']\n",
      " ['HCOj' 'HCNj' 'H2' 'HNC' 'HCN']\n",
      " ['HCOj' 'HCNj' 'H2' 'HNC' 'HCN']\n",
      " ['HCOj' 'HCNj' 'H2' 'HNC' 'HCN']\n",
      " ['HCOj' 'HCNj' 'H2' 'HNC' 'HCN']]\n",
      "[[-2.68896969e-12 -1.05503736e-16 -2.33161982e-17 -9.22568419e-18\n",
      "  -1.55870083e-19]\n",
      " [-2.68888568e-12 -1.05494029e-16 -2.33147441e-17 -9.22584204e-18\n",
      "  -1.55845960e-19]\n",
      " [-2.68880178e-12 -1.05484362e-16 -2.33132948e-17 -9.22599585e-18\n",
      "  -1.55821957e-19]\n",
      " [-2.68871802e-12 -1.05474735e-16 -2.33118502e-17 -9.22614646e-18\n",
      "  -1.55798066e-19]\n",
      " [-2.68860660e-12 -1.05461955e-16 -2.33099310e-17 -9.22634331e-18\n",
      "  -1.55766370e-19]\n",
      " [-2.68845855e-12 -1.05445005e-16 -2.33073830e-17 -9.22659994e-18\n",
      "  -1.55724362e-19]\n",
      " [-2.68826231e-12 -1.05422571e-16 -2.33040085e-17 -9.22693642e-18\n",
      "  -1.55668795e-19]\n",
      " [-2.68800286e-12 -1.05392941e-16 -2.32995481e-17 -9.22737836e-18\n",
      "  -1.55595440e-19]\n",
      " [-2.68766067e-12 -1.05353874e-16 -2.32936604e-17 -9.22795663e-18\n",
      "  -1.55498814e-19]\n",
      " [-2.68721140e-12 -1.05302573e-16 -2.32859200e-17 -9.22871545e-18\n",
      "  -1.55372038e-19]]\n",
      "[[8.36705276e-14 1.16723411e-13 1.94241505e-13 3.93402358e-13\n",
      "  5.10745119e-13]\n",
      " [8.36668394e-14 1.16713165e-13 1.94224192e-13 3.93414680e-13\n",
      "  5.10752712e-13]\n",
      " [8.36631589e-14 1.16702962e-13 1.94206953e-13 3.93426873e-13\n",
      "  5.10760188e-13]\n",
      " [8.36594868e-14 1.16692800e-13 1.94189782e-13 3.93438959e-13\n",
      "  5.10767568e-13]\n",
      " [8.36546037e-14 1.16679310e-13 1.94166990e-13 3.93454932e-13\n",
      "  5.10777283e-13]\n",
      " [8.36481142e-14 1.16661424e-13 1.94136770e-13 3.93476011e-13\n",
      "  5.10790050e-13]\n",
      " [8.36395134e-14 1.16637749e-13 1.94096770e-13 3.93503834e-13\n",
      "  5.10806856e-13]\n",
      " [8.36281379e-14 1.16606475e-13 1.94043934e-13 3.93540517e-13\n",
      "  5.10828968e-13]\n",
      " [8.36131103e-14 1.16565271e-13 1.93974325e-13 3.93588739e-13\n",
      "  5.10857962e-13]\n",
      " [8.35933414e-14 1.16511192e-13 1.93882970e-13 3.93651990e-13\n",
      "  5.10895939e-13]]\n"
     ]
    }
   ],
   "source": [
    "print(s2_name)\n",
    "print(b2_name)\n",
    "print(s2)\n",
    "print(b2)"
   ]
  },
  {
   "cell_type": "code",
   "execution_count": null,
   "metadata": {},
   "outputs": [],
   "source": []
  }
 ],
 "metadata": {
  "kernelspec": {
   "display_name": "Python 3",
   "language": "python",
   "name": "python3"
  },
  "language_info": {
   "codemirror_mode": {
    "name": "ipython",
    "version": 3
   },
   "file_extension": ".py",
   "mimetype": "text/x-python",
   "name": "python",
   "nbconvert_exporter": "python",
   "pygments_lexer": "ipython3",
   "version": "3.7.1"
  }
 },
 "nbformat": 4,
 "nbformat_minor": 2
}
