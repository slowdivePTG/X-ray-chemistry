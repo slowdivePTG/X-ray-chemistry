{
 "cells": [
  {
   "cell_type": "code",
   "execution_count": 1,
   "metadata": {
    "ExecuteTime": {
     "end_time": "2019-11-02T00:20:34.667257Z",
     "start_time": "2019-11-02T00:20:33.803961Z"
    }
   },
   "outputs": [
    {
     "name": "stdout",
     "output_type": "stream",
     "text": [
      "All variables set as e.g. krome_idx_H2\n",
      "plot 'your_output' u 1:krome_idx_H2\n",
      " the offset is nkrome= 0\n"
     ]
    }
   ],
   "source": [
    "import os\n",
    "from os import sys\n",
    "sys.path.append('./data')\n",
    "import numpy as np\n",
    "import matplotlib.pyplot as plt\n",
    "from species import *"
   ]
  },
  {
   "cell_type": "code",
   "execution_count": 2,
   "metadata": {
    "ExecuteTime": {
     "end_time": "2019-11-02T00:20:35.512716Z",
     "start_time": "2019-11-02T00:20:34.680121Z"
    }
   },
   "outputs": [
    {
     "data": {
      "text/plain": [
       "0"
      ]
     },
     "execution_count": 2,
     "metadata": {},
     "output_type": "execute_result"
    }
   ],
   "source": [
    "os.system('clear')\n",
    "os.system('make gfortran')"
   ]
  },
  {
   "cell_type": "code",
   "execution_count": 3,
   "metadata": {
    "ExecuteTime": {
     "end_time": "2019-11-02T00:20:35.586709Z",
     "start_time": "2019-11-02T00:20:35.533944Z"
    },
    "code_folding": [
     31
    ]
   },
   "outputs": [],
   "source": [
    "def Av(NH):\n",
    "    return('{:.4f}d0'.format(NH*5.3e-22))\n",
    "\n",
    "def write_test_Xray(NH):\n",
    "    with open('./test.f90', 'r') as f:\n",
    "        lines = f.readlines()\n",
    "        lines[20] = '  call krome_set_user_av({}) !opacity Av (#)\\n'.format(Av(NH))\n",
    "        lines[48] = '  call krome_set_J21xray(1d0)\\n'\n",
    "        lines[49] = '  open(unit=77, file=\"./data/dis\")\\n'\n",
    "        lines[64] = '  call krome_set_J21xray(1d0)\\n'\n",
    "    with open('./test.f90', 'w') as f:\n",
    "        for l in lines:\n",
    "            f.write(l)\n",
    "        \n",
    "def write_test_stop(NH):\n",
    "    with open('./test.f90', 'r') as f:\n",
    "        lines = f.readlines()\n",
    "        lines[20] = '  call krome_set_user_av({}) !opacity Av (#)\\n'.format(Av(NH))\n",
    "        lines[48] = '  call krome_set_J21xray(1d0)\\n'\n",
    "        lines[49] = '  open(unit=77, file=\"./data/dis\")\\n'\n",
    "        lines[64] = '  call krome_set_J21xray(0d0)\\n'\n",
    "    with open('./test.f90', 'w') as f:\n",
    "        for l in lines:\n",
    "            f.write(l)\n",
    "        \n",
    "def write_test0(NH):\n",
    "    with open('./test.f90', 'r') as f:\n",
    "        lines = f.readlines()\n",
    "        lines[20] = '  call krome_set_user_av({}) !opacity Av (#)\\n'.format(Av(NH))\n",
    "        lines[48] = '  call krome_set_J21xray(0d0)\\n'\n",
    "        lines[49] = '  open(unit=77, file=\"./data/dis_inf\")\\n'\n",
    "        lines[64] = '  call krome_set_J21xray(0d0)\\n'\n",
    "    with open('./test.f90', 'w') as f:\n",
    "        for l in lines:\n",
    "            f.write(l)"
   ]
  },
  {
   "cell_type": "code",
   "execution_count": 4,
   "metadata": {
    "ExecuteTime": {
     "end_time": "2019-11-02T00:20:35.617272Z",
     "start_time": "2019-11-02T00:20:35.595854Z"
    },
    "code_folding": []
   },
   "outputs": [],
   "source": [
    "def AGN(NHs=[10**22.5], Dis=[4]):\n",
    "    for NH in NHs:\n",
    "        with open('krome_getphys.f90', 'r') as f:\n",
    "            lines = f.readlines()\n",
    "            lines[3715] = 'num2col = max(ncalc,1d-40)*{}\\n'.format(str(NH / 2e4))\n",
    "        with open('krome_getphys.f90', 'w') as f:\n",
    "            for l in lines:\n",
    "                f.write(l)\n",
    "        label = str(int((np.log10(NH)-22)*2+1))\n",
    "        for dis in Dis:\n",
    "            nH = './rate_dis/ratexH' + str(dis) + '.dat'\n",
    "            nHe = './rate_dis/ratexHe' + str(dis) + '.dat'\n",
    "            orderH = 'cat ' + nH + ' > ratexH.dat'\n",
    "            os.system(orderH)\n",
    "            orderHe = 'cat ' + nHe + ' > ratexHe.dat'\n",
    "            os.system(orderHe)\n",
    "            \n",
    "            write_test_Xray(NH=NH)\n",
    "            os.system('make gfortran')\n",
    "            os.system('./test')\n",
    "            command = 'cat ./data/dis > ./data/{}dis'.format(str(label)) + str(dis)\n",
    "            os.system(command)\n",
    "            command = 'cat ./data/Trace > ./data/{}Trace'.format(\n",
    "                str(label)) + str(dis)\n",
    "            os.system(command)\n",
    "            command = 'rm ./data/dis & rm ./data/Trace'\n",
    "            os.system(command)\n",
    "            cowsay = 'cowsay -f www I am ionized at ' + str(dis) + ' kpc'\n",
    "            os.system(cowsay)\n",
    "\n",
    "            write_test_stop(NH=NH)\n",
    "            os.system('make gfortran')\n",
    "            os.system('./test')\n",
    "            command = 'cat ./data/dis > ./data/{}dis0'.format(\n",
    "                str(label)) + str(dis)\n",
    "            os.system(command)\n",
    "            command = 'cat ./data/Trace > ./data/{}Trace0'.format(\n",
    "                str(label)) + str(dis)\n",
    "            os.system(command)\n",
    "            command = 'rm ./data/dis & rm ./data/Trace'\n",
    "            os.system(command)\n",
    "            cowsay = 'cowsay -f www I am ionized at ' + str(\n",
    "                dis) + ' kpc, but have been saved at 1E6 YEARS'\n",
    "            os.system(cowsay)\n",
    "\n",
    "        command = 'rm ./data/dis ./data/Trace'.format(str(label))\n",
    "        os.system(command)\n",
    "\n",
    "        write_test0(NH=NH)\n",
    "        os.system('make gfortran')\n",
    "        os.system('./test')\n",
    "        command = 'cat ./data/dis_inf > ./data/{}dis_inf'.format(str(label))\n",
    "        os.system(command)\n",
    "        command = 'cat ./data/Trace > ./data/{}Trace_inf'.format(str(label))\n",
    "        os.system(command)\n",
    "        command = 'rm ./data/dis_inf & rm ./data/Trace'\n",
    "        os.system(command)\n",
    "        os.system('cowsay -f www I feel ok')"
   ]
  },
  {
   "cell_type": "code",
   "execution_count": 5,
   "metadata": {
    "ExecuteTime": {
     "end_time": "2019-11-02T00:35:40.193527Z",
     "start_time": "2019-11-02T00:20:35.619967Z"
    }
   },
   "outputs": [],
   "source": [
    "#AGN() # Default Model, inside both situation below\n",
    "AGN(Dis=np.arange(8) + 1) # Galactic Distribution\n",
    "AGN(NHs=[1e22, 1e23]) # Distribution inside"
   ]
  },
  {
   "cell_type": "code",
   "execution_count": null,
   "metadata": {},
   "outputs": [],
   "source": []
  }
 ],
 "metadata": {
  "kernelspec": {
   "display_name": "Python 3",
   "language": "python",
   "name": "python3"
  },
  "language_info": {
   "codemirror_mode": {
    "name": "ipython",
    "version": 3
   },
   "file_extension": ".py",
   "mimetype": "text/x-python",
   "name": "python",
   "nbconvert_exporter": "python",
   "pygments_lexer": "ipython3",
   "version": "3.7.1"
  },
  "notify_time": "30"
 },
 "nbformat": 4,
 "nbformat_minor": 2
}
