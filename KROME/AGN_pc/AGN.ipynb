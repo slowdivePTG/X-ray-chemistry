{
 "cells": [
  {
   "cell_type": "code",
   "execution_count": 1,
   "metadata": {
    "ExecuteTime": {
     "end_time": "2020-07-17T09:13:16.592347Z",
     "start_time": "2020-07-17T09:13:15.350664Z"
    }
   },
   "outputs": [
    {
     "name": "stdout",
     "output_type": "stream",
     "text": [
      "All variables set as e.g. krome_idx_H2\n",
      "plot 'your_output' u 1:krome_idx_H2\n",
      " the offset is nkrome= 0\n"
     ]
    }
   ],
   "source": [
    "import os\n",
    "from os import sys\n",
    "sys.path.append('./data')\n",
    "import numpy as np\n",
    "import matplotlib.pyplot as plt\n",
    "from species import *"
   ]
  },
  {
   "cell_type": "code",
   "execution_count": 2,
   "metadata": {
    "ExecuteTime": {
     "end_time": "2020-07-17T09:13:17.341174Z",
     "start_time": "2020-07-17T09:13:17.239715Z"
    }
   },
   "outputs": [
    {
     "data": {
      "text/plain": [
       "512"
      ]
     },
     "execution_count": 2,
     "metadata": {},
     "output_type": "execute_result"
    }
   ],
   "source": [
    "os.system('clear')\n",
    "os.system('make gfortran')"
   ]
  },
  {
   "cell_type": "code",
   "execution_count": 3,
   "metadata": {
    "ExecuteTime": {
     "end_time": "2020-04-07T07:00:19.880845Z",
     "start_time": "2020-04-07T07:00:19.839338Z"
    },
    "code_folding": [
     31
    ]
   },
   "outputs": [],
   "source": [
    "def Av(NH):\n",
    "    return ('{:.2f}d0'.format(NH * 5.3e-22))\n",
    "\n",
    "\n",
    "def write_test_Xray(NH, t=0):\n",
    "    with open('./test.f90', 'r') as f:\n",
    "        lines = f.readlines()\n",
    "        lines[20] = '  call krome_set_user_av({}) !opacity Av (#)\\n'.format(\n",
    "            Av(NH))\n",
    "        if t > 0:\n",
    "            lines[\n",
    "                45] = '  call krome(x(:),Tgas,{:.1e}*spy) !call KROME before the AGN event\\n'.format(\n",
    "                    t)\n",
    "        else:\n",
    "            lines[45] = '  \\n'\n",
    "        lines[49] = '  call krome_set_J21xray(1d0)\\n'\n",
    "        lines[50] = '  open(unit=77, file=\"./data/dis\")\\n'\n",
    "        lines[68] = '  call krome_set_J21xray(1d0)\\n'\n",
    "    with open('./test.f90', 'w') as f:\n",
    "        for l in lines:\n",
    "            f.write(l)\n",
    "\n",
    "\n",
    "def write_test_stop(NH, t=0):\n",
    "    with open('./test.f90', 'r') as f:\n",
    "        lines = f.readlines()\n",
    "        lines[20] = '  call krome_set_user_av({}) !opacity Av (#)\\n'.format(\n",
    "            Av(NH))\n",
    "        if t > 0:\n",
    "            lines[\n",
    "                45] = '  call krome(x(:),Tgas,{:.1e}*spy) !call KROME before the AGN event\\n'.format(\n",
    "                    t)\n",
    "        else:\n",
    "            lines[45] = '  \\n'\n",
    "        lines[49] = '  call krome_set_J21xray(1d0)\\n'\n",
    "        lines[50] = '  open(unit=77, file=\"./data/dis\")\\n'\n",
    "        lines[68] = '  call krome_set_J21xray(0d0)\\n'\n",
    "    with open('./test.f90', 'w') as f:\n",
    "        for l in lines:\n",
    "            f.write(l)\n",
    "\n",
    "\n",
    "def write_test0(NH, t=0):\n",
    "    with open('./test.f90', 'r') as f:\n",
    "        lines = f.readlines()\n",
    "        lines[20] = '  call krome_set_user_av({}) !opacity Av (#)\\n'.format(\n",
    "            Av(NH))\n",
    "        if t > 0:\n",
    "            lines[\n",
    "                45] = '  call krome(x(:),Tgas,{:.1e}*spy) !call KROME before the AGN event\\n'.format(\n",
    "                    t)\n",
    "        else:\n",
    "            lines[45] = '  \\n'\n",
    "        lines[49] = '  call krome_set_J21xray(0d0)\\n'\n",
    "        lines[50] = '  open(unit=77, file=\"./data/dis_inf\")\\n'\n",
    "        lines[68] = '  call krome_set_J21xray(0d0)\\n'\n",
    "    with open('./test.f90', 'w') as f:\n",
    "        for l in lines:\n",
    "            f.write(l)"
   ]
  },
  {
   "cell_type": "code",
   "execution_count": 4,
   "metadata": {
    "ExecuteTime": {
     "end_time": "2020-04-07T07:00:19.903830Z",
     "start_time": "2020-04-07T07:00:19.885428Z"
    },
    "code_folding": []
   },
   "outputs": [],
   "source": [
    "def AGN(NHs=[10**22.5], Dis=[4], t_before=0):\n",
    "    t_mark = ''\n",
    "    if t_before > 0:\n",
    "        t_mark = '{:.0e}'.format(t_before)\n",
    "    for NH in NHs:\n",
    "        with open('krome_getphys.f90', 'r') as f:\n",
    "            lines = f.readlines()\n",
    "            lines[3715] = 'num2col = max(ncalc,1d-40)*{}\\n'.format(\n",
    "                str(NH / 2e4))\n",
    "        with open('krome_getphys.f90', 'w') as f:\n",
    "            for l in lines:\n",
    "                f.write(l)\n",
    "        label = str(int((np.log10(NH) - 22) * 2 + 1))\n",
    "        for dis in Dis:\n",
    "            nH = './rate_dis/ratexH' + str(dis) + '.dat'\n",
    "            nHe = './rate_dis/ratexHe' + str(dis) + '.dat'\n",
    "            orderH = 'cat ' + nH + ' > ratexH.dat'\n",
    "            os.system(orderH)\n",
    "            orderHe = 'cat ' + nHe + ' > ratexHe.dat'\n",
    "            os.system(orderHe)\n",
    "\n",
    "            write_test_Xray(NH=NH, t=t_before)\n",
    "            os.system('make gfortran')\n",
    "            os.system('./test')\n",
    "            command = 'cat ./data/dis > ./data/{}dis{}{}'.format(\n",
    "                str(label), str(dis), t_mark)\n",
    "            os.system(command)\n",
    "            command = 'cat ./data/Trace > ./data/{}Trace{}{}'.format(\n",
    "                str(label), str(dis), t_mark)\n",
    "            os.system(command)\n",
    "            command = 'rm ./data/dis & rm ./data/Trace'\n",
    "            os.system(command)\n",
    "            cowsay = 'cowsay -f www I am ionized at ' + str(dis) + ' kpc'\n",
    "            os.system(cowsay)\n",
    "\n",
    "            write_test_stop(NH=NH, t=t_before)\n",
    "            os.system('make gfortran')\n",
    "            os.system('./test')\n",
    "            command = 'cat ./data/dis > ./data/{}dis0{}{}'.format(\n",
    "                str(label), str(dis), t_mark)\n",
    "            os.system(command)\n",
    "            command = 'cat ./data/Trace > ./data/{}Trace0{}{}'.format(\n",
    "                str(label), str(dis), t_mark)\n",
    "            os.system(command)\n",
    "            command = 'rm ./data/dis & rm ./data/Trace'\n",
    "            os.system(command)\n",
    "            cowsay = 'cowsay -f www I am ionized at ' + str(\n",
    "                dis) + ' kpc, but have been saved at 1E6 YEARS'\n",
    "            os.system(cowsay)\n",
    "\n",
    "        command = 'rm ./data/dis ./data/Trace'.format(str(label))\n",
    "        os.system(command)\n",
    "\n",
    "        write_test0(NH=NH, t=t_before)\n",
    "        os.system('make gfortran')\n",
    "        os.system('./test')\n",
    "        command = 'cat ./data/dis_inf > ./data/{}dis_inf{}'.format(\n",
    "            str(label), t_mark)\n",
    "        os.system(command)\n",
    "        command = 'cat ./data/Trace > ./data/{}Trace_inf{}'.format(\n",
    "            str(label), t_mark)\n",
    "        os.system(command)\n",
    "        command = 'rm ./data/dis_inf & rm ./data/Trace'\n",
    "        os.system(command)\n",
    "        os.system('cowsay -f www I feel ok')"
   ]
  },
  {
   "cell_type": "code",
   "execution_count": 5,
   "metadata": {
    "ExecuteTime": {
     "end_time": "2020-04-07T07:02:33.089272Z",
     "start_time": "2020-04-07T07:00:19.909548Z"
    }
   },
   "outputs": [],
   "source": [
    "AGN() # Default Model, inside both situation below"
   ]
  },
  {
   "cell_type": "code",
   "execution_count": 6,
   "metadata": {
    "ExecuteTime": {
     "end_time": "2020-04-07T07:13:34.902282Z",
     "start_time": "2020-04-07T07:02:33.091864Z"
    }
   },
   "outputs": [],
   "source": [
    "AGN(Dis=np.arange(8) + 1) # Galactic Distribution"
   ]
  },
  {
   "cell_type": "code",
   "execution_count": 7,
   "metadata": {
    "ExecuteTime": {
     "end_time": "2020-04-07T07:17:25.456887Z",
     "start_time": "2020-04-07T07:13:34.906972Z"
    }
   },
   "outputs": [],
   "source": [
    "AGN(NHs=[1e22, 1e23]) # Distribution inside"
   ]
  },
  {
   "cell_type": "code",
   "execution_count": 8,
   "metadata": {
    "ExecuteTime": {
     "end_time": "2020-04-07T07:21:30.307665Z",
     "start_time": "2020-04-07T07:17:25.459179Z"
    }
   },
   "outputs": [],
   "source": [
    "AGN(t_before=1e4)\n",
    "AGN(t_before=1e7)"
   ]
  },
  {
   "cell_type": "code",
   "execution_count": null,
   "metadata": {},
   "outputs": [],
   "source": []
  }
 ],
 "metadata": {
  "kernelspec": {
   "display_name": "Python 3",
   "language": "python",
   "name": "python3"
  },
  "language_info": {
   "codemirror_mode": {
    "name": "ipython",
    "version": 3
   },
   "file_extension": ".py",
   "mimetype": "text/x-python",
   "name": "python",
   "nbconvert_exporter": "python",
   "pygments_lexer": "ipython3",
   "version": "3.7.1"
  },
  "notify_time": "30"
 },
 "nbformat": 4,
 "nbformat_minor": 2
}
