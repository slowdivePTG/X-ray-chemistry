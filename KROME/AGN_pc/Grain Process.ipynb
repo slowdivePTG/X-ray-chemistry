{
 "cells": [
  {
   "cell_type": "markdown",
   "metadata": {},
   "source": [
    "# Grain Process"
   ]
  },
  {
   "cell_type": "code",
   "execution_count": 5,
   "metadata": {
    "ExecuteTime": {
     "end_time": "2019-09-17T09:16:19.885154Z",
     "start_time": "2019-09-17T09:16:19.878717Z"
    }
   },
   "outputs": [],
   "source": [
    "import yt.units as u\n",
    "import numpy as np\n",
    "atoms = ['H', 'C', 'O']\n",
    "mass = {'H': 1.0079, 'C': 12.0107, 'O': 15.9994}"
   ]
  },
  {
   "cell_type": "markdown",
   "metadata": {},
   "source": [
    "## Grain model"
   ]
  },
  {
   "cell_type": "code",
   "execution_count": 2,
   "metadata": {
    "ExecuteTime": {
     "end_time": "2019-09-17T09:10:30.051335Z",
     "start_time": "2019-09-17T09:10:30.041089Z"
    }
   },
   "outputs": [],
   "source": [
    "r = 1000 * u.angstrom\n",
    "V = 4 / 3 * np.pi * r**3\n",
    "rho = 3 * u.gram / u.cm**3\n",
    "Ns = 1e6\n",
    "G_M_ratio = 100\n",
    "nH = 2e4 / u.cm**3\n",
    "T = 10 * u.Kelvin\n",
    "ns = nH * u.mass_hydrogen / G_M_ratio / rho / V"
   ]
  },
  {
   "cell_type": "markdown",
   "metadata": {},
   "source": [
    "## Accretion\n",
    "\n",
    "$$R_{\\mathrm{acc}}(i)=\\overline{\\sigma_{d}n_{d}}\\langle v(i)\\rangle n(i) = \\sqrt{\\frac{2 k_{B} T}{\\pi m}}\\sigma_{d}n_{d}n(i)$$\n",
    "\n",
    "$$k_i= \\sqrt{\\frac{2 k_{B} T}{\\pi m}}\\sigma_{d}n_{d}n(i)=6.0557\\sqrt{\\frac{T\\ (\\text{K})}{\\mu}}\\times10^{-14}\\text{ s}^{-1}$$"
   ]
  },
  {
   "cell_type": "code",
   "execution_count": 13,
   "metadata": {
    "ExecuteTime": {
     "end_time": "2019-09-17T09:22:44.169270Z",
     "start_time": "2019-09-17T09:22:44.162250Z"
    }
   },
   "outputs": [],
   "source": [
    "def acc(spe, label=0):\n",
    "    t = ''\n",
    "    m = 0\n",
    "    grain_spe = ''\n",
    "    for i in spe:\n",
    "        if i.isdigit():\n",
    "            grain_spe += (t + '_dust') * (int(i) - 1)\n",
    "            m += mass[t] * (int(i) - 1)\n",
    "        else:\n",
    "            t = i\n",
    "            grain_spe += (t + '_dust')\n",
    "            m += mass[t]\n",
    "    react = '{},{},{},NONE,NONE,6.0557e-14*sqrt(Tgas/{})'.format(\n",
    "        label, spe, grain_spe, m)\n",
    "    return(react)"
   ]
  },
  {
   "cell_type": "code",
   "execution_count": 14,
   "metadata": {
    "ExecuteTime": {
     "end_time": "2019-09-17T09:22:44.600562Z",
     "start_time": "2019-09-17T09:22:44.592478Z"
    }
   },
   "outputs": [
    {
     "data": {
      "text/plain": [
       "'0,H2O,H_dustH_dustO_dust,NONE,NONE,6.0557e-14*sqrt(Tgas/18.0152)'"
      ]
     },
     "execution_count": 14,
     "metadata": {},
     "output_type": "execute_result"
    }
   ],
   "source": [
    "LIST_acc = []"
   ]
  },
  {
   "cell_type": "code",
   "execution_count": null,
   "metadata": {},
   "outputs": [],
   "source": []
  }
 ],
 "metadata": {
  "kernelspec": {
   "display_name": "Python 3",
   "language": "python",
   "name": "python3"
  },
  "language_info": {
   "codemirror_mode": {
    "name": "ipython",
    "version": 3
   },
   "file_extension": ".py",
   "mimetype": "text/x-python",
   "name": "python",
   "nbconvert_exporter": "python",
   "pygments_lexer": "ipython3",
   "version": "3.7.1"
  }
 },
 "nbformat": 4,
 "nbformat_minor": 2
}
