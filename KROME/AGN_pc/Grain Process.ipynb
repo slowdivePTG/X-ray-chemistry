{
 "cells": [
  {
   "cell_type": "markdown",
   "metadata": {},
   "source": [
    "# Grain Process"
   ]
  },
  {
   "cell_type": "code",
   "execution_count": 1,
   "metadata": {
    "ExecuteTime": {
     "end_time": "2019-09-18T09:16:13.329223Z",
     "start_time": "2019-09-18T09:16:11.157495Z"
    }
   },
   "outputs": [],
   "source": [
    "import yt.units as u\n",
    "import numpy as np\n",
    "atoms = ['H', 'C', 'O']\n",
    "mass = {'H': 1.0079, 'C': 12.0107, 'O': 15.9994}"
   ]
  },
  {
   "cell_type": "markdown",
   "metadata": {},
   "source": [
    "## Grain model"
   ]
  },
  {
   "cell_type": "code",
   "execution_count": 12,
   "metadata": {
    "ExecuteTime": {
     "end_time": "2019-09-18T09:31:01.024959Z",
     "start_time": "2019-09-18T09:31:01.014643Z"
    }
   },
   "outputs": [],
   "source": [
    "r = 1000 * u.angstrom\n",
    "V = 4 / 3 * np.pi * r**3\n",
    "rho = 3 * u.gram / u.cm**3\n",
    "Ns = 1e6\n",
    "G_M_ratio = 100\n",
    "nH = 2e4 / u.cm**3\n",
    "T = 10 * u.Kelvin\n",
    "ns = nH * u.mass_hydrogen / G_M_ratio / rho / V"
   ]
  },
  {
   "cell_type": "markdown",
   "metadata": {},
   "source": [
    "## Accretion\n",
    "\n",
    "$$R_{\\mathrm{acc}}(i)=\\overline{\\sigma_{d}n_{d}}\\langle v(i)\\rangle n(i) = \\sqrt{\\frac{2 k_{B} T}{\\pi m}}\\sigma_{d}n_{d}n(i)$$\n",
    "\n",
    "$$k_i= \\sqrt{\\frac{2 k_{B} T}{\\pi m}}\\sigma_{d}n_{d}n(i)=6.0557\\sqrt{\\frac{T\\ (\\text{K})}{\\mu}}\\times10^{-14}\\text{ s}^{-1}$$"
   ]
  },
  {
   "cell_type": "code",
   "execution_count": 32,
   "metadata": {
    "ExecuteTime": {
     "end_time": "2019-09-18T10:56:35.639098Z",
     "start_time": "2019-09-18T10:56:35.623753Z"
    }
   },
   "outputs": [],
   "source": [
    "def mu(spe):\n",
    "    t = ''\n",
    "    m = 0\n",
    "    for i in spe:\n",
    "        if i.isdigit():\n",
    "            m += mass[t] * (int(i) - 1)\n",
    "        else:\n",
    "            t = i\n",
    "            m += mass[t]\n",
    "    return(m)\n",
    "\n",
    "def acc(spe, label=0):\n",
    "    t = ''\n",
    "    m = 0\n",
    "    grain_spe = ''\n",
    "    for i in spe:\n",
    "        if i.isdigit():\n",
    "            grain_spe += (t + '_dust') * (int(i) - 1)\n",
    "            m += mass[t] * (int(i) - 1)\n",
    "        else:\n",
    "            t = i\n",
    "            grain_spe += (t + '_dust')\n",
    "            m += mass[t]\n",
    "    react = '{},{},{},NONE,NONE,6.0557e-14*sqrt(Tgas/{:f})'.format(\n",
    "        label, spe, grain_spe, m)\n",
    "    return(react)"
   ]
  },
  {
   "cell_type": "code",
   "execution_count": 33,
   "metadata": {
    "ExecuteTime": {
     "end_time": "2019-09-18T10:56:36.143301Z",
     "start_time": "2019-09-18T10:56:36.134713Z"
    }
   },
   "outputs": [
    {
     "name": "stdout",
     "output_type": "stream",
     "text": [
      "0,H,H_dust,NONE,NONE,6.0557e-14*sqrt(Tgas/1.007900)\n",
      "1,O,O_dust,NONE,NONE,6.0557e-14*sqrt(Tgas/15.999400)\n",
      "2,OH,O_dustH_dust,NONE,NONE,6.0557e-14*sqrt(Tgas/17.007300)\n",
      "3,H2O,H_dustH_dustO_dust,NONE,NONE,6.0557e-14*sqrt(Tgas/18.015200)\n",
      "4,C,C_dust,NONE,NONE,6.0557e-14*sqrt(Tgas/12.010700)\n",
      "5,CH,C_dustH_dust,NONE,NONE,6.0557e-14*sqrt(Tgas/13.018600)\n",
      "6,CH2,C_dustH_dustH_dust,NONE,NONE,6.0557e-14*sqrt(Tgas/14.026500)\n",
      "7,CH3,C_dustH_dustH_dustH_dust,NONE,NONE,6.0557e-14*sqrt(Tgas/15.034400)\n",
      "8,CH3OH,C_dustH_dustH_dustH_dustO_dustH_dust,NONE,NONE,6.0557e-14*sqrt(Tgas/32.041700)\n",
      "9,CO,C_dustO_dust,NONE,NONE,6.0557e-14*sqrt(Tgas/28.010100)\n",
      "10,HCO,H_dustC_dustO_dust,NONE,NONE,6.0557e-14*sqrt(Tgas/29.018000)\n"
     ]
    }
   ],
   "source": [
    "LIST_complex = ['H','O','OH','H2O','C','CH','CH2','CH3','CH3OH','CO','HCO']\n",
    "for i, spe in enumerate(LIST_complex):\n",
    "    print(acc(spe, label=i))"
   ]
  },
  {
   "cell_type": "markdown",
   "metadata": {},
   "source": [
    "## Evaporation\n",
    "\n",
    "### Thermal Evaporation\n",
    "\n",
    "$$k_{\\mathrm{eva, thermal}}(i)=\\nu_{i} \\exp \\left[-E_{D} / kT\\right]$$\n",
    "\n",
    "$$\\begin{aligned} \\nu_{i} &=\\left(2 \\rho_{s} E_{D} / \\pi^{2} m_{i}\\right)^{1 / 2} \\\\ &=2.4 \\times 10^{12} \\mathrm{Hz}\\left(\\frac{\\rho_{s}}{10^{15} \\mathrm{cm}^{-2}}\\right)^{1 / 2}\\left(\\frac{E_{D}}{350 \\mathrm{K}}\\right)^{1 / 2}\\left(\\frac{m_{i}}{m_{\\mathrm{H}}}\\right)^{-1 / 2} \\end{aligned}$$"
   ]
  },
  {
   "cell_type": "code",
   "execution_count": 25,
   "metadata": {
    "ExecuteTime": {
     "end_time": "2019-09-17T12:17:15.942638Z",
     "start_time": "2019-09-17T12:17:15.933000Z"
    }
   },
   "outputs": [
    {
     "data": {
      "text/plain": [
       "0.8920620580763855 dimensionless"
      ]
     },
     "execution_count": 25,
     "metadata": {},
     "output_type": "execute_result"
    }
   ],
   "source": [
    "rhos = Ns/4/np.pi/r**2\n",
    "np.sqrt(rhos.in_cgs()/1e15*u.cm**2)"
   ]
  },
  {
   "cell_type": "markdown",
   "metadata": {},
   "source": [
    "As a result,\n",
    "\n",
    "$$k_{\\mathrm{eva, thermal}}(i)=2.14 \\times 10^{12} \\mathrm{Hz}\\left(\\frac{E_{D}}{350 \\mathrm{K}}\\right)^{1 / 2}\\left(\\frac{m_{i}}{m_{\\mathrm{H}}}\\right)^{-1 / 2} \\exp \\left[-E_{D} / T\\right]$$"
   ]
  },
  {
   "cell_type": "markdown",
   "metadata": {},
   "source": [
    "### Cosmic Ray Desorption\n",
    "\n",
    "$$k_{\\mathrm{eva}, \\mathrm{cosmic}}(i)=\\zeta(70 \\mathrm{K}) \\cdot \\nu_{i} \\exp \\left[-E_{D}/(70 \\mathrm{K})\\right]$$\n",
    "\n",
    "$\\zeta(70\\text{K})\\sim3.16 \\times 10^{-19}$ (Hasegawa & Herbst, 1993), thus\n",
    "\n",
    "$$k_{\\mathrm{eva}, \\mathrm{cosmic}}(i)=6.76\\times10^{-7}\\text{Hz}\\left(\\frac{E_{D}}{350 \\mathrm{K}}\\right)^{1 / 2}\\left(\\frac{m_{i}}{m_{\\mathrm{H}}}\\right)^{-1 / 2}\\exp\\left[-E_{D} / (70\\text{K})\\right]$$"
   ]
  },
  {
   "cell_type": "code",
   "execution_count": 37,
   "metadata": {
    "ExecuteTime": {
     "end_time": "2019-09-18T10:59:59.790458Z",
     "start_time": "2019-09-18T10:59:59.782990Z"
    }
   },
   "outputs": [],
   "source": [
    "def eva(spe, Eads, label=0):\n",
    "    kth = 2.14e12/u.s*np.sqrt(Eads/350/u.Kelvin)/np.sqrt(mu(spe)/mu('H'))\n",
    "    kcos = 6.76e-7/u.s*np.sqrt(Eads/350/u.Kelvin)/np.sqrt(mu(spe)/mu('H'))*np.exp(-Eads/70/u.Kelvin)\n",
    "    t = ''\n",
    "    grain_spe = ''\n",
    "    for i in spe:\n",
    "        if i.isdigit():\n",
    "            grain_spe += (t + '_dust') * (int(i) - 1)\n",
    "        else:\n",
    "            t = i\n",
    "            grain_spe += (t + '_dust')\n",
    "    react = '{},{},{},NONE,NONE,{:e}*exp(-{:f}/Tgas)+{:e}'.format(\n",
    "        label, grain_spe, spe, kth, Eads, kcos)\n",
    "    return(react)"
   ]
  },
  {
   "cell_type": "code",
   "execution_count": 39,
   "metadata": {
    "ExecuteTime": {
     "end_time": "2019-09-18T11:01:19.543778Z",
     "start_time": "2019-09-18T11:01:19.495311Z"
    }
   },
   "outputs": [
    {
     "name": "stdout",
     "output_type": "stream",
     "text": [
      "H\n",
      "350.0 K\n",
      "1.349295e-03 4.554852e-09\n",
      "0,H_dust,H,NONE,NONE,2.140000e+12*exp(-350.000000/Tgas)+4.554852e-09\n",
      "H2\n",
      "450.0 K\n",
      "4.911559e-08 8.752071e-10\n",
      "1,H_dustH_dust,H2,NONE,NONE,1.715817e+12*exp(-450.000000/Tgas)+8.752071e-10\n",
      "C\n",
      "800.0 K\n",
      "1.691573e-23 3.221193e-12\n",
      "2,C_dust,C,NONE,NONE,9.372367e+11*exp(-800.000000/Tgas)+3.221193e-12\n",
      "O\n",
      "800.0 K\n",
      "1.465626e-23 2.790931e-12\n",
      "3,O_dust,O,NONE,NONE,8.120478e+11*exp(-800.000000/Tgas)+2.790931e-12\n",
      "CH\n",
      "654.6996593219958 K\n",
      "3.003188e-17 2.230839e-11\n",
      "4,C_dustH_dust,CH,NONE,NONE,8.143805e+11*exp(-654.699659/Tgas)+2.230839e-11\n",
      "OH\n",
      "1259.0378063884534 K\n",
      "2.067631e-43 4.819390e-15\n",
      "5,O_dustH_dust,OH,NONE,NONE,9.880756e+11*exp(-1259.037806/Tgas)+4.819390e-15\n",
      "CO\n",
      "1208.6762941329152 K\n",
      "2.429079e-41 7.555119e-15\n",
      "6,C_dustO_dust,CO,NONE,NONE,7.543730e+11*exp(-1208.676294/Tgas)+7.555119e-15\n",
      "CH2\n",
      "956.8687328552245 K\n",
      "2.634868e-30 3.467060e-13\n",
      "7,C_dustH_dustH_dust,CH2,NONE,NONE,9.485058e+11*exp(-956.868733/Tgas)+3.467060e-13\n",
      "H2O\n",
      "1460.4838554106059 K\n",
      "3.859307e-52 2.837306e-16\n",
      "8,H_dustH_dustO_dust,H2O,NONE,NONE,1.033992e+12*exp(-1460.483855/Tgas)+2.837306e-16\n",
      "CH3\n",
      "1158.314781877377 K\n",
      "4.994441e-39 2.072846e-14\n",
      "9,C_dustH_dustH_dustH_dust,CH3,NONE,NONE,1.007996e+12*exp(-1158.314782/Tgas)+2.072846e-14\n",
      "CH3OH\n",
      "2064.8220024770635 K\n",
      "1.952504e-78 4.504245e-20\n",
      "10,C_dustH_dustH_dustH_dustO_dustH_dust,CH3OH,NONE,NONE,9.218749e+11*exp(-2064.822002/Tgas)+4.504245e-20\n"
     ]
    }
   ],
   "source": [
    "calorie = 41858000*u.erg\n",
    "kcal = 1e3*calorie\n",
    "Eads = {}\n",
    "Eads['H'] = 350*u.Kelvin\n",
    "Eads['H2'] = 450*u.Kelvin\n",
    "Eads['C'] = 800*u.Kelvin\n",
    "Eads['O'] = 800*u.Kelvin\n",
    "Eads['CH'] = 1.3*kcal/6.02e23/u.boltzmann_constant\n",
    "Eads['OH'] = 2.5*kcal/6.02e23/u.boltzmann_constant\n",
    "Eads['CO'] = 2.4*kcal/6.02e23/u.boltzmann_constant\n",
    "Eads['CH2'] = 1.9*kcal/6.02e23/u.boltzmann_constant\n",
    "Eads['H2O'] = 2.9*kcal/6.02e23/u.boltzmann_constant\n",
    "Eads['CH3'] = 2.3*kcal/6.02e23/u.boltzmann_constant\n",
    "Eads['CH3OH'] = 4.1*kcal/6.02e23/u.boltzmann_constant\n",
    "for item, i in enumerate(Eads.keys()):\n",
    "    print(i)\n",
    "    print(Eads[i])\n",
    "    kth = 2.14e12/u.s*np.sqrt(Eads[i]/350/u.Kelvin)/np.sqrt(mu(i)/mu('H'))*np.exp(-Eads[i]/10/u.Kelvin)\n",
    "    kcos = 6.76e-7/u.s*np.sqrt(Eads[i]/350/u.Kelvin)/np.sqrt(mu(i)/mu('H'))*np.exp(-Eads[i]/70/u.Kelvin)\n",
    "    print('{:e} {:e}'.format(kth, kcos))\n",
    "    print(eva(i, Eads[i], label=item))"
   ]
  },
  {
   "cell_type": "code",
   "execution_count": null,
   "metadata": {},
   "outputs": [],
   "source": []
  }
 ],
 "metadata": {
  "kernelspec": {
   "display_name": "Python 3",
   "language": "python",
   "name": "python3"
  },
  "language_info": {
   "codemirror_mode": {
    "name": "ipython",
    "version": 3
   },
   "file_extension": ".py",
   "mimetype": "text/x-python",
   "name": "python",
   "nbconvert_exporter": "python",
   "pygments_lexer": "ipython3",
   "version": "3.7.1"
  }
 },
 "nbformat": 4,
 "nbformat_minor": 2
}
