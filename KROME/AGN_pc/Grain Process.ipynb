{
 "cells": [
  {
   "cell_type": "markdown",
   "metadata": {},
   "source": [
    "# Grain Process"
   ]
  },
  {
   "cell_type": "code",
   "execution_count": 1,
   "metadata": {
    "ExecuteTime": {
     "end_time": "2019-09-24T12:28:34.843107Z",
     "start_time": "2019-09-24T12:28:33.340601Z"
    }
   },
   "outputs": [],
   "source": [
    "import yt.units as u\n",
    "import numpy as np\n",
    "atoms = ['H', 'C', 'O']\n",
    "mass = {'H': 1.0079, 'C': 12.0107, 'O': 15.9994}"
   ]
  },
  {
   "cell_type": "markdown",
   "metadata": {},
   "source": [
    "## Grain model"
   ]
  },
  {
   "cell_type": "code",
   "execution_count": 2,
   "metadata": {
    "ExecuteTime": {
     "end_time": "2019-09-24T12:28:34.857115Z",
     "start_time": "2019-09-24T12:28:34.845792Z"
    }
   },
   "outputs": [],
   "source": [
    "r = 1000 * u.angstrom\n",
    "V = 4 / 3 * np.pi * r**3\n",
    "rho = 3 * u.gram / u.cm**3\n",
    "Ns = 1e6\n",
    "G_M_ratio = 100\n",
    "nH = 2e4 / u.cm**3\n",
    "T = 10 * u.Kelvin\n",
    "nd = nH * u.mass_hydrogen / G_M_ratio / rho / V"
   ]
  },
  {
   "cell_type": "code",
   "execution_count": 3,
   "metadata": {
    "ExecuteTime": {
     "end_time": "2019-09-24T12:28:34.876279Z",
     "start_time": "2019-09-24T12:28:34.860423Z"
    }
   },
   "outputs": [
    {
     "data": {
      "text/plain": [
       "2.663832342956152e-08 cm**(-3)"
      ]
     },
     "execution_count": 3,
     "metadata": {},
     "output_type": "execute_result"
    }
   ],
   "source": [
    "nd.in_cgs()"
   ]
  },
  {
   "cell_type": "code",
   "execution_count": 4,
   "metadata": {
    "ExecuteTime": {
     "end_time": "2019-09-24T12:28:34.889597Z",
     "start_time": "2019-09-24T12:28:34.879779Z"
    }
   },
   "outputs": [],
   "source": [
    "def grain_spe(spe):\n",
    "    if spe == ' ' or len(spe) == 0:\n",
    "        return ('')\n",
    "    t = ''\n",
    "    grain_spe = ''\n",
    "    for i in spe:\n",
    "        if i.isdigit():\n",
    "            grain_spe += (t + '_dust') * (int(i) - 1)\n",
    "        else:\n",
    "            t = i\n",
    "            grain_spe += (t + '_dust')\n",
    "    return(grain_spe)"
   ]
  },
  {
   "cell_type": "markdown",
   "metadata": {},
   "source": [
    "## Accretion\n",
    "\n",
    "$$R_{\\mathrm{acc}}(i)=\\overline{\\sigma_{d}n_{d}}\\langle v(i)\\rangle n(i) = \\sqrt{\\frac{2 k_{B} T}{\\pi m}}\\sigma_{d}n_{d}n(i)$$\n",
    "\n",
    "$$k_i= \\sqrt{\\frac{2 k_{B} T}{\\pi m}}\\sigma_{d}n_{d}n(i)=6.0557\\sqrt{\\frac{T\\ (\\text{K})}{\\mu}}\\times10^{-14}\\text{ s}^{-1}$$"
   ]
  },
  {
   "cell_type": "code",
   "execution_count": 5,
   "metadata": {
    "ExecuteTime": {
     "end_time": "2019-09-24T12:28:34.905562Z",
     "start_time": "2019-09-24T12:28:34.893211Z"
    }
   },
   "outputs": [],
   "source": [
    "def mu(spe):\n",
    "    t = ''\n",
    "    m = 0\n",
    "    for i in spe:\n",
    "        if i.isdigit():\n",
    "            m += mass[t] * (int(i) - 1)\n",
    "        else:\n",
    "            t = i\n",
    "            m += mass[t]\n",
    "    return(m)\n",
    "\n",
    "def acc(spe, label=0):\n",
    "    react = '{},{},{},NONE,NONE,6.0557e-14*sqrt(Tgas/{:f})'.format(\n",
    "        label, spe, grain_spe(spe), mu(spe))\n",
    "    return(react)"
   ]
  },
  {
   "cell_type": "code",
   "execution_count": 6,
   "metadata": {
    "ExecuteTime": {
     "end_time": "2019-09-24T12:28:34.924228Z",
     "start_time": "2019-09-24T12:28:34.910695Z"
    }
   },
   "outputs": [
    {
     "name": "stdout",
     "output_type": "stream",
     "text": [
      "4432,H,H_dust,NONE,NONE,6.0557e-14*sqrt(Tgas/1.007900)\n",
      "4433,O,O_dust,NONE,NONE,6.0557e-14*sqrt(Tgas/15.999400)\n",
      "4434,C,C_dust,NONE,NONE,6.0557e-14*sqrt(Tgas/12.010700)\n",
      "4435,H2,H_dustH_dust,NONE,NONE,6.0557e-14*sqrt(Tgas/2.015800)\n",
      "4436,CH,C_dustH_dust,NONE,NONE,6.0557e-14*sqrt(Tgas/13.018600)\n",
      "4437,OH,O_dustH_dust,NONE,NONE,6.0557e-14*sqrt(Tgas/17.007300)\n",
      "4438,CO,C_dustO_dust,NONE,NONE,6.0557e-14*sqrt(Tgas/28.010100)\n",
      "4439,H2O,H_dustH_dustO_dust,NONE,NONE,6.0557e-14*sqrt(Tgas/18.015200)\n",
      "4440,CH2,C_dustH_dustH_dust,NONE,NONE,6.0557e-14*sqrt(Tgas/14.026500)\n",
      "4441,CH3,C_dustH_dustH_dustH_dust,NONE,NONE,6.0557e-14*sqrt(Tgas/15.034400)\n",
      "4442,HOC,H_dustO_dustC_dust,NONE,NONE,6.0557e-14*sqrt(Tgas/29.018000)\n",
      "4443,HCO,H_dustC_dustO_dust,NONE,NONE,6.0557e-14*sqrt(Tgas/29.018000)\n",
      "4444,CO2,C_dustO_dustO_dust,NONE,NONE,6.0557e-14*sqrt(Tgas/44.009500)\n",
      "4445,CHOH,C_dustH_dustO_dustH_dust,NONE,NONE,6.0557e-14*sqrt(Tgas/30.025900)\n",
      "4446,H2CO,H_dustH_dustC_dustO_dust,NONE,NONE,6.0557e-14*sqrt(Tgas/30.025900)\n",
      "4447,CH4,C_dustH_dustH_dustH_dustH_dust,NONE,NONE,6.0557e-14*sqrt(Tgas/16.042300)\n",
      "4448,CH2OH,C_dustH_dustH_dustO_dustH_dust,NONE,NONE,6.0557e-14*sqrt(Tgas/31.033800)\n",
      "4449,CH3OH,C_dustH_dustH_dustH_dustO_dustH_dust,NONE,NONE,6.0557e-14*sqrt(Tgas/32.041700)\n"
     ]
    }
   ],
   "source": [
    "LIST_complex = [\n",
    "    'H', 'O', 'C', 'H2', 'CH', 'OH', 'CO', 'H2O', 'CH2', 'CH3', 'HOC', 'HCO',\n",
    "    'CO2', 'CHOH', 'H2CO', 'CH4', 'CH2OH', 'CH3OH'\n",
    "]\n",
    "for i, spe in enumerate(LIST_complex, 4432):\n",
    "    print(acc(spe, label=i))"
   ]
  },
  {
   "cell_type": "markdown",
   "metadata": {},
   "source": [
    "## Evaporation\n",
    "\n",
    "### Thermal Evaporation\n",
    "\n",
    "$$k_{\\mathrm{eva, thermal}}(i)=\\nu_{i} \\exp \\left[-E_{D} / kT\\right]$$\n",
    "\n",
    "$$\\begin{aligned} \\nu_{i} &=\\left(2 \\rho_{s} E_{D} / \\pi^{2} m_{i}\\right)^{1 / 2} \\\\ &=2.4 \\times 10^{12} \\mathrm{Hz}\\left(\\frac{\\rho_{s}}{10^{15} \\mathrm{cm}^{-2}}\\right)^{1 / 2}\\left(\\frac{E_{D}}{350 \\mathrm{K}}\\right)^{1 / 2}\\left(\\frac{m_{i}}{m_{\\mathrm{H}}}\\right)^{-1 / 2} \\end{aligned}$$"
   ]
  },
  {
   "cell_type": "code",
   "execution_count": 7,
   "metadata": {
    "ExecuteTime": {
     "end_time": "2019-09-24T12:28:34.953611Z",
     "start_time": "2019-09-24T12:28:34.935003Z"
    }
   },
   "outputs": [
    {
     "data": {
      "text/plain": [
       "0.8920620580763855 dimensionless"
      ]
     },
     "execution_count": 7,
     "metadata": {},
     "output_type": "execute_result"
    }
   ],
   "source": [
    "rhos = Ns/4/np.pi/r**2\n",
    "np.sqrt(rhos.in_cgs()/1e15*u.cm**2)"
   ]
  },
  {
   "cell_type": "markdown",
   "metadata": {},
   "source": [
    "As a result,\n",
    "\n",
    "$$k_{\\mathrm{eva, thermal}}(i)=2.14 \\times 10^{12} \\mathrm{Hz}\\left(\\frac{E_{D}}{350 \\mathrm{K}}\\right)^{1 / 2}\\left(\\frac{m_{i}}{m_{\\mathrm{H}}}\\right)^{-1 / 2} \\exp \\left[-E_{D} / T\\right]$$"
   ]
  },
  {
   "cell_type": "markdown",
   "metadata": {},
   "source": [
    "### Cosmic Ray Desorption\n",
    "\n",
    "$$k_{\\mathrm{eva}, \\mathrm{cosmic}}(i)=\\zeta(70 \\mathrm{K}) \\cdot \\nu_{i} \\exp \\left[-E_{D}/(70 \\mathrm{K})\\right]$$\n",
    "\n",
    "$\\zeta(70\\text{K})\\sim3.16 \\times 10^{-19}$ (Hasegawa & Herbst, 1993), thus\n",
    "\n",
    "$$k_{\\mathrm{eva}, \\mathrm{cosmic}}(i)=6.76\\times10^{-7}\\text{Hz}\\left(\\frac{E_{D}}{350 \\mathrm{K}}\\right)^{1 / 2}\\left(\\frac{m_{i}}{m_{\\mathrm{H}}}\\right)^{-1 / 2}\\exp\\left[-E_{D} / (70\\text{K})\\right]$$"
   ]
  },
  {
   "cell_type": "markdown",
   "metadata": {},
   "source": [
    "### Photodesorption\n",
    "\n",
    "- R. Visser et al. 2011\n",
    "\n",
    "Laboratory experiments on the photodesorption of H2O, CO and CO2 all produce a yield of $Y\\approx10^{-3}$ molecules per grain per incident UV photon (Öberg et al. 2007, 2009a), while the yield for N2 is an order of magnitude lower (Öberg et al. 2009b). For all other ice species in our network, whose photodesorption yields have not yet been deter- mined experimentally or theoretically, the yield is set to $10^{−3}$. The photodesorption rate is\n",
    "\n",
    "$$\n",
    "R_{\\mathrm{phdes}}(X)=\\pi a^{2} n_d f(X) Y(X) F_{0} \\exp \\left(-\\tau_{\\mathrm{UV}, \\mathrm{eff}}\\right)\n",
    "$$\n",
    "\n",
    "where\n",
    "\n",
    "$$\n",
    "f(X)=\\frac{n_{\\mathrm{s}}(X)}{\\max \\left(n_{\\mathrm{ice}}, N_{s} n_{d}\\right)}\n",
    "$$\n",
    "\n",
    "Here $n_{d}=2.66\\times10^{-8}$ cm$^{-3}$, $N_s=10^6$, thus only when $n_{\\mathrm{ice}}>2.66\\times10^{-2}$ cm$^{-3}$ do we take $f(X)$ as ${n_{\\mathrm{s}}(X)}/{n_{\\mathrm{ice}}}$ and in other cases\n",
    "\n",
    "$$\n",
    "k_{\\mathrm{eva,UV}}(i)\\approx10^{-9}\\pi a^{2}  F_{0} \\exp \\left(-\\tau_{\\mathrm{UV}, \\mathrm{eff}}\\right)\n",
    "$$\n",
    "\n",
    "Photodesorption occurs even in strongly shielded regions because of cosmic-ray-induced photons, which is accounted for by setting a lower limit of $10^4$ cm$^{−2}$ s$^{−1}$ to the product $F_{0} \\exp \\left(-\\tau_{\\mathrm{UV}, \\mathrm{eff}}\\right)$."
   ]
  },
  {
   "cell_type": "code",
   "execution_count": 8,
   "metadata": {
    "ExecuteTime": {
     "end_time": "2019-09-24T12:28:34.978553Z",
     "start_time": "2019-09-24T12:28:34.961778Z"
    }
   },
   "outputs": [
    {
     "data": {
      "text/plain": [
       "3.1415926535897937e-13 cm**2"
      ]
     },
     "execution_count": 8,
     "metadata": {},
     "output_type": "execute_result"
    }
   ],
   "source": [
    "(1e-3*np.pi*r**2).in_cgs()"
   ]
  },
  {
   "cell_type": "markdown",
   "metadata": {},
   "source": [
    "Thus,\n",
    "\n",
    "$$\n",
    "k_{\\mathrm{eva,UV}}(i)=3.14\\times 10^{-19} \\text{Hz}\\cdot \\frac{F_{0}}{\\text{cm}^{-2}\\text{ s}^{-1}} \\exp \\left(-\\tau_{\\mathrm{UV}, \\mathrm{eff}}\\right)\n",
    "$$"
   ]
  },
  {
   "cell_type": "markdown",
   "metadata": {},
   "source": [
    "The UV background we use is taken from Draine 1978:\n",
    "\n",
    "$$F(E)=\\left[1.658 \\times 10^{6}(E / \\mathrm{eV})-2.152 \\times 10^{5}(E / \\mathrm{eV})^{2}+6.919 \\times 10^{3}(E / \\mathrm{eV})^{3}\\right] \\text { photons } \\mathrm{cm}^{-2} \\mathrm{s}^{-1}\\ \\mathrm{sr}^{-1}\\ \\mathrm{eV}^{-1}$$\n",
    "\n",
    "Between 5 eV and 13.6 eV,\n",
    "\n",
    "$$F=2.42 \\times 10^{8} \\text { photons } \\mathrm{cm}^{-2} \\mathrm{s}^{-1}$$\n",
    "\n",
    "Thus,\n",
    "\n",
    "$$\n",
    "k_{\\mathrm{eva,UV}}(i)=7.59\\times 10^{-11} \\text{Hz}\\exp \\left(-\\tau_{\\mathrm{UV}, \\mathrm{eff}}\\right)\n",
    "$$"
   ]
  },
  {
   "cell_type": "code",
   "execution_count": 9,
   "metadata": {
    "ExecuteTime": {
     "end_time": "2019-09-24T12:28:34.996727Z",
     "start_time": "2019-09-24T12:28:34.984347Z"
    }
   },
   "outputs": [
    {
     "data": {
      "text/plain": [
       "241594323.46166772"
      ]
     },
     "execution_count": 9,
     "metadata": {},
     "output_type": "execute_result"
    }
   ],
   "source": [
    "(1.658e6/2*(13.6**2-5**2)-2.152e5/3*(13.6**3-5**3)+6.919e3/4*(13.6**4-5**4))*4*np.pi"
   ]
  },
  {
   "cell_type": "code",
   "execution_count": 10,
   "metadata": {
    "ExecuteTime": {
     "end_time": "2019-09-24T12:28:35.014535Z",
     "start_time": "2019-09-24T12:28:35.002586Z"
    }
   },
   "outputs": [],
   "source": [
    "def eva(spe, Eads, label=0):\n",
    "    kth = 2.14e12 / u.s * np.sqrt(Eads / 350 / u.Kelvin) / np.sqrt(\n",
    "        mu(spe) / mu('H'))\n",
    "    kcos = 6.76e-7 / u.s * np.sqrt(Eads / 350 / u.Kelvin) / np.sqrt(\n",
    "        mu(spe) / mu('H')) * np.exp(-Eads / 70 / u.Kelvin)\n",
    "    kuv = 7.59e-11 / u.s\n",
    "    \n",
    "    react = '{},{},{},NONE,NONE,{:e}*exp(-{:f}/Tgas)+{:e}+{}*exp(-user_Av)'.format(\n",
    "        label, grain_spe(spe), spe, kth, Eads, kcos, kuv)\n",
    "    return (react)"
   ]
  },
  {
   "cell_type": "code",
   "execution_count": 11,
   "metadata": {
    "ExecuteTime": {
     "end_time": "2019-09-24T12:28:35.145435Z",
     "start_time": "2019-09-24T12:28:35.018949Z"
    },
    "scrolled": true
   },
   "outputs": [
    {
     "name": "stdout",
     "output_type": "stream",
     "text": [
      "H\n",
      "350.0 K\n",
      "1.349295e-03 4.554852e-09 7.590000e-11\n",
      "H2\n",
      "450.0 K\n",
      "4.911559e-08 8.752071e-10 7.590000e-11\n",
      "C\n",
      "800.0 K\n",
      "1.691573e-23 3.221193e-12 7.590000e-11\n",
      "O\n",
      "800.0 K\n",
      "1.465626e-23 2.790931e-12 7.590000e-11\n",
      "CH\n",
      "654.6996593219958 K\n",
      "3.003188e-17 2.230839e-11 7.590000e-11\n",
      "OH\n",
      "1259.0378063884534 K\n",
      "2.067631e-43 4.819390e-15 7.590000e-11\n",
      "CO\n",
      "1208.6762941329152 K\n",
      "2.429079e-41 7.555119e-15 7.590000e-11\n",
      "CH2\n",
      "956.8687328552245 K\n",
      "2.634868e-30 3.467060e-13 7.590000e-11\n",
      "H2O\n",
      "1460.4838554106059 K\n",
      "3.859307e-52 2.837306e-16 7.590000e-11\n",
      "HOC\n",
      "1762.6529289438347 K\n",
      "2.516483e-65 3.277235e-18 7.590000e-11\n",
      "HCO\n",
      "1510.0 K\n",
      "2.186636e-54 1.120531e-16 7.590000e-11\n",
      "CO2\n",
      "2500.0 K\n",
      "2.310281e-97 8.439194e-23 7.590000e-11\n",
      "CH3\n",
      "1158.314781877377 K\n",
      "4.994441e-39 2.072846e-14 7.590000e-11\n",
      "CHOH\n",
      "1913.737465710449 K\n",
      "7.074887e-72 3.877854e-19 7.590000e-11\n",
      "H2CO\n",
      "1760.0 K\n",
      "3.223057e-65 3.343687e-18 7.590000e-11\n",
      "CH4\n",
      "1360.0 K\n",
      "9.123786e-48 1.219091e-15 7.590000e-11\n",
      "CH2OH\n",
      "2165.54502698814 K\n",
      "8.580825e-83 1.111727e-20 7.590000e-11\n",
      "CH3OH\n",
      "2064.8220024770635 K\n",
      "1.952504e-78 4.504245e-20 7.590000e-11\n"
     ]
    }
   ],
   "source": [
    "calorie = 41858000 * u.erg\n",
    "kcal = 1e3 * calorie\n",
    "Eads = {}\n",
    "Eads['H'] = 350 * u.Kelvin\n",
    "Eads['H2'] = 450 * u.Kelvin\n",
    "Eads['C'] = 800 * u.Kelvin\n",
    "Eads['O'] = 800 * u.Kelvin\n",
    "Eads['CH'] = 1.3 * kcal / 6.02e23 / u.boltzmann_constant\n",
    "Eads['OH'] = 2.5 * kcal / 6.02e23 / u.boltzmann_constant\n",
    "Eads['CO'] = 2.4 * kcal / 6.02e23 / u.boltzmann_constant\n",
    "Eads['CH2'] = 1.9 * kcal / 6.02e23 / u.boltzmann_constant\n",
    "Eads['H2O'] = 2.9 * kcal / 6.02e23 / u.boltzmann_constant\n",
    "Eads['HOC'] = 3.5 * kcal / 6.02e23 / u.boltzmann_constant\n",
    "Eads['HCO'] = 1510 * u.Kelvin\n",
    "Eads['CO2'] = 2500 * u.Kelvin\n",
    "Eads['CH3'] = 2.3 * kcal / 6.02e23 / u.boltzmann_constant\n",
    "Eads['CHOH'] = 3.8 * kcal / 6.02e23 / u.boltzmann_constant\n",
    "Eads['H2CO'] = 1760 * u.Kelvin\n",
    "Eads['CH4'] = 1360 * u.Kelvin\n",
    "Eads['CH2OH'] = 4.3 * kcal / 6.02e23 / u.boltzmann_constant\n",
    "Eads['CH3OH'] = 4.1 * kcal / 6.02e23 / u.boltzmann_constant\n",
    "for item, i in enumerate(Eads.keys()):\n",
    "    print(i)\n",
    "    print(Eads[i])\n",
    "    kth = 2.14e12 / u.s * np.sqrt(Eads[i] / 350 / u.Kelvin) / np.sqrt(\n",
    "        mu(i) / mu('H')) * np.exp(-Eads[i] / 10 / u.Kelvin)\n",
    "    kcos = 6.76e-7 / u.s * np.sqrt(Eads[i] / 350 / u.Kelvin) / np.sqrt(\n",
    "        mu(i) / mu('H')) * np.exp(-Eads[i] / 70 / u.Kelvin)\n",
    "    kuv = 7.59e-11\n",
    "    print('{:e} {:e} {:e}'.format(kth, kcos, kuv))"
   ]
  },
  {
   "cell_type": "code",
   "execution_count": 12,
   "metadata": {
    "ExecuteTime": {
     "end_time": "2019-09-24T12:28:35.210137Z",
     "start_time": "2019-09-24T12:28:35.152389Z"
    },
    "scrolled": false
   },
   "outputs": [
    {
     "name": "stdout",
     "output_type": "stream",
     "text": [
      "4450,H_dust,H,NONE,NONE,2.140000e+12*exp(-350.000000/Tgas)+4.554852e-09+7.59e-11*exp(-user_Av)\n",
      "4451,H_dustH_dust,H2,NONE,NONE,1.715817e+12*exp(-450.000000/Tgas)+8.752071e-10+7.59e-11*exp(-user_Av)\n",
      "4452,C_dust,C,NONE,NONE,9.372367e+11*exp(-800.000000/Tgas)+3.221193e-12+7.59e-11*exp(-user_Av)\n",
      "4453,O_dust,O,NONE,NONE,8.120478e+11*exp(-800.000000/Tgas)+2.790931e-12+7.59e-11*exp(-user_Av)\n",
      "4454,C_dustH_dust,CH,NONE,NONE,8.143805e+11*exp(-654.699659/Tgas)+2.230839e-11+7.59e-11*exp(-user_Av)\n",
      "4455,O_dustH_dust,OH,NONE,NONE,9.880756e+11*exp(-1259.037806/Tgas)+4.819390e-15+7.59e-11*exp(-user_Av)\n",
      "4456,C_dustO_dust,CO,NONE,NONE,7.543730e+11*exp(-1208.676294/Tgas)+7.555119e-15+7.59e-11*exp(-user_Av)\n",
      "4457,C_dustH_dustH_dust,CH2,NONE,NONE,9.485058e+11*exp(-956.868733/Tgas)+3.467060e-13+7.59e-11*exp(-user_Av)\n",
      "4458,H_dustH_dustO_dust,H2O,NONE,NONE,1.033992e+12*exp(-1460.483855/Tgas)+2.837306e-16+7.59e-11*exp(-user_Av)\n",
      "4459,H_dustO_dustC_dust,HOC,NONE,NONE,8.950311e+11*exp(-1762.652929/Tgas)+3.277235e-18+7.59e-11*exp(-user_Av)\n",
      "4460,H_dustC_dustO_dust,HCO,NONE,NONE,8.284059e+11*exp(-1510.000000/Tgas)+1.120531e-16+7.59e-11*exp(-user_Av)\n",
      "4461,C_dustO_dustO_dust,CO2,NONE,NONE,8.655362e+11*exp(-2500.000000/Tgas)+8.439194e-23+7.59e-11*exp(-user_Av)\n",
      "4462,C_dustH_dustH_dustH_dust,CH3,NONE,NONE,1.007996e+12*exp(-1158.314782/Tgas)+2.072846e-14+7.59e-11*exp(-user_Av)\n",
      "4463,C_dustH_dustO_dustH_dust,CHOH,NONE,NONE,9.168148e+11*exp(-1913.737466/Tgas)+3.877854e-19+7.59e-11*exp(-user_Av)\n",
      "4464,H_dustH_dustC_dustO_dust,H2CO,NONE,NONE,8.792184e+11*exp(-1760.000000/Tgas)+3.343687e-18+7.59e-11*exp(-user_Av)\n",
      "4465,C_dustH_dustH_dustH_dustH_dust,CH4,NONE,NONE,1.057364e+12*exp(-1360.000000/Tgas)+1.219091e-15+7.59e-11*exp(-user_Av)\n",
      "4466,C_dustH_dustH_dustO_dustH_dust,CH2OH,NONE,NONE,9.593004e+11*exp(-2165.545027/Tgas)+1.111727e-20+7.59e-11*exp(-user_Av)\n",
      "4467,C_dustH_dustH_dustH_dustO_dustH_dust,CH3OH,NONE,NONE,9.218749e+11*exp(-2064.822002/Tgas)+4.504245e-20+7.59e-11*exp(-user_Av)\n"
     ]
    }
   ],
   "source": [
    "for item, i in enumerate(Eads.keys(), 4450):\n",
    "    print(eva(i, Eads[i], label=item))"
   ]
  },
  {
   "cell_type": "markdown",
   "metadata": {},
   "source": [
    "## Surface reactions\n",
    "\n",
    "$$k_{ij}=\\kappa_{ij}(R_{\\mathrm{diff},i}+R_{\\mathrm{diff},j})/n_d$$\n",
    "\n",
    "$$\\kappa_{ij}=\\exp[-2(1 \\overset{\\circ}{\\text{A}}/\\hbar)(2\\mu E_a)^{1/2}]$$\n",
    "\n",
    "$$R_{\\mathrm{diff},i}=N_s^{-1}\\nu_o\\exp[-E_b/T]\\approx N_s^{-1}\\nu_i\\exp[-0.3E_D/T]=2.14 \\times 10^{6} \\mathrm{Hz}\\left(\\frac{E_{D}}{350 \\mathrm{K}}\\right)^{1 / 2}\\left(\\frac{m_{i}}{m_{\\mathrm{H}}}\\right)^{-1 / 2}\\exp[-0.3E_D/T]$$\n",
    "\n",
    "except for $\\mathrm{H}$ and $\\mathrm{H}_2$, of which\n",
    "\n",
    "$$R_{\\mathrm{diff},i}=\\nu_{i} \\exp \\left[-(2 \\overset{\\circ}{\\text{A}} / \\hbar)\\left(2 m E_{b}\\right)^{1 / 2}\\right]=2.14 \\times 10^{12} \\mathrm{Hz}\\left(\\frac{E_{D}}{350 \\mathrm{K}}\\right)^{1 / 2}\\left(\\frac{m_{i}}{m_{\\mathrm{H}}}\\right)^{-1 / 2}\\exp \\left[-(2 \\overset{\\circ}{\\text{A}} / \\hbar)\\left(2 m E_{b}\\right)^{1 / 2}\\right]$$"
   ]
  },
  {
   "cell_type": "code",
   "execution_count": 13,
   "metadata": {
    "ExecuteTime": {
     "end_time": "2019-09-24T12:28:35.576883Z",
     "start_time": "2019-09-24T12:28:35.214087Z"
    }
   },
   "outputs": [],
   "source": [
    "import pandas as pd"
   ]
  },
  {
   "cell_type": "code",
   "execution_count": 14,
   "metadata": {
    "ExecuteTime": {
     "end_time": "2019-09-24T12:28:35.593211Z",
     "start_time": "2019-09-24T12:28:35.580664Z"
    }
   },
   "outputs": [],
   "source": [
    "def Rdiff(spe, T=10 * u.K):\n",
    "    if spe in ['H2', 'H']:\n",
    "        return (2.14e6 / u.s * np.sqrt(Eads[spe] / 350 / u.K) /\n",
    "                np.sqrt(mu(spe) / mu('H')) * np.exp(\n",
    "                    (-(2 * 0.3 * Eads[spe] * mu(spe) / mu('H') *\n",
    "                       u.mass_hydrogen * u.boltzmann_constant)**(1 / 2) *\n",
    "                     (2 * u.angstrom / u.hbar)).in_cgs()))\n",
    "    else:\n",
    "        #2.14e6 - Ns=1e6\n",
    "        #3.6e6 - ns=1.4e15\n",
    "        return (2.14e6 / u.s * np.sqrt(Eads[spe] / 350 / u.K) /\n",
    "                np.sqrt(mu(spe) / mu('H')) * np.exp(-0.3 * Eads[spe] / T))"
   ]
  },
  {
   "cell_type": "code",
   "execution_count": 15,
   "metadata": {
    "ExecuteTime": {
     "end_time": "2019-09-24T12:28:35.617121Z",
     "start_time": "2019-09-24T12:28:35.598407Z"
    }
   },
   "outputs": [
    {
     "data": {
      "text/plain": [
       "(32810.63869021714 1/s, 2113.2928673734577 1/s, 3.538194816255683e-05 1/s)"
      ]
     },
     "execution_count": 15,
     "metadata": {},
     "output_type": "execute_result"
    }
   ],
   "source": [
    "Rdiff('H'), Rdiff('H2'), Rdiff('C')"
   ]
  },
  {
   "cell_type": "code",
   "execution_count": 16,
   "metadata": {
    "ExecuteTime": {
     "end_time": "2019-09-24T12:28:35.634606Z",
     "start_time": "2019-09-24T12:28:35.624445Z"
    }
   },
   "outputs": [],
   "source": [
    "def kappa(spei, spej, Ea):\n",
    "    muij = mu(spei) * mu(spej) / (mu(spei) + mu(spej)) * (u.mass_hydrogen /\n",
    "                                                          mu('H'))\n",
    "    return np.exp((-2 * (u.angstrom / u.hbar) * (2 * muij * Ea * u.boltzmann_constant)**(1 / 2)).in_cgs())"
   ]
  },
  {
   "cell_type": "code",
   "execution_count": 17,
   "metadata": {
    "ExecuteTime": {
     "end_time": "2019-09-24T12:28:35.652000Z",
     "start_time": "2019-09-24T12:28:35.642650Z"
    }
   },
   "outputs": [
    {
     "data": {
      "text/plain": [
       "2.663832342956152e-08 cm**(-3)"
      ]
     },
     "execution_count": 17,
     "metadata": {},
     "output_type": "execute_result"
    }
   ],
   "source": [
    "nd.in_cgs()"
   ]
  },
  {
   "cell_type": "code",
   "execution_count": 21,
   "metadata": {
    "ExecuteTime": {
     "end_time": "2019-09-24T12:42:58.022132Z",
     "start_time": "2019-09-24T12:42:57.975404Z"
    },
    "scrolled": true
   },
   "outputs": [
    {
     "data": {
      "text/html": [
       "<div>\n",
       "<style scoped>\n",
       "    .dataframe tbody tr th:only-of-type {\n",
       "        vertical-align: middle;\n",
       "    }\n",
       "\n",
       "    .dataframe tbody tr th {\n",
       "        vertical-align: top;\n",
       "    }\n",
       "\n",
       "    .dataframe thead th {\n",
       "        text-align: right;\n",
       "    }\n",
       "</style>\n",
       "<table border=\"1\" class=\"dataframe\">\n",
       "  <thead>\n",
       "    <tr style=\"text-align: right;\">\n",
       "      <th></th>\n",
       "      <th>R1</th>\n",
       "      <th>R2</th>\n",
       "      <th>P1</th>\n",
       "      <th>P2</th>\n",
       "      <th>k_ij</th>\n",
       "      <th>Ea</th>\n",
       "    </tr>\n",
       "  </thead>\n",
       "  <tbody>\n",
       "    <tr>\n",
       "      <th>0</th>\n",
       "      <td>H</td>\n",
       "      <td>H</td>\n",
       "      <td>H2</td>\n",
       "      <td></td>\n",
       "      <td>3.880000e+12</td>\n",
       "      <td>0</td>\n",
       "    </tr>\n",
       "    <tr>\n",
       "      <th>1</th>\n",
       "      <td>H</td>\n",
       "      <td>C</td>\n",
       "      <td>CH</td>\n",
       "      <td></td>\n",
       "      <td>1.940000e+12</td>\n",
       "      <td>0</td>\n",
       "    </tr>\n",
       "    <tr>\n",
       "      <th>2</th>\n",
       "      <td>H</td>\n",
       "      <td>O</td>\n",
       "      <td>OH</td>\n",
       "      <td></td>\n",
       "      <td>1.940000e+12</td>\n",
       "      <td>0</td>\n",
       "    </tr>\n",
       "    <tr>\n",
       "      <th>3</th>\n",
       "      <td>H</td>\n",
       "      <td>CH</td>\n",
       "      <td>CH2</td>\n",
       "      <td></td>\n",
       "      <td>1.940000e+12</td>\n",
       "      <td>0</td>\n",
       "    </tr>\n",
       "    <tr>\n",
       "      <th>4</th>\n",
       "      <td>H</td>\n",
       "      <td>OH</td>\n",
       "      <td>H2O</td>\n",
       "      <td></td>\n",
       "      <td>1.940000e+12</td>\n",
       "      <td>0</td>\n",
       "    </tr>\n",
       "    <tr>\n",
       "      <th>5</th>\n",
       "      <td>H</td>\n",
       "      <td>CO</td>\n",
       "      <td>HOC</td>\n",
       "      <td></td>\n",
       "      <td>2.570000e+06</td>\n",
       "      <td>1000</td>\n",
       "    </tr>\n",
       "    <tr>\n",
       "      <th>6</th>\n",
       "      <td>H</td>\n",
       "      <td>CO</td>\n",
       "      <td>HCO</td>\n",
       "      <td></td>\n",
       "      <td>2.570000e+06</td>\n",
       "      <td>1000</td>\n",
       "    </tr>\n",
       "    <tr>\n",
       "      <th>7</th>\n",
       "      <td>H</td>\n",
       "      <td>CH2</td>\n",
       "      <td>CH3</td>\n",
       "      <td></td>\n",
       "      <td>1.940000e+12</td>\n",
       "      <td>0</td>\n",
       "    </tr>\n",
       "    <tr>\n",
       "      <th>8</th>\n",
       "      <td>H</td>\n",
       "      <td>CH3</td>\n",
       "      <td>CH4</td>\n",
       "      <td></td>\n",
       "      <td>1.940000e+12</td>\n",
       "      <td>0</td>\n",
       "    </tr>\n",
       "    <tr>\n",
       "      <th>9</th>\n",
       "      <td>H</td>\n",
       "      <td>HOC</td>\n",
       "      <td>CHOH</td>\n",
       "      <td></td>\n",
       "      <td>1.940000e+12</td>\n",
       "      <td>0</td>\n",
       "    </tr>\n",
       "    <tr>\n",
       "      <th>10</th>\n",
       "      <td>H</td>\n",
       "      <td>HCO</td>\n",
       "      <td>H2CO</td>\n",
       "      <td></td>\n",
       "      <td>1.940000e+12</td>\n",
       "      <td>0</td>\n",
       "    </tr>\n",
       "    <tr>\n",
       "      <th>11</th>\n",
       "      <td>H</td>\n",
       "      <td>CH3</td>\n",
       "      <td>CH4</td>\n",
       "      <td></td>\n",
       "      <td>1.940000e+12</td>\n",
       "      <td>0</td>\n",
       "    </tr>\n",
       "    <tr>\n",
       "      <th>12</th>\n",
       "      <td>H</td>\n",
       "      <td>H2CO</td>\n",
       "      <td>HCO</td>\n",
       "      <td>H2</td>\n",
       "      <td>5.060000e+04</td>\n",
       "      <td>1850</td>\n",
       "    </tr>\n",
       "    <tr>\n",
       "      <th>13</th>\n",
       "      <td>H</td>\n",
       "      <td>CHOH</td>\n",
       "      <td>CH2OH</td>\n",
       "      <td></td>\n",
       "      <td>1.940000e+12</td>\n",
       "      <td>0</td>\n",
       "    </tr>\n",
       "    <tr>\n",
       "      <th>14</th>\n",
       "      <td>H</td>\n",
       "      <td>CH2OH</td>\n",
       "      <td>CH3OH</td>\n",
       "      <td></td>\n",
       "      <td>1.940000e+12</td>\n",
       "      <td>0</td>\n",
       "    </tr>\n",
       "    <tr>\n",
       "      <th>15</th>\n",
       "      <td>H2</td>\n",
       "      <td>OH</td>\n",
       "      <td>H2O</td>\n",
       "      <td>H</td>\n",
       "      <td>2.200000e-02</td>\n",
       "      <td>2600</td>\n",
       "    </tr>\n",
       "    <tr>\n",
       "      <th>16</th>\n",
       "      <td>C</td>\n",
       "      <td>O</td>\n",
       "      <td>CO</td>\n",
       "      <td></td>\n",
       "      <td>3.460000e+03</td>\n",
       "      <td>0</td>\n",
       "    </tr>\n",
       "    <tr>\n",
       "      <th>17</th>\n",
       "      <td>C</td>\n",
       "      <td>OH</td>\n",
       "      <td>HOC</td>\n",
       "      <td></td>\n",
       "      <td>9.300000e+02</td>\n",
       "      <td>0</td>\n",
       "    </tr>\n",
       "    <tr>\n",
       "      <th>18</th>\n",
       "      <td>C</td>\n",
       "      <td>OH</td>\n",
       "      <td>CO</td>\n",
       "      <td>H</td>\n",
       "      <td>9.300000e+02</td>\n",
       "      <td>0</td>\n",
       "    </tr>\n",
       "    <tr>\n",
       "      <th>19</th>\n",
       "      <td>O</td>\n",
       "      <td>CH</td>\n",
       "      <td>HCO</td>\n",
       "      <td></td>\n",
       "      <td>1.330000e+05</td>\n",
       "      <td>0</td>\n",
       "    </tr>\n",
       "    <tr>\n",
       "      <th>20</th>\n",
       "      <td>O</td>\n",
       "      <td>CO</td>\n",
       "      <td>CO2</td>\n",
       "      <td></td>\n",
       "      <td>1.610000e+03</td>\n",
       "      <td>0</td>\n",
       "    </tr>\n",
       "    <tr>\n",
       "      <th>21</th>\n",
       "      <td>O</td>\n",
       "      <td>HCO</td>\n",
       "      <td>CO2</td>\n",
       "      <td>H</td>\n",
       "      <td>1.610000e+03</td>\n",
       "      <td>0</td>\n",
       "    </tr>\n",
       "    <tr>\n",
       "      <th>22</th>\n",
       "      <td>O</td>\n",
       "      <td>CH2</td>\n",
       "      <td>H2CO</td>\n",
       "      <td></td>\n",
       "      <td>1.610000e+03</td>\n",
       "      <td>0</td>\n",
       "    </tr>\n",
       "    <tr>\n",
       "      <th>23</th>\n",
       "      <td>O</td>\n",
       "      <td>CH3</td>\n",
       "      <td>CH2OH</td>\n",
       "      <td></td>\n",
       "      <td>1.610000e+03</td>\n",
       "      <td>0</td>\n",
       "    </tr>\n",
       "    <tr>\n",
       "      <th>24</th>\n",
       "      <td>CH</td>\n",
       "      <td>OH</td>\n",
       "      <td>CHOH</td>\n",
       "      <td></td>\n",
       "      <td>1.310000e+05</td>\n",
       "      <td>0</td>\n",
       "    </tr>\n",
       "    <tr>\n",
       "      <th>25</th>\n",
       "      <td>CH2</td>\n",
       "      <td>OH</td>\n",
       "      <td>CH2OH</td>\n",
       "      <td></td>\n",
       "      <td>1.710000e+01</td>\n",
       "      <td>0</td>\n",
       "    </tr>\n",
       "  </tbody>\n",
       "</table>\n",
       "</div>"
      ],
      "text/plain": [
       "     R1     R2     P1  P2          k_ij    Ea\n",
       "0     H      H     H2      3.880000e+12     0\n",
       "1     H      C     CH      1.940000e+12     0\n",
       "2     H      O     OH      1.940000e+12     0\n",
       "3     H     CH    CH2      1.940000e+12     0\n",
       "4     H     OH    H2O      1.940000e+12     0\n",
       "5     H     CO    HOC      2.570000e+06  1000\n",
       "6     H     CO    HCO      2.570000e+06  1000\n",
       "7     H    CH2    CH3      1.940000e+12     0\n",
       "8     H    CH3    CH4      1.940000e+12     0\n",
       "9     H    HOC   CHOH      1.940000e+12     0\n",
       "10    H    HCO   H2CO      1.940000e+12     0\n",
       "11    H    CH3    CH4      1.940000e+12     0\n",
       "12    H   H2CO    HCO  H2  5.060000e+04  1850\n",
       "13    H   CHOH  CH2OH      1.940000e+12     0\n",
       "14    H  CH2OH  CH3OH      1.940000e+12     0\n",
       "15   H2     OH    H2O   H  2.200000e-02  2600\n",
       "16    C      O     CO      3.460000e+03     0\n",
       "17    C     OH    HOC      9.300000e+02     0\n",
       "18    C     OH     CO   H  9.300000e+02     0\n",
       "19    O     CH    HCO      1.330000e+05     0\n",
       "20    O     CO    CO2      1.610000e+03     0\n",
       "21    O    HCO    CO2   H  1.610000e+03     0\n",
       "22    O    CH2   H2CO      1.610000e+03     0\n",
       "23    O    CH3  CH2OH      1.610000e+03     0\n",
       "24   CH     OH   CHOH      1.310000e+05     0\n",
       "25  CH2     OH  CH2OH      1.710000e+01     0"
      ]
     },
     "execution_count": 21,
     "metadata": {},
     "output_type": "execute_result"
    }
   ],
   "source": [
    "pd.read_csv('../../Notes/grain_reaction.csv').fillna('')"
   ]
  },
  {
   "cell_type": "code",
   "execution_count": 22,
   "metadata": {
    "ExecuteTime": {
     "end_time": "2019-09-24T12:43:00.034241Z",
     "start_time": "2019-09-24T12:42:59.909823Z"
    }
   },
   "outputs": [
    {
     "name": "stdout",
     "output_type": "stream",
     "text": [
      "R1             H\n",
      "R2             H\n",
      "P1            H2\n",
      "P2              \n",
      "k_ij    3.88e+12\n",
      "Ea             0\n",
      "Name: 0, dtype: object\n",
      "2.463416e+12\n",
      "R1             H\n",
      "R2             C\n",
      "P1            CH\n",
      "P2              \n",
      "k_ij    1.94e+12\n",
      "Ea             0\n",
      "Name: 1, dtype: object\n",
      "1.231708e+12\n",
      "R1             H\n",
      "R2             O\n",
      "P1            OH\n",
      "P2              \n",
      "k_ij    1.94e+12\n",
      "Ea             0\n",
      "Name: 2, dtype: object\n",
      "1.231708e+12\n",
      "R1             H\n",
      "R2            CH\n",
      "P1           CH2\n",
      "P2              \n",
      "k_ij    1.94e+12\n",
      "Ea             0\n",
      "Name: 3, dtype: object\n",
      "1.231708e+12\n",
      "R1             H\n",
      "R2            OH\n",
      "P1           H2O\n",
      "P2              \n",
      "k_ij    1.94e+12\n",
      "Ea             0\n",
      "Name: 4, dtype: object\n",
      "1.231708e+12\n",
      "R1             H\n",
      "R2            CO\n",
      "P1           HOC\n",
      "P2              \n",
      "k_ij    2.57e+06\n",
      "Ea          1000\n",
      "Name: 5, dtype: object\n",
      "3.883765e+06\n",
      "R1             H\n",
      "R2            CO\n",
      "P1           HCO\n",
      "P2              \n",
      "k_ij    2.57e+06\n",
      "Ea          1000\n",
      "Name: 6, dtype: object\n",
      "3.883765e+06\n",
      "R1             H\n",
      "R2           CH2\n",
      "P1           CH3\n",
      "P2              \n",
      "k_ij    1.94e+12\n",
      "Ea             0\n",
      "Name: 7, dtype: object\n",
      "1.231708e+12\n",
      "R1             H\n",
      "R2           CH3\n",
      "P1           CH4\n",
      "P2              \n",
      "k_ij    1.94e+12\n",
      "Ea             0\n",
      "Name: 8, dtype: object\n",
      "1.231708e+12\n",
      "R1             H\n",
      "R2           HOC\n",
      "P1          CHOH\n",
      "P2              \n",
      "k_ij    1.94e+12\n",
      "Ea             0\n",
      "Name: 9, dtype: object\n",
      "1.231708e+12\n",
      "R1             H\n",
      "R2           HCO\n",
      "P1          H2CO\n",
      "P2              \n",
      "k_ij    1.94e+12\n",
      "Ea             0\n",
      "Name: 10, dtype: object\n",
      "1.231708e+12\n",
      "R1             H\n",
      "R2           CH3\n",
      "P1           CH4\n",
      "P2              \n",
      "k_ij    1.94e+12\n",
      "Ea             0\n",
      "Name: 11, dtype: object\n",
      "1.231708e+12\n",
      "R1          H\n",
      "R2       H2CO\n",
      "P1        HCO\n",
      "P2         H2\n",
      "k_ij    50600\n",
      "Ea       1850\n",
      "Name: 12, dtype: object\n",
      "3.974229e+04\n",
      "R1             H\n",
      "R2          CHOH\n",
      "P1         CH2OH\n",
      "P2              \n",
      "k_ij    1.94e+12\n",
      "Ea             0\n",
      "Name: 13, dtype: object\n",
      "1.231708e+12\n",
      "R1             H\n",
      "R2         CH2OH\n",
      "P1         CH3OH\n",
      "P2              \n",
      "k_ij    1.94e+12\n",
      "Ea             0\n",
      "Name: 14, dtype: object\n",
      "1.231708e+12\n",
      "R1         H2\n",
      "R2         OH\n",
      "P1        H2O\n",
      "P2          H\n",
      "k_ij    0.022\n",
      "Ea       2600\n",
      "Name: 15, dtype: object\n",
      "6.705112e-02\n",
      "R1         C\n",
      "R2         O\n",
      "P1        CO\n",
      "P2          \n",
      "k_ij    3460\n",
      "Ea         0\n",
      "Name: 16, dtype: object\n",
      "2.479054e+03\n",
      "R1        C\n",
      "R2       OH\n",
      "P1      HOC\n",
      "P2         \n",
      "k_ij    930\n",
      "Ea        0\n",
      "Name: 17, dtype: object\n",
      "1.328236e+03\n",
      "R1        C\n",
      "R2       OH\n",
      "P1       CO\n",
      "P2        H\n",
      "k_ij    930\n",
      "Ea        0\n",
      "Name: 18, dtype: object\n",
      "1.328236e+03\n",
      "R1           O\n",
      "R2          CH\n",
      "P1         HCO\n",
      "P2            \n",
      "k_ij    133000\n",
      "Ea           0\n",
      "Name: 19, dtype: object\n",
      "9.138000e+04\n",
      "R1         O\n",
      "R2        CO\n",
      "P1       CO2\n",
      "P2          \n",
      "k_ij    1610\n",
      "Ea         0\n",
      "Name: 20, dtype: object\n",
      "1.150824e+03\n",
      "R1         O\n",
      "R2       HCO\n",
      "P1       CO2\n",
      "P2         H\n",
      "k_ij    1610\n",
      "Ea         0\n",
      "Name: 21, dtype: object\n",
      "1.150819e+03\n",
      "R1         O\n",
      "R2       CH2\n",
      "P1      H2CO\n",
      "P2          \n",
      "k_ij    1610\n",
      "Ea         0\n",
      "Name: 22, dtype: object\n",
      "1.162971e+03\n",
      "R1          O\n",
      "R2        CH3\n",
      "P1      CH2OH\n",
      "P2           \n",
      "k_ij     1610\n",
      "Ea          0\n",
      "Name: 23, dtype: object\n",
      "1.150850e+03\n",
      "R1          CH\n",
      "R2          OH\n",
      "P1        CHOH\n",
      "P2            \n",
      "k_ij    131000\n",
      "Ea           0\n",
      "Name: 24, dtype: object\n",
      "9.022918e+04\n",
      "R1        CH2\n",
      "R2         OH\n",
      "P1      CH2OH\n",
      "P2           \n",
      "k_ij     17.1\n",
      "Ea          0\n",
      "Name: 25, dtype: object\n",
      "1.215349e+01\n"
     ]
    }
   ],
   "source": [
    "reaction = pd.read_csv('../../Notes/grain_reaction.csv').fillna('')\n",
    "for i in reaction.index:\n",
    "    rec = reaction.loc[i]\n",
    "    print(rec)\n",
    "    k = kappa(rec['R1'], rec['R2'],\n",
    "              rec['Ea'] * u.K) * (Rdiff(rec['R1']) + Rdiff(rec['R2'])) / nd\n",
    "    print('{:e}'.format(k.in_cgs()))"
   ]
  },
  {
   "cell_type": "code",
   "execution_count": 23,
   "metadata": {
    "ExecuteTime": {
     "end_time": "2019-09-24T12:43:01.766466Z",
     "start_time": "2019-09-24T12:43:01.651382Z"
    },
    "scrolled": false
   },
   "outputs": [
    {
     "name": "stdout",
     "output_type": "stream",
     "text": [
      "4468,H_dust,H_dust,H_dustH_dust,,NONE,NONE,1.231708e+12+1.231708e+12\n",
      "4469,H_dust,C_dust,C_dustH_dust,,NONE,NONE,1.231708e+12+3.518377e+13*exp(-0.3*800.0/Tgas)\n",
      "4470,H_dust,O_dust,O_dustH_dust,,NONE,NONE,1.231708e+12+3.048420e+13*exp(-0.3*800.0/Tgas)\n",
      "4471,H_dust,C_dustH_dust,C_dustH_dustH_dust,,NONE,NONE,1.231708e+12+3.057176e+13*exp(-0.3*654.6996593219958/Tgas)\n",
      "4472,H_dust,O_dustH_dust,H_dustH_dustO_dust,,NONE,NONE,1.231708e+12+3.709226e+13*exp(-0.3*1259.0378063884534/Tgas)\n",
      "4473,H_dust,C_dustO_dust,H_dustO_dustC_dust,,NONE,NONE,3.883765e+06+8.929445e+07*exp(-0.3*1208.6762941329152/Tgas)\n",
      "4474,H_dust,C_dustO_dust,H_dustC_dustO_dust,,NONE,NONE,3.883765e+06+8.929445e+07*exp(-0.3*1208.6762941329152/Tgas)\n",
      "4475,H_dust,C_dustH_dustH_dust,C_dustH_dustH_dustH_dust,,NONE,NONE,1.231708e+12+3.560681e+13*exp(-0.3*956.8687328552245/Tgas)\n",
      "4476,H_dust,C_dustH_dustH_dustH_dust,C_dustH_dustH_dustH_dustH_dust,,NONE,NONE,1.231708e+12+3.784006e+13*exp(-0.3*1158.314781877377/Tgas)\n",
      "4477,H_dust,H_dustO_dustC_dust,C_dustH_dustO_dustH_dust,,NONE,NONE,1.231708e+12+3.359938e+13*exp(-0.3*1762.6529289438347/Tgas)\n",
      "4478,H_dust,H_dustC_dustO_dust,H_dustH_dustC_dustO_dust,,NONE,NONE,1.231708e+12+3.109828e+13*exp(-0.3*1510.0/Tgas)\n",
      "4479,H_dust,C_dustH_dustH_dustH_dust,C_dustH_dustH_dustH_dustH_dust,,NONE,NONE,1.231708e+12+3.784006e+13*exp(-0.3*1158.314781877377/Tgas)\n",
      "4480,H_dust,H_dustH_dustC_dustO_dust,H_dustC_dustO_dust,H_dustH_dust,NONE,NONE,3.974229e+04+1.064964e+06*exp(-0.3*1760.0/Tgas)\n",
      "4481,H_dust,C_dustH_dustO_dustH_dust,C_dustH_dustH_dustO_dustH_dust,,NONE,NONE,1.231708e+12+3.441714e+13*exp(-0.3*1913.737465710449/Tgas)\n",
      "4482,H_dust,C_dustH_dustH_dustO_dustH_dust,C_dustH_dustH_dustH_dustO_dustH_dust,,NONE,NONE,1.231708e+12+3.601204e+13*exp(-0.3*2165.54502698814/Tgas)\n",
      "4483,H_dustH_dust,O_dustH_dust,H_dustH_dustO_dust,H_dust,NONE,NONE,6.705112e-02+3.134993e+01*exp(-0.3*1259.0378063884534/Tgas)\n",
      "4484,C_dust,O_dust,C_dustO_dust,,NONE,NONE,3.518377e+13*exp(-0.3*800.0/Tgas)+3.048420e+13*exp(-0.3*800.0/Tgas)\n",
      "4485,C_dust,O_dustH_dust,H_dustO_dustC_dust,,NONE,NONE,3.518377e+13*exp(-0.3*800.0/Tgas)+3.709226e+13*exp(-0.3*1259.0378063884534/Tgas)\n",
      "4486,C_dust,O_dustH_dust,C_dustO_dust,H_dust,NONE,NONE,3.518377e+13*exp(-0.3*800.0/Tgas)+3.709226e+13*exp(-0.3*1259.0378063884534/Tgas)\n",
      "4487,O_dust,C_dustH_dust,H_dustC_dustO_dust,,NONE,NONE,3.048420e+13*exp(-0.3*800.0/Tgas)+3.057176e+13*exp(-0.3*654.6996593219958/Tgas)\n",
      "4488,O_dust,C_dustO_dust,C_dustO_dustO_dust,,NONE,NONE,3.048420e+13*exp(-0.3*800.0/Tgas)+2.831909e+13*exp(-0.3*1208.6762941329152/Tgas)\n",
      "4489,O_dust,H_dustC_dustO_dust,C_dustO_dustO_dust,H_dust,NONE,NONE,3.048420e+13*exp(-0.3*800.0/Tgas)+3.109828e+13*exp(-0.3*1510.0/Tgas)\n",
      "4490,O_dust,C_dustH_dustH_dust,H_dustH_dustC_dustO_dust,,NONE,NONE,3.048420e+13*exp(-0.3*800.0/Tgas)+3.560681e+13*exp(-0.3*956.8687328552245/Tgas)\n",
      "4491,O_dust,C_dustH_dustH_dustH_dust,C_dustH_dustH_dustO_dustH_dust,,NONE,NONE,3.048420e+13*exp(-0.3*800.0/Tgas)+3.784006e+13*exp(-0.3*1158.314781877377/Tgas)\n",
      "4492,C_dustH_dust,O_dustH_dust,C_dustH_dustO_dustH_dust,,NONE,NONE,3.057176e+13*exp(-0.3*654.6996593219958/Tgas)+3.709226e+13*exp(-0.3*1259.0378063884534/Tgas)\n",
      "4493,C_dustH_dustH_dust,O_dustH_dust,C_dustH_dustH_dustO_dustH_dust,,NONE,NONE,3.560681e+13*exp(-0.3*956.8687328552245/Tgas)+3.709226e+13*exp(-0.3*1259.0378063884534/Tgas)\n"
     ]
    }
   ],
   "source": [
    "for item, i in enumerate(reaction.index, 4468):\n",
    "    rec = reaction.loc[i]\n",
    "    ki = (kappa(rec['R1'], rec['R2'], rec['Ea'] * u.K) * Rdiff(rec['R1']) / nd).in_cgs()\n",
    "    kj = (kappa(rec['R1'], rec['R2'], rec['Ea'] * u.K) * Rdiff(rec['R2']) / nd).in_cgs()\n",
    "    if not rec['R1'] in ['H', 'H2']:\n",
    "        ki /= np.exp(-0.3 * Eads[rec['R1']] / 10 / u.K)\n",
    "        ki_string = '{:e}*exp(-0.3*{}/Tgas)'.format(ki, Eads[rec['R1']])\n",
    "    else:\n",
    "        ki_string = '{:e}'.format(ki)\n",
    "    if not rec['R2'] in ['H', 'H2']:\n",
    "        kj /= np.exp(-0.3 * Eads[rec['R2']] / 10 / u.K)\n",
    "        kj_string = '{:e}*exp(-0.3*{}/Tgas)'.format(kj, Eads[rec['R2']])\n",
    "    else:\n",
    "        kj_string = '{:e}'.format(kj)\n",
    "    print('{},{},{},{},{},NONE,NONE,{}+{}'.format(item, grain_spe(rec['R1']),\n",
    "                                                  grain_spe(rec['R2']),\n",
    "                                                  grain_spe(rec['P1']),\n",
    "                                                  grain_spe(rec['P2']), ki_string,\n",
    "                                                  kj_string))"
   ]
  },
  {
   "cell_type": "code",
   "execution_count": null,
   "metadata": {},
   "outputs": [],
   "source": []
  }
 ],
 "metadata": {
  "kernelspec": {
   "display_name": "Python 3",
   "language": "python",
   "name": "python3"
  },
  "language_info": {
   "codemirror_mode": {
    "name": "ipython",
    "version": 3
   },
   "file_extension": ".py",
   "mimetype": "text/x-python",
   "name": "python",
   "nbconvert_exporter": "python",
   "pygments_lexer": "ipython3",
   "version": "3.7.1"
  }
 },
 "nbformat": 4,
 "nbformat_minor": 2
}
