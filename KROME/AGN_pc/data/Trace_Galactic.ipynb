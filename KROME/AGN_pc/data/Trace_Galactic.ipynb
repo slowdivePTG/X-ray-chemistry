{
 "cells": [
  {
   "cell_type": "code",
   "execution_count": null,
   "metadata": {
    "ExecuteTime": {
     "end_time": "2019-10-07T15:19:48.529398Z",
     "start_time": "2019-10-07T15:19:47.850100Z"
    }
   },
   "outputs": [],
   "source": [
    "%load_ext autoreload\n",
    "%autoreload 2\n",
    "from Trace import *"
   ]
  },
  {
   "cell_type": "code",
   "execution_count": null,
   "metadata": {
    "ExecuteTime": {
     "start_time": "2019-10-07T15:19:47.848Z"
    }
   },
   "outputs": [],
   "source": [
    "tr21 = Trace('2Trace1')\n",
    "tr201 = Trace('2Trace01')\n",
    "tr22 = Trace('2Trace2')\n",
    "tr202 = Trace('2Trace02')\n",
    "tr24 = Trace('2Trace4')\n",
    "tr204 = Trace('2Trace04')\n",
    "tr28 = Trace('2Trace8')\n",
    "tr208 = Trace('2Trace08')"
   ]
  },
  {
   "cell_type": "code",
   "execution_count": null,
   "metadata": {
    "ExecuteTime": {
     "start_time": "2019-10-07T15:19:47.854Z"
    }
   },
   "outputs": [],
   "source": [
    "tr201.plot('H_DUSTH_DUSTO_DUST', num=3)\n",
    "tr202.plot('H_DUSTH_DUSTO_DUST', num=3)\n",
    "tr204.plot('H_DUSTH_DUSTO_DUST', num=3)\n",
    "tr208.plot('H_DUSTH_DUSTO_DUST', num=3)"
   ]
  },
  {
   "cell_type": "code",
   "execution_count": null,
   "metadata": {
    "ExecuteTime": {
     "start_time": "2019-10-07T15:19:47.859Z"
    }
   },
   "outputs": [],
   "source": [
    "tr201.plot('H2O', num=3)\n",
    "tr202.plot('H2O', num=3)\n",
    "tr204.plot('H2O', num=3)\n",
    "tr208.plot('H2O', num=3)"
   ]
  },
  {
   "cell_type": "code",
   "execution_count": null,
   "metadata": {
    "ExecuteTime": {
     "start_time": "2019-10-07T15:19:47.865Z"
    }
   },
   "outputs": [],
   "source": [
    "tr201.plot('CH3OH', num=3)\n",
    "tr202.plot('CH3OH', num=3)\n",
    "tr204.plot('CH3OH', num=3)\n",
    "tr208.plot('CH3OH', num=3)"
   ]
  },
  {
   "cell_type": "code",
   "execution_count": null,
   "metadata": {
    "ExecuteTime": {
     "start_time": "2019-10-07T15:19:47.870Z"
    }
   },
   "outputs": [],
   "source": [
    "tr201.plot('C_DUSTH_DUSTH_DUSTO_DUSTH_DUST', num=3)\n",
    "tr202.plot('C_DUSTH_DUSTH_DUSTO_DUSTH_DUST', num=3)\n",
    "tr204.plot('C_DUSTH_DUSTH_DUSTO_DUSTH_DUST', num=3)\n",
    "tr208.plot('C_DUSTH_DUSTH_DUSTO_DUSTH_DUST', num=3)"
   ]
  },
  {
   "cell_type": "code",
   "execution_count": null,
   "metadata": {
    "ExecuteTime": {
     "start_time": "2019-10-07T15:19:47.875Z"
    }
   },
   "outputs": [],
   "source": [
    "tr201.plot('H2CO', num=3)\n",
    "tr202.plot('H2CO', num=3)\n",
    "tr204.plot('H2CO', num=3)\n",
    "tr208.plot('H2CO', num=3)"
   ]
  },
  {
   "cell_type": "code",
   "execution_count": null,
   "metadata": {
    "ExecuteTime": {
     "start_time": "2019-10-07T15:19:47.880Z"
    }
   },
   "outputs": [],
   "source": [
    "tr201.plot('H_DUSTH_DUSTC_DUSTO_DUST', num=3)\n",
    "tr202.plot('H_DUSTH_DUSTC_DUSTO_DUST', num=3)\n",
    "tr204.plot('H_DUSTH_DUSTC_DUSTO_DUST', num=3)\n",
    "tr208.plot('H_DUSTH_DUSTC_DUSTO_DUST', num=3)"
   ]
  },
  {
   "cell_type": "code",
   "execution_count": null,
   "metadata": {},
   "outputs": [],
   "source": []
  }
 ],
 "metadata": {
  "kernelspec": {
   "display_name": "Python 3",
   "language": "python",
   "name": "python3"
  },
  "language_info": {
   "codemirror_mode": {
    "name": "ipython",
    "version": 3
   },
   "file_extension": ".py",
   "mimetype": "text/x-python",
   "name": "python",
   "nbconvert_exporter": "python",
   "pygments_lexer": "ipython3",
   "version": "3.7.1"
  }
 },
 "nbformat": 4,
 "nbformat_minor": 2
}
