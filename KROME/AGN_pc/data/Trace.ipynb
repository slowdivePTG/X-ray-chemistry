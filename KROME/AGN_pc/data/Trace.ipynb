{
 "cells": [
  {
   "cell_type": "code",
   "execution_count": 1,
   "metadata": {
    "ExecuteTime": {
     "end_time": "2019-10-07T09:01:20.024354Z",
     "start_time": "2019-10-07T09:01:19.331719Z"
    }
   },
   "outputs": [
    {
     "name": "stdout",
     "output_type": "stream",
     "text": [
      "All variables set as e.g. krome_idx_H2\n",
      "plot 'your_output' u 1:krome_idx_H2\n",
      " the offset is nkrome= 0\n"
     ]
    }
   ],
   "source": [
    "import numpy as np\n",
    "import matplotlib.pyplot as plt\n",
    "from species import *"
   ]
  },
  {
   "cell_type": "code",
   "execution_count": 2,
   "metadata": {
    "ExecuteTime": {
     "end_time": "2019-10-07T09:01:20.041288Z",
     "start_time": "2019-10-07T09:01:20.028273Z"
    }
   },
   "outputs": [],
   "source": [
    "# Get names of the species\n",
    "with open('species') as data:\n",
    "    length = len('krome_idx_')\n",
    "    Name = np.zeros(length).astype(np.str)\n",
    "    line = data.readline()\n",
    "    name = line.split(' ')"
   ]
  },
  {
   "cell_type": "code",
   "execution_count": 3,
   "metadata": {
    "ExecuteTime": {
     "end_time": "2019-10-07T09:01:20.654329Z",
     "start_time": "2019-10-07T09:01:20.044960Z"
    }
   },
   "outputs": [],
   "source": [
    "from numba import jit"
   ]
  },
  {
   "cell_type": "code",
   "execution_count": 18,
   "metadata": {
    "ExecuteTime": {
     "end_time": "2019-10-07T09:09:35.806661Z",
     "start_time": "2019-10-07T09:09:28.574698Z"
    }
   },
   "outputs": [],
   "source": [
    "class Trace():\n",
    "    def __init__(self, file):\n",
    "        with open(file) as f:\n",
    "            lines = f.readlines()\n",
    "\n",
    "        self.t = np.array([])\n",
    "        self.species = np.array([])\n",
    "\n",
    "        for line in lines:\n",
    "            try:\n",
    "                t = float(line)\n",
    "                self.t = np.append(self.t, t)\n",
    "                self.species = np.append(self.species, {})\n",
    "                for na in name:\n",
    "                    self.species[-1][na] = {}\n",
    "\n",
    "            except:\n",
    "                l = line.replace('   ', ' ')\n",
    "                l = l.replace('  ', ' ')\n",
    "                l = l.strip(' ')\n",
    "                dat = l.split(' ')\n",
    "                product = int(dat[0])\n",
    "                self.species[-1][name[product - 1]][dat[1]] = float(dat[2])\n",
    "                self.species[-1][name[product - 1]] = dict(\n",
    "                    sorted(self.species[-1][name[product - 1]].items(),\n",
    "                           key=lambda item: item[1]))\n",
    "\n",
    "    def spe(self, species):\n",
    "        for item, i in enumerate(self.species):\n",
    "            print(self.t[item])\n",
    "            print('Destruction')\n",
    "            li = list(i[species].keys())\n",
    "            for num, j in enumerate(li[:5], 1):\n",
    "                print(j, i[species][j])\n",
    "            print('Formation')\n",
    "            li.reverse()\n",
    "            for num, j in enumerate(li[:5], 1):\n",
    "                print(j, i[species][j])\n",
    "                \n",
    "tr = Trace('1Trace1')"
   ]
  },
  {
   "cell_type": "code",
   "execution_count": 19,
   "metadata": {
    "ExecuteTime": {
     "end_time": "2019-10-07T09:09:35.832897Z",
     "start_time": "2019-10-07T09:09:35.809000Z"
    }
   },
   "outputs": [
    {
     "name": "stdout",
     "output_type": "stream",
     "text": [
      "1000.0\n",
      "Destruction\n",
      "467 -1.3584e-12\n",
      "696 -5.9321e-14\n",
      "697 -5.9321e-14\n",
      "698 -5.9321e-14\n",
      "1103 -6.2324e-15\n",
      "Formation\n",
      "3811 1.5242e-12\n",
      "3240 2.1732e-14\n",
      "4458 2.9105e-15\n",
      "3251 9.2815e-16\n",
      "3655 6.3454e-17\n",
      "2593.7\n",
      "Destruction\n",
      "467 -9.5439e-13\n",
      "696 -4.649e-14\n",
      "697 -4.649e-14\n",
      "698 -4.649e-14\n",
      "1103 -4.8934e-15\n",
      "Formation\n",
      "3811 1.073e-12\n",
      "3240 1.9422e-14\n",
      "4458 7.4698e-15\n",
      "3251 8.305e-16\n",
      "3655 7.635e-17\n",
      "6727.5\n",
      "Destruction\n",
      "467 -6.3545e-13\n",
      "696 -3.3324e-14\n",
      "697 -3.3324e-14\n",
      "698 -3.3324e-14\n",
      "1103 -3.4597e-15\n",
      "Formation\n",
      "3811 7.0258e-13\n",
      "4458 1.8847e-14\n",
      "3240 1.7816e-14\n",
      "3251 7.6246e-16\n",
      "3655 8.2817e-17\n",
      "17449.0\n",
      "Destruction\n",
      "467 -4.3292e-13\n",
      "696 -2.3796e-14\n",
      "697 -2.3796e-14\n",
      "698 -2.3796e-14\n",
      "1103 -2.4599e-15\n",
      "Formation\n",
      "3811 4.4513e-13\n",
      "4458 4.5559e-14\n",
      "3240 1.6024e-14\n",
      "3251 6.861e-16\n",
      "3655 8.55e-17\n",
      "45259.0\n",
      "Destruction\n",
      "467 -3.4458e-13\n",
      "696 -1.9516e-14\n",
      "697 -1.9516e-14\n",
      "698 -1.9516e-14\n",
      "1103 -1.9966e-15\n",
      "Formation\n",
      "3811 2.9157e-13\n",
      "4458 9.9246e-14\n",
      "3240 1.4113e-14\n",
      "3251 6.0448e-16\n",
      "3655 8.6842e-17\n",
      "117390.0\n",
      "Destruction\n",
      "467 -3.4276e-13\n",
      "696 -1.9719e-14\n",
      "697 -1.9719e-14\n",
      "698 -1.9719e-14\n",
      "1103 -2.007e-15\n",
      "Formation\n",
      "3811 2.1872e-13\n",
      "4458 1.7272e-13\n",
      "3240 1.2322e-14\n",
      "3251 5.2783e-16\n",
      "3655 9.0714e-17\n",
      "304480.0\n",
      "Destruction\n",
      "467 -3.6019e-13\n",
      "696 -2.0832e-14\n",
      "697 -2.0832e-14\n",
      "698 -2.0832e-14\n",
      "1103 -2.1198e-15\n",
      "Formation\n",
      "4458 2.1397e-13\n",
      "3811 1.992e-13\n",
      "3240 1.1516e-14\n",
      "3251 4.9332e-16\n",
      "3655 9.3917e-17\n",
      "789750.0\n",
      "Destruction\n",
      "467 -3.6221e-13\n",
      "696 -2.0958e-14\n",
      "697 -2.0958e-14\n",
      "698 -2.0958e-14\n",
      "1103 -2.1325e-15\n",
      "Formation\n",
      "4458 2.1764e-13\n",
      "3811 1.9801e-13\n",
      "3240 1.1453e-14\n",
      "3251 4.9064e-16\n",
      "3655 9.4216e-17\n",
      "2048400.0\n",
      "Destruction\n",
      "467 -3.6221e-13\n",
      "696 -2.0958e-14\n",
      "697 -2.0958e-14\n",
      "698 -2.0958e-14\n",
      "1103 -2.1325e-15\n",
      "Formation\n",
      "4458 2.1764e-13\n",
      "3811 1.9801e-13\n",
      "3240 1.1453e-14\n",
      "3251 4.9063e-16\n",
      "3655 9.4216e-17\n",
      "5313000.0\n",
      "Destruction\n",
      "467 -3.6221e-13\n",
      "696 -2.0958e-14\n",
      "697 -2.0958e-14\n",
      "698 -2.0958e-14\n",
      "1103 -2.1325e-15\n",
      "Formation\n",
      "4458 2.1764e-13\n",
      "3811 1.9801e-13\n",
      "3240 1.1453e-14\n",
      "3251 4.9063e-16\n",
      "3655 9.4216e-17\n",
      "13781000.0\n",
      "Destruction\n",
      "467 -3.6221e-13\n",
      "696 -2.0958e-14\n",
      "697 -2.0958e-14\n",
      "698 -2.0958e-14\n",
      "1103 -2.1325e-15\n",
      "Formation\n",
      "4458 2.1764e-13\n",
      "3811 1.9801e-13\n",
      "3240 1.1453e-14\n",
      "3251 4.9063e-16\n",
      "3655 9.4216e-17\n",
      "35743000.0\n",
      "Destruction\n",
      "467 -3.6221e-13\n",
      "696 -2.0958e-14\n",
      "697 -2.0958e-14\n",
      "698 -2.0958e-14\n",
      "1103 -2.1325e-15\n",
      "Formation\n",
      "4458 2.1764e-13\n",
      "3811 1.9801e-13\n",
      "3240 1.1453e-14\n",
      "3251 4.9063e-16\n",
      "3655 9.4216e-17\n",
      "92709000.0\n",
      "Destruction\n",
      "467 -3.6221e-13\n",
      "696 -2.0958e-14\n",
      "697 -2.0958e-14\n",
      "698 -2.0958e-14\n",
      "1103 -2.1325e-15\n",
      "Formation\n",
      "4458 2.1764e-13\n",
      "3811 1.9801e-13\n",
      "3240 1.1453e-14\n",
      "3251 4.9063e-16\n",
      "3655 9.4216e-17\n"
     ]
    }
   ],
   "source": [
    "tr.spe('H2O')"
   ]
  },
  {
   "cell_type": "code",
   "execution_count": null,
   "metadata": {},
   "outputs": [],
   "source": []
  }
 ],
 "metadata": {
  "kernelspec": {
   "display_name": "Python 3",
   "language": "python",
   "name": "python3"
  },
  "language_info": {
   "codemirror_mode": {
    "name": "ipython",
    "version": 3
   },
   "file_extension": ".py",
   "mimetype": "text/x-python",
   "name": "python",
   "nbconvert_exporter": "python",
   "pygments_lexer": "ipython3",
   "version": "3.7.1"
  }
 },
 "nbformat": 4,
 "nbformat_minor": 2
}
