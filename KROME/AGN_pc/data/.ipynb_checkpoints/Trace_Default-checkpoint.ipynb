{
 "cells": [
  {
   "cell_type": "code",
   "execution_count": null,
   "metadata": {
    "ExecuteTime": {
     "end_time": "2019-11-07T18:55:21.767920Z",
     "start_time": "2019-11-07T18:55:20.988436Z"
    }
   },
   "outputs": [],
   "source": [
    "%load_ext autoreload\n",
    "%autoreload 2\n",
    "from Trace import *"
   ]
  },
  {
   "cell_type": "code",
   "execution_count": null,
   "metadata": {
    "ExecuteTime": {
     "end_time": "2019-11-07T18:56:53.921748Z",
     "start_time": "2019-11-07T18:55:21.783345Z"
    }
   },
   "outputs": [],
   "source": [
    "tr24 = Trace('2Trace4')\n",
    "tr204 = Trace('2Trace04')"
   ]
  },
  {
   "cell_type": "code",
   "execution_count": null,
   "metadata": {
    "ExecuteTime": {
     "end_time": "2019-11-07T18:57:45.925595Z",
     "start_time": "2019-11-07T18:56:53.929494Z"
    }
   },
   "outputs": [],
   "source": [
    "tr2inf = Trace('2Trace_inf')"
   ]
  },
  {
   "cell_type": "code",
   "execution_count": null,
   "metadata": {
    "ExecuteTime": {
     "end_time": "2019-11-07T18:57:59.748623Z",
     "start_time": "2019-11-07T18:57:45.954238Z"
    }
   },
   "outputs": [],
   "source": [
    "tr24.plot('H2O', num=3)\n",
    "tr204.plot('H2O', num=3)\n",
    "tr2inf.plot('H2O', num=3)"
   ]
  },
  {
   "cell_type": "code",
   "execution_count": null,
   "metadata": {
    "ExecuteTime": {
     "end_time": "2019-11-07T18:58:14.553420Z",
     "start_time": "2019-11-07T18:57:59.753338Z"
    }
   },
   "outputs": [],
   "source": [
    "tr24.plot('H_DUSTH_DUSTO_DUST', num=3)\n",
    "tr204.plot('H_DUSTH_DUSTO_DUST', num=3)\n",
    "tr2inf.plot('H_DUSTH_DUSTO_DUST', num=3)"
   ]
  },
  {
   "cell_type": "code",
   "execution_count": null,
   "metadata": {
    "ExecuteTime": {
     "end_time": "2019-11-07T18:58:29.254646Z",
     "start_time": "2019-11-07T18:58:14.647047Z"
    }
   },
   "outputs": [],
   "source": [
    "tr24.plot('CH3OH', num=2)\n",
    "tr204.plot('CH3OH', num=2)\n",
    "tr2inf.plot('CH3OH', num=3)"
   ]
  },
  {
   "cell_type": "code",
   "execution_count": null,
   "metadata": {
    "ExecuteTime": {
     "end_time": "2019-11-07T18:58:45.647225Z",
     "start_time": "2019-11-07T18:58:29.264903Z"
    }
   },
   "outputs": [],
   "source": [
    "tr24.plot('C_DUSTH_DUSTH_DUSTH_DUSTO_DUSTH_DUST', num=3)\n",
    "tr204.plot('C_DUSTH_DUSTH_DUSTH_DUSTO_DUSTH_DUST', num=3)\n",
    "tr2inf.plot('C_DUSTH_DUSTH_DUSTH_DUSTO_DUSTH_DUST', num=3)"
   ]
  },
  {
   "cell_type": "code",
   "execution_count": null,
   "metadata": {
    "ExecuteTime": {
     "end_time": "2019-11-07T18:59:00.042793Z",
     "start_time": "2019-11-07T18:58:45.653438Z"
    }
   },
   "outputs": [],
   "source": [
    "#To 1e9 yr\n",
    "%matplotlib inline\n",
    "tr24.plot('C_DUSTH_DUSTH_DUSTH_DUSTO_DUSTH_DUST', num=3)\n",
    "plt.xlim(1e2,1e9)\n",
    "tr204.plot('C_DUSTH_DUSTH_DUSTH_DUSTO_DUSTH_DUST', num=3)\n",
    "plt.xlim(1e2,1e9)\n",
    "tr2inf.plot('C_DUSTH_DUSTH_DUSTH_DUSTO_DUSTH_DUST', num=3)\n",
    "plt.xlim(1e2,1e9)"
   ]
  },
  {
   "cell_type": "code",
   "execution_count": null,
   "metadata": {
    "ExecuteTime": {
     "start_time": "2019-11-07T18:55:22.776Z"
    }
   },
   "outputs": [],
   "source": [
    "tr24.plot('H2CO', num=3)\n",
    "tr204.plot('H2CO', num=3)\n",
    "tr2inf.plot('H2CO', num=3)"
   ]
  },
  {
   "cell_type": "code",
   "execution_count": null,
   "metadata": {
    "ExecuteTime": {
     "start_time": "2019-11-07T18:55:23.241Z"
    }
   },
   "outputs": [],
   "source": [
    "tr24.plot('H_DUSTH_DUSTC_DUSTO_DUST', num=3)\n",
    "tr204.plot('H_DUSTH_DUSTC_DUSTO_DUST', num=3)\n",
    "tr2inf.plot('H_DUSTH_DUSTC_DUSTO_DUST', num=3)"
   ]
  },
  {
   "cell_type": "code",
   "execution_count": null,
   "metadata": {},
   "outputs": [],
   "source": []
  }
 ],
 "metadata": {
  "kernelspec": {
   "display_name": "Python 3",
   "language": "python",
   "name": "python3"
  },
  "language_info": {
   "codemirror_mode": {
    "name": "ipython",
    "version": 3
   },
   "file_extension": ".py",
   "mimetype": "text/x-python",
   "name": "python",
   "nbconvert_exporter": "python",
   "pygments_lexer": "ipython3",
   "version": "3.7.1"
  },
  "notify_time": "30"
 },
 "nbformat": 4,
 "nbformat_minor": 2
}
