{
 "cells": [
  {
   "cell_type": "code",
   "execution_count": null,
   "metadata": {
    "ExecuteTime": {
     "end_time": "2019-10-07T15:21:04.068087Z",
     "start_time": "2019-10-07T15:21:03.566829Z"
    }
   },
   "outputs": [],
   "source": [
    "%load_ext autoreload\n",
    "%autoreload 2\n",
    "from Trace import *"
   ]
  },
  {
   "cell_type": "code",
   "execution_count": null,
   "metadata": {
    "ExecuteTime": {
     "end_time": "2019-10-07T15:22:47.578767Z",
     "start_time": "2019-10-07T15:21:05.001032Z"
    }
   },
   "outputs": [],
   "source": [
    "tr104 = Trace('1Trace04')\n",
    "tr304 = Trace('3Trace04')\n",
    "\n",
    "tr1inf = Trace('1Trace_inf')\n",
    "tr2inf = Trace('2Trace_inf')\n",
    "tr3inf = Trace('3Trace_inf')"
   ]
  },
  {
   "cell_type": "code",
   "execution_count": null,
   "metadata": {
    "ExecuteTime": {
     "end_time": "2019-10-07T15:22:47.584957Z",
     "start_time": "2019-10-07T15:22:11.437Z"
    }
   },
   "outputs": [],
   "source": [
    "tr104.plot('H_DUSTH_DUSTO_DUST', num=3)\n",
    "tr304.plot('H_DUSTH_DUSTO_DUST', num=3)"
   ]
  },
  {
   "cell_type": "code",
   "execution_count": null,
   "metadata": {
    "ExecuteTime": {
     "end_time": "2019-10-07T15:22:47.588357Z",
     "start_time": "2019-10-07T15:22:11.841Z"
    }
   },
   "outputs": [],
   "source": [
    "tr104.plot('H2O', num=3)\n",
    "tr304.plot('H2O', num=3)"
   ]
  },
  {
   "cell_type": "code",
   "execution_count": null,
   "metadata": {
    "ExecuteTime": {
     "end_time": "2019-10-07T15:22:47.590254Z",
     "start_time": "2019-10-07T15:22:35.869Z"
    }
   },
   "outputs": [],
   "source": [
    "tr104.plot('CH3OH', num=3)\n",
    "tr304.plot('CH3OH', num=3)"
   ]
  },
  {
   "cell_type": "code",
   "execution_count": null,
   "metadata": {},
   "outputs": [],
   "source": [
    "tr104.plot('C_DUSTH_DUSTH_DUSTO_DUSTH_DUST', num=3)\n",
    "tr302.plot('C_DUSTH_DUSTH_DUSTO_DUSTH_DUST', num=3)"
   ]
  }
 ],
 "metadata": {
  "kernelspec": {
   "display_name": "Python 3",
   "language": "python",
   "name": "python3"
  },
  "language_info": {
   "codemirror_mode": {
    "name": "ipython",
    "version": 3
   },
   "file_extension": ".py",
   "mimetype": "text/x-python",
   "name": "python",
   "nbconvert_exporter": "python",
   "pygments_lexer": "ipython3",
   "version": "3.7.1"
  }
 },
 "nbformat": 4,
 "nbformat_minor": 2
}
