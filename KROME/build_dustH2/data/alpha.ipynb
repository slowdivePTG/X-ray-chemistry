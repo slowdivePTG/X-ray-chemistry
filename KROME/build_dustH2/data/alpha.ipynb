{
 "cells": [
  {
   "cell_type": "code",
   "execution_count": 2,
   "metadata": {
    "scrolled": true
   },
   "outputs": [
    {
     "name": "stdout",
     "output_type": "stream",
     "text": [
      "All variables set as e.g. krome_idx_H2\n",
      "plot 'your_output' u 1:krome_idx_H2\n",
      " the offset is nkrome= 0\n"
     ]
    }
   ],
   "source": [
    "import numpy as np\n",
    "from species import *"
   ]
  },
  {
   "cell_type": "code",
   "execution_count": 3,
   "metadata": {},
   "outputs": [],
   "source": [
    "def initial(txt1,txt2):\n",
    "    test1=np.loadtxt(txt1)[-1]\n",
    "    test2=np.loadtxt(txt2)[-1]\n",
    "    data1 = open('Name')\n",
    "    Name = []\n",
    "    while 1:\n",
    "        line = data1.readline()\n",
    "        if not line:\n",
    "            break\n",
    "        line=line.strip('\\n')\n",
    "        temp='krome_idx_'+line.upper()\n",
    "        if (temp[-1]=='J'):\n",
    "            temp=temp[0:-1]+'j'\n",
    "        Name.append(temp)\n",
    "    species_list=[]\n",
    "    for name in Name:\n",
    "        species_list.append(name)\n",
    "    return(test1,test2,Name,species_list)"
   ]
  },
  {
   "cell_type": "code",
   "execution_count": 4,
   "metadata": {},
   "outputs": [],
   "source": [
    "def log_dev(a,b,zeta1,zeta2):\n",
    "    y=np.log(a)-np.log(b)\n",
    "    x=np.log(zeta1)-np.log(zeta2)\n",
    "    return(y/x)"
   ]
  },
  {
   "cell_type": "code",
   "execution_count": 5,
   "metadata": {},
   "outputs": [],
   "source": [
    "def alpha(test1,test2,Name,species_list,zeta1,zeta2):\n",
    "    list_elementd = {}\n",
    "    for i in species_list:\n",
    "        temp = log_dev(test1[eval(i)], test2[eval(i)],zeta1,zeta2)\n",
    "        temp_dic = {i:temp}\n",
    "        list_elementd.update(temp_dic)\n",
    "\n",
    "    dict_out = sorted(list_elementd.items(), key = lambda item:item[1])\n",
    "    gap = -0.375\n",
    "    print('<',gap)\n",
    "    for i in dict_out:\n",
    "        if i[1] > gap:\n",
    "            while (gap) < i[1]:\n",
    "                gap += 0.25\n",
    "            print ('<',gap)\n",
    "        print(i)"
   ]
  },
  {
   "cell_type": "code",
   "execution_count": 51,
   "metadata": {
    "scrolled": true
   },
   "outputs": [
    {
     "name": "stdout",
     "output_type": "stream",
     "text": [
      "< -0.375\n",
      "('krome_idx_CO2', -0.41595394100563005)\n",
      "< 0.125\n",
      "('krome_idx_NH3', -0.07755381835602294)\n",
      "('krome_idx_MG', -0.045449845067241985)\n",
      "('krome_idx_O2', -0.028196565873298544)\n",
      "('krome_idx_N2', -0.004847274997973725)\n",
      "('krome_idx_H2', -0.0043908813882754805)\n",
      "('krome_idx_HE', -0.0)\n",
      "('krome_idx_CO', 0.002660179305005127)\n",
      "('krome_idx_O', 0.061364632851718594)\n",
      "('krome_idx_HCN', 0.08079599830488944)\n",
      "('krome_idx_H2O', 0.11601036808144181)\n",
      "< 0.375\n",
      "('krome_idx_N', 0.24063465086664543)\n",
      "('krome_idx_MGj', 0.3373559222025287)\n",
      "('krome_idx_E', 0.33815769663258294)\n",
      "< 0.625\n",
      "('krome_idx_HCO', 0.5103762459605057)\n",
      "('krome_idx_HCNHj', 0.5924997363002926)\n",
      "('krome_idx_HCOj', 0.6223551759544284)\n",
      "< 0.875\n",
      "('krome_idx_C2H2j', 0.6372866067018536)\n",
      "('krome_idx_O2j', 0.6503914255880474)\n",
      "('krome_idx_H3Oj', 0.6591452498720214)\n",
      "('krome_idx_CH3j', 0.7685154569007012)\n",
      "('krome_idx_NH3j', 0.8377162111761554)\n",
      "('krome_idx_N2Hj', 0.8426484190499067)\n",
      "('krome_idx_C2', 0.8656405952739437)\n",
      "< 1.125\n",
      "('krome_idx_NH2', 0.876348878199505)\n",
      "('krome_idx_NO', 0.8974523269958856)\n",
      "('krome_idx_OH', 0.9055157156281007)\n",
      "('krome_idx_CH', 0.9449815303850229)\n",
      "('krome_idx_H3j', 0.9509673895855445)\n",
      "('krome_idx_CH2', 0.9729398827927759)\n",
      "('krome_idx_C', 0.9925733993575104)\n",
      "('krome_idx_Oj', 0.9930123953957001)\n",
      "('krome_idx_COj', 0.9930535796196496)\n",
      "('krome_idx_H2j', 1.000017335232819)\n",
      "('krome_idx_NH2j', 1.001651930023263)\n",
      "('krome_idx_N2j', 1.0016906422781584)\n",
      "('krome_idx_HEj', 1.0022070811541854)\n",
      "('krome_idx_Nj', 1.002783477313246)\n",
      "('krome_idx_NHj', 1.002921701888732)\n",
      "('krome_idx_OHj', 1.0110965311847224)\n",
      "('krome_idx_H2Oj', 1.0150694891938103)\n",
      "('krome_idx_Hj', 1.016182338629476)\n",
      "('krome_idx_H', 1.0232524496541962)\n",
      "('krome_idx_Cj', 1.0283830409084123)\n",
      "('krome_idx_CH2j', 1.0459008446818148)\n",
      "('krome_idx_HCNj', 1.076373482783326)\n",
      "('krome_idx_NH', 1.1113022216867008)\n",
      "('krome_idx_CN', 1.1147855423921473)\n",
      "< 1.625\n",
      "('krome_idx_CHj', 1.4368506588064083)\n",
      "('krome_idx_HNOj', 1.5229821683137936)\n",
      "< 1.875\n",
      "('krome_idx_C2Hj', 1.8033236728814959)\n",
      "< 2.125\n",
      "('krome_idx_C2j', 1.9035938390650335)\n"
     ]
    }
   ],
   "source": [
    "test1,test2,Name,species_list = initial('case1','case1_1')\n",
    "alpha(test1,test2,Name,species_list,6.8e-18,7.8e-18)"
   ]
  },
  {
   "cell_type": "code",
   "execution_count": 33,
   "metadata": {},
   "outputs": [],
   "source": [
    "#for i in species_list:\n",
    "    #print(i,test1[eval(i)],test2[eval(i)])"
   ]
  },
  {
   "cell_type": "code",
   "execution_count": 77,
   "metadata": {},
   "outputs": [],
   "source": [
    "#test1,test2,Name,species_list = initial('test','test2')\n",
    "#alpha(test1,test2,Name,species_list,6.8e-18,7e-18)"
   ]
  },
  {
   "cell_type": "code",
   "execution_count": 49,
   "metadata": {
    "scrolled": true
   },
   "outputs": [
    {
     "name": "stdout",
     "output_type": "stream",
     "text": [
      "< -0.375\n",
      "('krome_idx_CO2', -0.8423393264298425)\n",
      "< -0.125\n",
      "('krome_idx_MG', -0.2867861730376221)\n",
      "('krome_idx_NH3', -0.163844478591395)\n",
      "< 0.125\n",
      "('krome_idx_O2', -0.09715853191405215)\n",
      "('krome_idx_HCO', -0.039190788122371284)\n",
      "('krome_idx_N2', -0.034186532765287214)\n",
      "('krome_idx_H2', -0.020379716149260825)\n",
      "('krome_idx_HE', -0.0)\n",
      "('krome_idx_CO', 9.120688451967097e-05)\n",
      "('krome_idx_H2O', 0.05291141068023784)\n",
      "('krome_idx_O', 0.10259399696178184)\n",
      "< 0.375\n",
      "('krome_idx_MGj', 0.27131410732589273)\n",
      "('krome_idx_E', 0.2757332055405721)\n",
      "< 0.625\n",
      "('krome_idx_N', 0.37667786228831224)\n",
      "('krome_idx_HCN', 0.4878347204954583)\n",
      "('krome_idx_NO', 0.5605835855039478)\n",
      "('krome_idx_HCOj', 0.605642911308492)\n",
      "< 0.875\n",
      "('krome_idx_O2j', 0.633684610867289)\n",
      "('krome_idx_N2Hj', 0.6635010728103732)\n",
      "('krome_idx_H3Oj', 0.7012841841449261)\n",
      "('krome_idx_CH', 0.8090912998056634)\n",
      "('krome_idx_OH', 0.8270556385469208)\n",
      "('krome_idx_NH', 0.8310619836119388)\n",
      "('krome_idx_NH3j', 0.8334408406704413)\n",
      "('krome_idx_H3j', 0.8749711311312343)\n",
      "< 1.125\n",
      "('krome_idx_NH2', 0.9188505516705241)\n",
      "('krome_idx_CH2', 0.9330620758034898)\n",
      "('krome_idx_Oj', 0.9855632953360336)\n",
      "('krome_idx_N2j', 0.9963417974989347)\n",
      "('krome_idx_OHj', 0.9990066587133779)\n",
      "('krome_idx_H2j', 0.9999009262944246)\n",
      "('krome_idx_Hj', 1.0078893468799877)\n",
      "('krome_idx_HEj', 1.010018968942907)\n",
      "('krome_idx_COj', 1.0104106129582817)\n",
      "('krome_idx_H2Oj', 1.0120839698723862)\n",
      "('krome_idx_H', 1.0208299659301476)\n",
      "('krome_idx_C', 1.0212563033260411)\n",
      "('krome_idx_Nj', 1.0257066279322744)\n",
      "('krome_idx_NHj', 1.0376299329168364)\n",
      "('krome_idx_CH3j', 1.0635266971413908)\n",
      "('krome_idx_NH2j', 1.0746602232506202)\n",
      "('krome_idx_Cj', 1.0791220542808024)\n",
      "('krome_idx_HCNHj', 1.1206651358812005)\n",
      "< 1.375\n",
      "('krome_idx_HNOj', 1.1909018059368457)\n",
      "('krome_idx_CN', 1.284489550552617)\n",
      "('krome_idx_CH2j', 1.3447533111089367)\n",
      "< 1.875\n",
      "('krome_idx_C2H2j', 1.6254640342422488)\n",
      "('krome_idx_HCNj', 1.6882876775854896)\n",
      "('krome_idx_C2', 1.7857138478166732)\n",
      "('krome_idx_CHj', 1.8482069792335238)\n",
      "< 2.125\n",
      "('krome_idx_C2j', 1.9092695260305919)\n",
      "('krome_idx_C2Hj', 1.9095341651532387)\n"
     ]
    }
   ],
   "source": [
    "test1,test2,Name,species_list = initial('case2','case2_1')\n",
    "alpha(test1,test2,Name,species_list,6.8e-16,7.8e-16)"
   ]
  },
  {
   "cell_type": "code",
   "execution_count": 47,
   "metadata": {},
   "outputs": [
    {
     "name": "stdout",
     "output_type": "stream",
     "text": [
      "krome_idx_H 1.2292e-05 1.2644e-05\n",
      "krome_idx_HE 0.1 0.1\n",
      "krome_idx_C 8.7169e-09 8.9775e-09\n",
      "krome_idx_N 1.4197e-06 1.4299e-06\n",
      "krome_idx_O 4.4866e-05 4.4871e-05\n",
      "krome_idx_MG 5.3054e-07 5.222e-07\n",
      "krome_idx_H2 0.49065 0.49038\n",
      "krome_idx_C2 2.4173e-12 2.5581e-12\n",
      "krome_idx_N2 9.9157e-06 9.9082e-06\n",
      "krome_idx_O2 2.4619e-05 2.4614e-05\n",
      "krome_idx_CH 2.6149e-09 2.6887e-09\n",
      "krome_idx_NH 3.6116e-09 3.7107e-09\n",
      "krome_idx_OH 2.599e-08 2.6743e-08\n",
      "krome_idx_CO 7.9912e-05 7.9912e-05\n",
      "krome_idx_CN 3.4159e-10 3.5577e-10\n",
      "krome_idx_NO 1.8387e-07 1.8763e-07\n",
      "krome_idx_CH2 2.9596e-11 3.0519e-11\n",
      "krome_idx_NH2 3.7586e-10 3.8768e-10\n",
      "krome_idx_H2O 6.5606e-07 6.5649e-07\n",
      "krome_idx_HCN 1.7061e-09 1.7355e-09\n",
      "krome_idx_HCO 2.0326e-10 2.0488e-10\n",
      "krome_idx_CO2 4.1524e-08 4.0742e-08\n",
      "krome_idx_NH3 1.6735e-08 1.6798e-08\n",
      "krome_idx_E 5.5608e-07 5.548e-07\n",
      "krome_idx_Hj 4.5765e-10 4.7045e-10\n",
      "krome_idx_HEj 4.7384e-10 4.8773e-10\n",
      "krome_idx_Cj 1.7565e-09 1.8079e-09\n",
      "krome_idx_Nj 4.3855e-14 4.5175e-14\n",
      "krome_idx_Oj 3.8304e-14 3.9451e-14\n",
      "krome_idx_MGj 5.3947e-07 5.478e-07\n",
      "krome_idx_H2j 7.5454e-13 7.7673e-13\n",
      "krome_idx_C2j 5.6437e-17 5.9763e-17\n",
      "krome_idx_N2j 2.2535e-15 2.3191e-15\n",
      "krome_idx_O2j 4.942e-11 5.093e-11\n",
      "krome_idx_CHj 2.488e-16 2.6345e-16\n",
      "krome_idx_NHj 6.6433e-15 6.8458e-15\n",
      "krome_idx_OHj 2.3519e-13 2.4231e-13\n",
      "krome_idx_COj 4.5367e-14 4.6725e-14\n",
      "krome_idx_H3j 2.657e-09 2.7355e-09\n",
      "krome_idx_CH2j 1.4204e-15 1.4788e-15\n",
      "krome_idx_NH2j 5.942e-14 6.1337e-14\n",
      "krome_idx_H2Oj 4.5045e-13 4.6425e-13\n",
      "krome_idx_HCOj 8.274e-10 8.5383e-10\n",
      "krome_idx_HCNj 3.3937e-16 3.5743e-16\n",
      "krome_idx_HNOj 2.1955e-12 2.3111e-12\n",
      "krome_idx_C2Hj 5.6772e-17 6.0121e-17\n",
      "krome_idx_N2Hj 2.1982e-10 2.2647e-10\n",
      "krome_idx_NH3j 6.8745e-12 7.1072e-12\n",
      "krome_idx_CH3j 8.2737e-13 8.6282e-13\n",
      "krome_idx_H3Oj 2.6555e-10 2.7419e-10\n",
      "krome_idx_HCNHj 1.015e-12 1.0656e-12\n",
      "krome_idx_C2H2j 3.7484e-14 3.9763e-14\n"
     ]
    }
   ],
   "source": [
    "for i in species_list:\n",
    "    print(i,test1[eval(i)],test2[eval(i)])"
   ]
  },
  {
   "cell_type": "code",
   "execution_count": null,
   "metadata": {},
   "outputs": [],
   "source": []
  }
 ],
 "metadata": {
  "kernelspec": {
   "display_name": "Python 3",
   "language": "python",
   "name": "python3"
  },
  "language_info": {
   "codemirror_mode": {
    "name": "ipython",
    "version": 3
   },
   "file_extension": ".py",
   "mimetype": "text/x-python",
   "name": "python",
   "nbconvert_exporter": "python",
   "pygments_lexer": "ipython3",
   "version": "3.7.0"
  }
 },
 "nbformat": 4,
 "nbformat_minor": 2
}
