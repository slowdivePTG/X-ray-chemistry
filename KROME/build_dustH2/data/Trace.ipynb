{
 "cells": [
  {
   "cell_type": "code",
   "execution_count": 2,
   "metadata": {},
   "outputs": [
    {
     "name": "stdout",
     "output_type": "stream",
     "text": [
      "All variables set as e.g. krome_idx_H2\n",
      "plot 'your_output' u 1:krome_idx_H2\n",
      " the offset is nkrome= 0\n"
     ]
    }
   ],
   "source": [
    "import numpy as np\n",
    "import matplotlib.pyplot as plt\n",
    "from species import *"
   ]
  },
  {
   "cell_type": "code",
   "execution_count": 3,
   "metadata": {},
   "outputs": [],
   "source": [
    "raw10=np.loadtxt('Trace5_0')\n",
    "raw20=np.loadtxt('Trace5_1')\n",
    "l=len(raw10)"
   ]
  },
  {
   "cell_type": "code",
   "execution_count": 4,
   "metadata": {},
   "outputs": [
    {
     "data": {
      "text/plain": [
       "array(['E', 'GRAINk', 'Hk', 'Ck', 'CNk', 'Ok', 'OHk', 'Sk', 'GRAIN0', 'C',\n",
       "       'FE', 'H', 'HE', 'MG', 'N', 'NA', 'O', 'S', 'SI', 'H2', 'CO', 'CL',\n",
       "       'P', 'C2', 'CCL', 'CH', 'CLO', 'CN', 'CP', 'CS', 'HCL', 'HF', 'F',\n",
       "       'HS', 'MGH', 'N2', 'NAH', 'NH', 'NO', 'NS', 'O2', 'OH', 'PH', 'PN',\n",
       "       'PO', 'S2', 'SIC', 'SIH', 'SIN', 'SIO', 'SIS', 'SO', 'C2H', 'C2N',\n",
       "       'C2S', 'C3', 'CCO', 'CCP', 'CH2', 'CO2', 'H2O', 'H2S', 'HCN',\n",
       "       'HCO', 'HCP', 'HCS', 'HCSI', 'HNC', 'HNO', 'HNSI', 'HPO', 'HS2',\n",
       "       'N2O', 'NAOH', 'NH2', 'NO2', 'O2H', 'OCN', 'OCS', 'PH2', 'SIC2',\n",
       "       'SIH2', 'SINC', 'SIO2', 'SO2', 'C2H2', 'C3H', 'HC3', 'C3N', 'C3O',\n",
       "       'C3P', 'C3S', 'C4', 'CH3', 'H2CO', 'H2CS', 'H2O2', 'H2S2', 'H2SIO',\n",
       "       'HCCP', 'NH3', 'SIC2H', 'SIC3', 'SICH2', 'SIH3', 'C2H2N', 'C2H2O',\n",
       "       'C2H3', 'C3H2', 'H2C3', 'C4H', 'C4N', 'C4P', 'C4S', 'C5', 'CH2O2',\n",
       "       'CH2PH', 'CH3N', 'CH4', 'HC3N', 'SIC2H2', 'SIC3H', 'SIC4', 'SICH3',\n",
       "       'SIH4', 'C2H3N', 'C2H4', 'C3H3', 'C4H2', 'C5H', 'C5N', 'C6',\n",
       "       'CH4O', 'C2H4O', 'C2H5', 'C3H3N', 'C3H4', 'C5H2', 'C6H', 'C7',\n",
       "       'CH5N', 'HC5N', 'C6H2', 'C7H', 'C7N', 'C8', 'CH3C3N', 'HCOOCH3',\n",
       "       'C2H5OH', 'C7H2', 'C8H', 'C9', 'CH3C4H', 'CH3OCH3', 'HC7N',\n",
       "       'C2H6CO', 'C8H2', 'C9H', 'C9N', 'CH3C5N', 'C9H2', 'CH3C6H',\n",
       "       'CH3C7N', 'HC9N', 'HCNC2', 'HC2NC', 'HNC3', 'NH2CHO', 'C4H3',\n",
       "       'NH2CN', 'C6H6', 'H2CN', 'C10', 'C11', 'SIC3H3', 'SIC4H', 'SIC6H',\n",
       "       'SIC8H', 'SIC2H3', 'C3H6', 'SIC3H5', 'C4H4', 'C4H6', 'HC4N',\n",
       "       'HC6N', 'HC8N', 'HC10N', 'HC11N', 'HC12N', 'NC4N', 'NC6N', 'NC8N',\n",
       "       'NC10N', 'NC12N', 'HC13N', 'Cj', 'FEj', 'Hj', 'HEj', 'MGj', 'Nj',\n",
       "       'NAj', 'Oj', 'Sj', 'SIj', 'H3j', 'HCOj', 'CLj', 'Pj', 'COj', 'H2j',\n",
       "       'NOj', 'O2j', 'CH2j', 'H2Sj', 'HCSj', 'HNOj', 'NH2j', 'OCSj',\n",
       "       'C2H2j', 'CH3j', 'NH3j', 'C2H2Oj', 'CH2O2j', 'C2H3Nj', 'C2H4j',\n",
       "       'C4H2j', 'H3COj', 'CH4Oj', 'C2H4Oj', 'C3H4j', 'CH5Nj', 'C2H5OHj',\n",
       "       'CH3OCH3j', 'CHj', 'CCLj', 'C2j', 'CLOj', 'CPj', 'CFj', 'CSj',\n",
       "       'CNj', 'NSj', 'PHj', 'POj', 'SICj', 'SINj', 'SISj', 'SOj', 'C3j',\n",
       "       'C2Sj', 'C2Oj', 'CCPj', 'C2Hj', 'HOCj', 'C2Nj', 'CNCj', 'HCPj',\n",
       "       'SIC2j', 'SINCj', 'HPOj', 'HCNj', 'CHSIj', 'SIH2j', 'C3Hj', 'C4j',\n",
       "       'C3Oj', 'C3Sj', 'H2COj', 'H2SIOj', 'HCNHj', 'SIC2Hj', 'SIC3j',\n",
       "       'CH2SIj', 'SIH3j', 'C2H2Nj', 'C2H3j', 'C3H2j', 'H2C3j', 'C4Hj',\n",
       "       'C5j', 'C4Sj', 'PC2Hj', 'C3Nj', 'C4Nj', 'C3HNj', 'HNCj', 'SIC3Hj',\n",
       "       'SIC4j', 'SIC2H2j', 'SICH3j', 'HC2NCHj', 'C3H3j', 'H3C3j', 'C5Hj',\n",
       "       'C6j', 'C2H3Oj', 'C2H5j', 'C3H3Nj', 'C5H2j', 'C4H3j', 'C6Hj',\n",
       "       'C7j', 'CH4Nj', 'C5HNj', 'C7Hj', 'C8j', 'COOCH4j', 'C2H5Oj',\n",
       "       'C8Hj', 'C9j', 'C5H3j', 'C6H2j', 'C6H3j', 'C2H6COj', 'C9Hj',\n",
       "       'C10j', 'C7H3j', 'C8H2j', 'C8H3j', 'HCLj', 'Fj', 'HFj', 'HSj',\n",
       "       'NHj', 'OHj', 'PNj', 'S2j', 'SIHj', 'SIOj', 'H2Oj', 'HNSIj',\n",
       "       'S2Hj', 'PH2j', 'H2CSj', 'H2S2j', 'HSIOj', 'C4Pj', 'HCO2j',\n",
       "       'PCH3j', 'CH4j', 'C2NHj', 'SIH4j', 'NH4j', 'H2NCj', 'C3H2Nj',\n",
       "       'C7H2j', 'C5H4j', 'C7HNj', 'C9H2j', 'C7H4j', 'C9HNj', 'N2j',\n",
       "       'CO2j', 'HEHj', 'SO2j', 'C6H5j', 'C5H5j', 'N2Hj', 'NO2j', 'PC2H2j',\n",
       "       'PNH2j', 'PCH2j', 'HC2Sj', 'HC3Sj', 'H3CSj', 'HC4Sj', 'SIFj',\n",
       "       'SINH2j', 'SIC2H3j', 'SIC3H2j', 'C2HOj', 'H3Oj', 'H3Sj', 'HOCSj',\n",
       "       'CH5Oj', 'NCOj', 'HNCOj', 'C2N2j', 'O2Hj', 'CH5j', 'H2CLj', 'H2Fj',\n",
       "       'CH3O2j', 'H2POj', 'PNH3j', 'PCH4j', 'PC2H3j', 'HSISj', 'HSOj',\n",
       "       'HNSj', 'HPNj', 'H2NOj', 'NAH2Oj', 'PH3j', 'SINCHj', 'HSIO2j',\n",
       "       'HSO2j', 'HC3Oj', 'PC3Hj', 'H3S2j', 'H3SIOj', 'PC4Hj', 'NH2CNHj',\n",
       "       'SIC4Hj', 'SICH4j', 'SIH5j', 'C2H4Nj', 'NH2CH2Oj', 'C2H6j',\n",
       "       'C3H4Nj', 'C3H5j', 'C4H4j', 'CH6Nj', 'C5H2Nj', 'C4H4Nj', 'H5C2O2j',\n",
       "       'C2H5OH2j', 'CH3OCH4j', 'C7H2Nj', 'C3H6OHj', 'C6H4Nj', 'C9H3j',\n",
       "       'C7H5j', 'C8H4Nj', 'C9H2Nj', 'C6H7j', 'NAH2j', 'PC2H4j', 'C4H5j',\n",
       "       'H2CCLj', 'PC4H2j', 'C6H4j', 'C8H4j', 'C9H4j', 'C4H7j', 'HC4Nj',\n",
       "       'HC4Oj', 'C5Nj', 'H2C4Nj', 'H3C4Nj', 'C7Nj', 'C5H3Nj', 'C9Nj',\n",
       "       'C7H3Nj', 'C9H3Nj', 'OCSjH2', 'H2C3Oj', 'H3C3Oj', 'C5H4Nj',\n",
       "       'C8H5j', 'C9H5j', 'HEjj', 'dust_C_1', 'dust_C_2', 'dust_C_3',\n",
       "       'dust_C_4', 'dust_C_5', 'dust_C_6', 'dust_C_7', 'dust_C_8',\n",
       "       'dust_C_9', 'dust_C_10', 'dust_Si_1', 'dust_Si_2', 'dust_Si_3',\n",
       "       'dust_Si_4', 'dust_Si_5', 'dust_Si_6', 'dust_Si_7', 'dust_Si_8',\n",
       "       'dust_Si_9', 'dust_Si_10', 'CR', 'g', 'Tgas', 'dummy', '0.0',\n",
       "       '0.0', '0.0', '0.0', '0.0', '0.0', '0.0', '0.0', '0.0', '0.0',\n",
       "       '0.0', '0.0', '0.0', '0.0', '0.0', '0.0', '0.0', '0.0', '0.0',\n",
       "       '0.0', '0.0', '0.0', '0.0'], dtype='<U32')"
      ]
     },
     "execution_count": 4,
     "metadata": {},
     "output_type": "execute_result"
    }
   ],
   "source": [
    "data = open('species')\n",
    "Name = np.zeros(500).astype(np.str)\n",
    "length=len('krome_idx_')\n",
    "i=0\n",
    "while 1:\n",
    "    line = data.readline()\n",
    "    if not line:\n",
    "        break\n",
    "    line=line.strip('\\n')\n",
    "    temp=line[length:line.find(' ')]\n",
    "    if (temp[-1]=='J'):\n",
    "        temp=temp[0:-1]+'j'\n",
    "    Name[i]=temp\n",
    "    i += 1\n",
    "Name"
   ]
  },
  {
   "cell_type": "code",
   "execution_count": 5,
   "metadata": {},
   "outputs": [],
   "source": [
    "def deal_with(data):\n",
    "    leng=5\n",
    "    l=len(data[:,1])\n",
    "    dat=data\n",
    "    small,big=np.zeros((l,leng)),np.zeros((l,leng))\n",
    "    big_index,small_index=np.zeros((l,leng)),np.zeros((l,leng))\n",
    "    for i in range(l):\n",
    "        dati=dat[i,:]\n",
    "        sor1 = dati.argsort()[1:leng+1] #sort, find the smallest\n",
    "        sor2 = dati.argsort()[-1-leng:-1] #biggest\n",
    "        big_index[i,:]=sor2+1\n",
    "        small_index[i,:]=sor1+1\n",
    "        for j in range(leng):\n",
    "            big[i,j]=dati[sor2[j]]\n",
    "            small[i,j]=dati[sor1[j]]    \n",
    "    return(big,small,big_index,small_index)"
   ]
  },
  {
   "cell_type": "code",
   "execution_count": 6,
   "metadata": {},
   "outputs": [],
   "source": [
    "def read_name(index):\n",
    "    name=np.zeros((int(l/453),5)).astype(np.str)\n",
    "    for i in range(int(l/453)):\n",
    "        for j in range(5):\n",
    "            name[i,j]=Name[int(index[i,j]-1)]\n",
    "    return(name)"
   ]
  },
  {
   "cell_type": "code",
   "execution_count": 9,
   "metadata": {},
   "outputs": [
    {
     "data": {
      "text/plain": [
       "array([[1.71759824e-10, 2.58878048e-28, 1.88578254e-17, ...,\n",
       "        3.37759205e-31, 2.41346946e-33, 0.00000000e+00],\n",
       "       [1.71152604e-10, 2.57629543e-28, 1.87410238e-17, ...,\n",
       "        3.26472139e-31, 2.30040237e-33, 0.00000000e+00],\n",
       "       [1.70550168e-10, 2.56375647e-28, 1.86254605e-17, ...,\n",
       "        3.15541764e-31, 2.19128403e-33, 0.00000000e+00],\n",
       "       [1.69953920e-10, 2.55117578e-28, 1.85112626e-17, ...,\n",
       "        3.05006248e-31, 2.08625613e-33, 0.00000000e+00],\n",
       "       [1.69169053e-10, 2.53433632e-28, 1.83611928e-17, ...,\n",
       "        2.91559058e-31, 1.95237558e-33, 0.00000000e+00],\n",
       "       [1.68141382e-10, 2.51174891e-28, 1.81650914e-17, ...,\n",
       "        2.74670465e-31, 1.78445823e-33, 0.00000000e+00]])"
      ]
     },
     "execution_count": 9,
     "metadata": {},
     "output_type": "execute_result"
    }
   ],
   "source": [
    "raw1=raw10.reshape(int(l/453),453,453)\n",
    "raw2=raw20.reshape(int(l/453),453,453)\n",
    "data1=raw1[:,krome_idx_H2-1,:]\n",
    "data2=raw2[:,krome_idx_H2-1,:]\n",
    "\n",
    "data1"
   ]
  },
  {
   "cell_type": "code",
   "execution_count": 11,
   "metadata": {},
   "outputs": [
    {
     "name": "stdout",
     "output_type": "stream",
     "text": [
      "[['H2j' 'H2Oj' 'OHj' 'COj' 'NH3j']\n",
      " ['H2j' 'H2Oj' 'OHj' 'COj' 'NH3j']\n",
      " ['H2j' 'H2Oj' 'OHj' 'COj' 'NH3j']\n",
      " ['H2j' 'H2Oj' 'OHj' 'COj' 'NH3j']\n",
      " ['H2j' 'H2Oj' 'OHj' 'COj' 'NH3j']\n",
      " ['H2j' 'H2Oj' 'OHj' 'COj' 'NH3j']]\n",
      "[['H2O' 'O' 'H3Oj' 'CO' 'E']\n",
      " ['H2O' 'O' 'H3Oj' 'CO' 'E']\n",
      " ['H2O' 'O' 'H3Oj' 'CO' 'E']\n",
      " ['H2O' 'O' 'H3Oj' 'CO' 'E']\n",
      " ['H2O' 'O' 'H3Oj' 'CO' 'E']\n",
      " ['H2O' 'O' 'H3Oj' 'CO' 'E']]\n",
      "[[-2.34710210e-10 -5.26743715e-11 -4.73189744e-11 -1.85586248e-11\n",
      "  -1.48305456e-11]\n",
      " [-2.33757116e-10 -5.27761183e-11 -4.74169564e-11 -1.86585284e-11\n",
      "  -1.45916141e-11]\n",
      " [-2.32805180e-10 -5.28841818e-11 -4.75206520e-11 -1.87621688e-11\n",
      "  -1.43551058e-11]\n",
      " [-2.31854495e-10 -5.29989588e-11 -4.76303938e-11 -1.88697969e-11\n",
      "  -1.41197894e-11]\n",
      " [-2.30587110e-10 -5.31621634e-11 -4.77858770e-11 -1.90194569e-11\n",
      "  -1.38079011e-11]\n",
      " [-2.28901184e-10 -5.34008275e-11 -4.80121869e-11 -1.92316070e-11\n",
      "  -1.33952552e-11]]\n",
      "[[2.52692955e-11 3.41769126e-11 3.83924502e-11 9.80947630e-11\n",
      "  1.71759824e-10]\n",
      " [2.52048680e-11 3.42115462e-11 3.84482626e-11 9.76204414e-11\n",
      "  1.71152604e-10]\n",
      " [2.51401699e-11 3.42483612e-11 3.85081634e-11 9.71440002e-11\n",
      "  1.70550168e-10]\n",
      " [2.50749442e-11 3.42874315e-11 3.85722917e-11 9.66658961e-11\n",
      "  1.69953920e-10]\n",
      " [2.49870556e-11 3.43430841e-11 3.86646230e-11 9.60258171e-11\n",
      "  1.69169053e-10]\n",
      " [2.48678555e-11 3.44239848e-11 3.88007439e-11 9.51670000e-11\n",
      "  1.68141382e-10]]\n"
     ]
    }
   ],
   "source": [
    "b1,s1,b1_in,s1_in=deal_with(data1)\n",
    "b2,s2,b2_in,s2_in=deal_with(data2)\n",
    "b1_name=read_name(b1_in)\n",
    "b2_name=read_name(b2_in)\n",
    "s1_name=read_name(s1_in)\n",
    "s2_name=read_name(s2_in)\n",
    "\n",
    "print(s1_name)\n",
    "print(b1_name)\n",
    "print(s1)\n",
    "print(b1)"
   ]
  },
  {
   "cell_type": "code",
   "execution_count": null,
   "metadata": {},
   "outputs": [],
   "source": []
  }
 ],
 "metadata": {
  "kernelspec": {
   "display_name": "Python 3",
   "language": "python",
   "name": "python3"
  },
  "language_info": {
   "codemirror_mode": {
    "name": "ipython",
    "version": 3
   },
   "file_extension": ".py",
   "mimetype": "text/x-python",
   "name": "python",
   "nbconvert_exporter": "python",
   "pygments_lexer": "ipython3",
   "version": "3.7.0"
  }
 },
 "nbformat": 4,
 "nbformat_minor": 2
}
