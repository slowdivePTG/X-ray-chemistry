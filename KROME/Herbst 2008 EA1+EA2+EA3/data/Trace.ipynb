{
 "cells": [
  {
   "cell_type": "code",
   "execution_count": 1,
   "metadata": {},
   "outputs": [
    {
     "name": "stdout",
     "output_type": "stream",
     "text": [
      "All variables set as e.g. krome_idx_H2\n",
      "plot 'your_output' u 1:krome_idx_H2\n",
      " the offset is nkrome= 0\n"
     ]
    }
   ],
   "source": [
    "import numpy as np\n",
    "import matplotlib.pyplot as plt\n",
    "from species import *"
   ]
  },
  {
   "cell_type": "code",
   "execution_count": 2,
   "metadata": {},
   "outputs": [],
   "source": [
    "raw10=np.loadtxt('Trace5_0')\n",
    "raw20=np.loadtxt('Trace5_1')\n",
    "l=len(raw10)"
   ]
  },
  {
   "cell_type": "code",
   "execution_count": 3,
   "metadata": {},
   "outputs": [
    {
     "data": {
      "text/plain": [
       "array(['E', 'GRAINk', 'Hk', 'Ck', 'CNk', 'Ok', 'OHk', 'Sk', 'GRAIN0', 'C',\n",
       "       'FE', 'H', 'HE', 'MG', 'N', 'NA', 'O', 'S', 'SI', 'H2', 'CO', 'CL',\n",
       "       'P', 'C2', 'CCL', 'CH', 'CLO', 'CN', 'CP', 'CS', 'HCL', 'HF', 'F',\n",
       "       'HS', 'MGH', 'N2', 'NAH', 'NH', 'NO', 'NS', 'O2', 'OH', 'PH', 'PN',\n",
       "       'PO', 'S2', 'SIC', 'SIH', 'SIN', 'SIO', 'SIS', 'SO', 'C2H', 'C2N',\n",
       "       'C2S', 'C3', 'CCO', 'CCP', 'CH2', 'CO2', 'H2O', 'H2S', 'HCN',\n",
       "       'HCO', 'HCP', 'HCS', 'HCSI', 'HNC', 'HNO', 'HNSI', 'HPO', 'HS2',\n",
       "       'N2O', 'NAOH', 'NH2', 'NO2', 'O2H', 'OCN', 'OCS', 'PH2', 'SIC2',\n",
       "       'SIH2', 'SINC', 'SIO2', 'SO2', 'C2H2', 'C3H', 'HC3', 'C3N', 'C3O',\n",
       "       'C3P', 'C3S', 'C4', 'CH3', 'H2CO', 'H2CS', 'H2O2', 'H2S2', 'H2SIO',\n",
       "       'HCCP', 'NH3', 'SIC2H', 'SIC3', 'SICH2', 'SIH3', 'C2H2N', 'C2H2O',\n",
       "       'C2H3', 'C3H2', 'H2C3', 'C4H', 'C4N', 'C4P', 'C4S', 'C5', 'CH2O2',\n",
       "       'CH2PH', 'CH3N', 'CH4', 'HC3N', 'SIC2H2', 'SIC3H', 'SIC4', 'SICH3',\n",
       "       'SIH4', 'C2H3N', 'C2H4', 'C3H3', 'C4H2', 'C5H', 'C5N', 'C6',\n",
       "       'CH4O', 'C2H4O', 'C2H5', 'C3H3N', 'C3H4', 'C5H2', 'C6H', 'C7',\n",
       "       'CH5N', 'HC5N', 'C6H2', 'C7H', 'C7N', 'C8', 'CH3C3N', 'HCOOCH3',\n",
       "       'C2H5OH', 'C7H2', 'C8H', 'C9', 'CH3C4H', 'CH3OCH3', 'HC7N',\n",
       "       'C2H6CO', 'C8H2', 'C9H', 'C9N', 'CH3C5N', 'C9H2', 'CH3C6H',\n",
       "       'CH3C7N', 'HC9N', 'HCNC2', 'HC2NC', 'HNC3', 'NH2CHO', 'C4H3',\n",
       "       'NH2CN', 'C6H6', 'H2CN', 'C10', 'C11', 'SIC3H3', 'SIC4H', 'SIC6H',\n",
       "       'SIC8H', 'SIC2H3', 'C3H6', 'SIC3H5', 'C4H4', 'C4H6', 'HC4N',\n",
       "       'HC6N', 'HC8N', 'HC10N', 'HC11N', 'HC12N', 'NC4N', 'NC6N', 'NC8N',\n",
       "       'NC10N', 'NC12N', 'HC13N', 'Cj', 'FEj', 'Hj', 'HEj', 'MGj', 'Nj',\n",
       "       'NAj', 'Oj', 'Sj', 'SIj', 'H3j', 'HCOj', 'CLj', 'Pj', 'COj', 'H2j',\n",
       "       'NOj', 'O2j', 'CH2j', 'H2Sj', 'HCSj', 'HNOj', 'NH2j', 'OCSj',\n",
       "       'C2H2j', 'CH3j', 'NH3j', 'C2H2Oj', 'CH2O2j', 'C2H3Nj', 'C2H4j',\n",
       "       'C4H2j', 'H3COj', 'CH4Oj', 'C2H4Oj', 'C3H4j', 'CH5Nj', 'C2H5OHj',\n",
       "       'CH3OCH3j', 'CHj', 'CCLj', 'C2j', 'CLOj', 'CPj', 'CFj', 'CSj',\n",
       "       'CNj', 'NSj', 'PHj', 'POj', 'SICj', 'SINj', 'SISj', 'SOj', 'C3j',\n",
       "       'C2Sj', 'C2Oj', 'CCPj', 'C2Hj', 'HOCj', 'C2Nj', 'CNCj', 'HCPj',\n",
       "       'SIC2j', 'SINCj', 'HPOj', 'HCNj', 'CHSIj', 'SIH2j', 'C3Hj', 'C4j',\n",
       "       'C3Oj', 'C3Sj', 'H2COj', 'H2SIOj', 'HCNHj', 'SIC2Hj', 'SIC3j',\n",
       "       'CH2SIj', 'SIH3j', 'C2H2Nj', 'C2H3j', 'C3H2j', 'H2C3j', 'C4Hj',\n",
       "       'C5j', 'C4Sj', 'PC2Hj', 'C3Nj', 'C4Nj', 'C3HNj', 'HNCj', 'SIC3Hj',\n",
       "       'SIC4j', 'SIC2H2j', 'SICH3j', 'HC2NCHj', 'C3H3j', 'H3C3j', 'C5Hj',\n",
       "       'C6j', 'C2H3Oj', 'C2H5j', 'C3H3Nj', 'C5H2j', 'C4H3j', 'C6Hj',\n",
       "       'C7j', 'CH4Nj', 'C5HNj', 'C7Hj', 'C8j', 'COOCH4j', 'C2H5Oj',\n",
       "       'C8Hj', 'C9j', 'C5H3j', 'C6H2j', 'C6H3j', 'C2H6COj', 'C9Hj',\n",
       "       'C10j', 'C7H3j', 'C8H2j', 'C8H3j', 'HCLj', 'Fj', 'HFj', 'HSj',\n",
       "       'NHj', 'OHj', 'PNj', 'S2j', 'SIHj', 'SIOj', 'H2Oj', 'HNSIj',\n",
       "       'S2Hj', 'PH2j', 'H2CSj', 'H2S2j', 'HSIOj', 'C4Pj', 'HCO2j',\n",
       "       'PCH3j', 'CH4j', 'C2NHj', 'SIH4j', 'NH4j', 'H2NCj', 'C3H2Nj',\n",
       "       'C7H2j', 'C5H4j', 'C7HNj', 'C9H2j', 'C7H4j', 'C9HNj', 'N2j',\n",
       "       'CO2j', 'HEHj', 'SO2j', 'C6H5j', 'C5H5j', 'N2Hj', 'NO2j', 'PC2H2j',\n",
       "       'PNH2j', 'PCH2j', 'HC2Sj', 'HC3Sj', 'H3CSj', 'HC4Sj', 'SIFj',\n",
       "       'SINH2j', 'SIC2H3j', 'SIC3H2j', 'C2HOj', 'H3Oj', 'H3Sj', 'HOCSj',\n",
       "       'CH5Oj', 'NCOj', 'HNCOj', 'C2N2j', 'O2Hj', 'CH5j', 'H2CLj', 'H2Fj',\n",
       "       'CH3O2j', 'H2POj', 'PNH3j', 'PCH4j', 'PC2H3j', 'HSISj', 'HSOj',\n",
       "       'HNSj', 'HPNj', 'H2NOj', 'NAH2Oj', 'PH3j', 'SINCHj', 'HSIO2j',\n",
       "       'HSO2j', 'HC3Oj', 'PC3Hj', 'H3S2j', 'H3SIOj', 'PC4Hj', 'NH2CNHj',\n",
       "       'SIC4Hj', 'SICH4j', 'SIH5j', 'C2H4Nj', 'NH2CH2Oj', 'C2H6j',\n",
       "       'C3H4Nj', 'C3H5j', 'C4H4j', 'CH6Nj', 'C5H2Nj', 'C4H4Nj', 'H5C2O2j',\n",
       "       'C2H5OH2j', 'CH3OCH4j', 'C7H2Nj', 'C3H6OHj', 'C6H4Nj', 'C9H3j',\n",
       "       'C7H5j', 'C8H4Nj', 'C9H2Nj', 'C6H7j', 'NAH2j', 'PC2H4j', 'C4H5j',\n",
       "       'H2CCLj', 'PC4H2j', 'C6H4j', 'C8H4j', 'C9H4j', 'C4H7j', 'HC4Nj',\n",
       "       'HC4Oj', 'C5Nj', 'H2C4Nj', 'H3C4Nj', 'C7Nj', 'C5H3Nj', 'C9Nj',\n",
       "       'C7H3Nj', 'C9H3Nj', 'OCSjH2', 'H2C3Oj', 'H3C3Oj', 'C5H4Nj',\n",
       "       'C8H5j', 'C9H5j', 'HEjj', 'dust_C_1', 'dust_C_2', 'dust_C_3',\n",
       "       'dust_C_4', 'dust_C_5', 'dust_C_6', 'dust_C_7', 'dust_C_8',\n",
       "       'dust_C_9', 'dust_C_10', 'dust_Si_1', 'dust_Si_2', 'dust_Si_3',\n",
       "       'dust_Si_4', 'dust_Si_5', 'dust_Si_6', 'dust_Si_7', 'dust_Si_8',\n",
       "       'dust_Si_9', 'dust_Si_10', 'CR', 'g', 'Tgas', 'dummy', '0.0',\n",
       "       '0.0', '0.0', '0.0', '0.0', '0.0', '0.0', '0.0', '0.0', '0.0',\n",
       "       '0.0', '0.0', '0.0', '0.0', '0.0', '0.0', '0.0', '0.0', '0.0',\n",
       "       '0.0', '0.0', '0.0', '0.0'], dtype='<U32')"
      ]
     },
     "execution_count": 3,
     "metadata": {},
     "output_type": "execute_result"
    }
   ],
   "source": [
    "data = open('species')\n",
    "Name = np.zeros(500).astype(np.str)\n",
    "length=len('krome_idx_')\n",
    "i=0\n",
    "while 1:\n",
    "    line = data.readline()\n",
    "    if not line:\n",
    "        break\n",
    "    line=line.strip('\\n')\n",
    "    temp=line[length:line.find(' ')]\n",
    "    if (temp[-1]=='J'):\n",
    "        temp=temp[0:-1]+'j'\n",
    "    Name[i]=temp\n",
    "    i += 1\n",
    "Name"
   ]
  },
  {
   "cell_type": "code",
   "execution_count": 4,
   "metadata": {},
   "outputs": [],
   "source": [
    "def deal_with(data):\n",
    "    leng=5\n",
    "    l=len(data[:,1])\n",
    "    dat=data\n",
    "    small,big=np.zeros((l,leng)),np.zeros((l,leng))\n",
    "    big_index,small_index=np.zeros((l,leng)),np.zeros((l,leng))\n",
    "    for i in range(l):\n",
    "        dati=dat[i,:]\n",
    "        sor1 = dati.argsort()[1:leng+1] #sort, find the smallest\n",
    "        sor2 = dati.argsort()[-1-leng:-1] #biggest\n",
    "        big_index[i,:]=sor2+1\n",
    "        small_index[i,:]=sor1+1\n",
    "        for j in range(leng):\n",
    "            big[i,j]=dati[sor2[j]]\n",
    "            small[i,j]=dati[sor1[j]]    \n",
    "    return(big,small,big_index,small_index)"
   ]
  },
  {
   "cell_type": "code",
   "execution_count": 5,
   "metadata": {},
   "outputs": [],
   "source": [
    "def read_name(index):\n",
    "    name=np.zeros((int(l/453),5)).astype(np.str)\n",
    "    for i in range(int(l/453)):\n",
    "        for j in range(5):\n",
    "            name[i,j]=Name[int(index[i,j]-1)]\n",
    "    return(name)"
   ]
  },
  {
   "cell_type": "code",
   "execution_count": 6,
   "metadata": {},
   "outputs": [
    {
     "data": {
      "text/plain": [
       "array([[2.10574553e-08, 1.30802721e-26, 3.23408989e-14, ...,\n",
       "        2.91663990e-21, 2.32163434e-24, 0.00000000e+00],\n",
       "       [2.03937285e-08, 1.25260464e-26, 3.10169622e-14, ...,\n",
       "        2.69535193e-21, 2.13445726e-24, 0.00000000e+00],\n",
       "       [1.97912874e-08, 1.19189442e-26, 2.98163183e-14, ...,\n",
       "        2.43961329e-21, 1.94813114e-24, 0.00000000e+00],\n",
       "       ...,\n",
       "       [1.13370672e-08, 9.31496833e-31, 5.68477584e-13, ...,\n",
       "        1.46670094e-47, 5.30113408e-57, 0.00000000e+00],\n",
       "       [1.13370672e-08, 9.31496834e-31, 5.68477586e-13, ...,\n",
       "        1.46577294e-47, 5.29791450e-57, 0.00000000e+00],\n",
       "       [1.13370672e-08, 9.31496836e-31, 5.68477588e-13, ...,\n",
       "        1.46452994e-47, 5.29342188e-57, 0.00000000e+00]])"
      ]
     },
     "execution_count": 6,
     "metadata": {},
     "output_type": "execute_result"
    }
   ],
   "source": [
    "raw1=raw10.reshape(int(l/453),453,453)\n",
    "raw2=raw20.reshape(int(l/453),453,453)\n",
    "data1=raw1[:,krome_idx_H2-1,:]\n",
    "data2=raw2[:,krome_idx_H2-1,:]\n",
    "\n",
    "data1"
   ]
  },
  {
   "cell_type": "code",
   "execution_count": 7,
   "metadata": {},
   "outputs": [
    {
     "name": "stdout",
     "output_type": "stream",
     "text": [
      "[['H2j' 'H2Oj' 'OHj' 'COj' 'NH3j']\n",
      " ['H2j' 'H2Oj' 'OHj' 'COj' 'Oj']\n",
      " ['H2j' 'H2Oj' 'OHj' 'Oj' 'COj']\n",
      " ['H2j' 'H2Oj' 'OHj' 'Oj' 'COj']\n",
      " ['H2j' 'H2Oj' 'OHj' 'Oj' 'COj']\n",
      " ['Oj' 'OHj' 'NHj' 'HEj' 'Cj']\n",
      " ['Oj' 'OHj' 'NHj' 'HEj' 'Cj']\n",
      " ['Oj' 'OHj' 'NHj' 'HEj' 'Cj']]\n",
      "[['H2O' 'CO' 'H3Oj' 'OH' 'E']\n",
      " ['H2O' 'CO' 'H3Oj' 'OH' 'E']\n",
      " ['H2O' 'CO' 'H3Oj' 'OH' 'E']\n",
      " ['CO' 'H2O' 'H3Oj' 'OH' 'E']\n",
      " ['CO' 'H2O' 'OH' 'H3Oj' 'E']\n",
      " ['CHj' 'H3j' 'H' 'H2Oj' 'H2j']\n",
      " ['CHj' 'H3j' 'H' 'H2Oj' 'H2j']\n",
      " ['CHj' 'H3j' 'H' 'H2Oj' 'H2j']]\n",
      "[[-2.00416385e-08 -5.97998985e-09 -4.20039757e-09 -1.38022320e-09\n",
      "  -1.34413414e-09]\n",
      " [-1.92165092e-08 -6.04051649e-09 -4.33060011e-09 -1.49747030e-09\n",
      "  -1.44454072e-09]\n",
      " [-1.83539468e-08 -6.22859209e-09 -4.57173216e-09 -1.69370197e-09\n",
      "  -1.67649134e-09]\n",
      " [-1.73923043e-08 -6.69844941e-09 -5.06442846e-09 -2.18388741e-09\n",
      "  -1.98907117e-09]\n",
      " [-1.53216825e-08 -9.43894971e-09 -7.73707751e-09 -4.79456625e-09\n",
      "  -3.33174354e-09]\n",
      " [-3.51391595e-08 -1.00108743e-08 -1.70792109e-10 -5.53256535e-12\n",
      "  -4.40403153e-12]\n",
      " [-3.51391595e-08 -1.00108743e-08 -1.70792111e-10 -5.53256534e-12\n",
      "  -4.40403157e-12]\n",
      " [-3.51391594e-08 -1.00108743e-08 -1.70792114e-10 -5.53256532e-12\n",
      "  -4.40403162e-12]]\n",
      "[[3.52454046e-09 4.35495637e-09 4.41489317e-09 5.91341117e-09\n",
      "  2.10574553e-08]\n",
      " [3.49713687e-09 4.07667246e-09 4.45149771e-09 5.64949020e-09\n",
      "  2.03937285e-08]\n",
      " [3.54445007e-09 3.74849561e-09 4.58338655e-09 5.45458107e-09\n",
      "  1.97912874e-08]\n",
      " [3.32592076e-09 3.74893402e-09 4.92534513e-09 5.39784994e-09\n",
      "  1.93080147e-08]\n",
      " [2.29749100e-09 4.87845084e-09 6.14567588e-09 6.92163402e-09\n",
      "  1.96224330e-08]\n",
      " [4.83247411e-11 1.37442962e-10 2.54817970e-10 3.84516684e-09\n",
      "  7.42098349e-09]\n",
      " [4.83247417e-11 1.37442962e-10 2.54817971e-10 3.84516683e-09\n",
      "  7.42098348e-09]\n",
      " [4.83247424e-11 1.37442962e-10 2.54817971e-10 3.84516681e-09\n",
      "  7.42098346e-09]]\n"
     ]
    }
   ],
   "source": [
    "b1,s1,b1_in,s1_in=deal_with(data1)\n",
    "b2,s2,b2_in,s2_in=deal_with(data2)\n",
    "b1_name=read_name(b1_in)\n",
    "b2_name=read_name(b2_in)\n",
    "s1_name=read_name(s1_in)\n",
    "s2_name=read_name(s2_in)\n",
    "\n",
    "print(s1_name)\n",
    "print(b1_name)\n",
    "print(s1)\n",
    "print(b1)"
   ]
  },
  {
   "cell_type": "code",
   "execution_count": null,
   "metadata": {},
   "outputs": [],
   "source": []
  }
 ],
 "metadata": {
  "kernelspec": {
   "display_name": "Python 3",
   "language": "python",
   "name": "python3"
  },
  "language_info": {
   "codemirror_mode": {
    "name": "ipython",
    "version": 3
   },
   "file_extension": ".py",
   "mimetype": "text/x-python",
   "name": "python",
   "nbconvert_exporter": "python",
   "pygments_lexer": "ipython3",
   "version": "3.7.1"
  }
 },
 "nbformat": 4,
 "nbformat_minor": 2
}
