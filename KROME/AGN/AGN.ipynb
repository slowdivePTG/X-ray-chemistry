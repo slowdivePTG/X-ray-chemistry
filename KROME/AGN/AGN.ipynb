{
 "cells": [
  {
   "cell_type": "code",
   "execution_count": 1,
   "metadata": {},
   "outputs": [
    {
     "name": "stdout",
     "output_type": "stream",
     "text": [
      "All variables set as e.g. krome_idx_H2\n",
      "plot 'your_output' u 1:krome_idx_H2\n",
      " the offset is nkrome= 0\n"
     ]
    }
   ],
   "source": [
    "import os\n",
    "from os import sys\n",
    "sys.path.append('/Users/chang/X-ray-chemistry/KROME/AGN/data')\n",
    "import numpy as np\n",
    "import matplotlib.pyplot as plt\n",
    "from species import *"
   ]
  },
  {
   "cell_type": "code",
   "execution_count": null,
   "metadata": {},
   "outputs": [],
   "source": [
    "os.system('make gfortran')\n",
    "for i in range(8):\n",
    "    dis = i+1\n",
    "    nH = 'ratexH'+str(dis)+'.dat'\n",
    "    nHe = 'ratexHe'+str(dis)+'.dat'\n",
    "    orderH = 'cat ' + nH + ' > ratexH.dat'\n",
    "    os.system(orderH)\n",
    "    orderHe = 'cat ' + nHe + ' > ratexHe.dat'\n",
    "    os.system(orderHe)\n",
    "    os.system('./test')\n",
    "    command = 'cat ./data/dis > ./data/dis' + str(dis)\n",
    "    os.system(command)\n",
    "os.system('rm ./data/dis')\n",
    "os.system('cowsay -f www I feel ok')"
   ]
  },
  {
   "cell_type": "code",
   "execution_count": null,
   "metadata": {},
   "outputs": [],
   "source": [
    "Col = ['#b2182b','#d6604d','#f4a582','#fddbc7','#d1e5f0','#92c5de','#4393c3','#2166ac']\n",
    "def plot_fig(txt, col, spe, div = None):\n",
    "    raw = np.loadtxt(txt)\n",
    "    t = raw[:,0]\n",
    "    d = 'xH'\n",
    "    abu = raw[:,eval('krome_idx_' + spe)]\n",
    "    if div != None:\n",
    "        abu /= raw[:,eval('krome_idx_' + div)]\n",
    "        d = 'n' + div\n",
    "    plt.loglog(t, abu, label = txt[-1]+' kpc', color = col)\n",
    "    plt.xlabel(r'$t$ (yr)', fontsize = 25)\n",
    "    plt.ylabel(r'$n$'+spe.replace('j','+').replace('k','-')+'/'+d, fontsize = 25)\n",
    "    plt.legend()\n",
    "\n",
    "def plot_all(spe, div = None, d = None):\n",
    "    if d == None:\n",
    "        d = np.arange(8)+1\n",
    "    for i in d:\n",
    "        txt = './data/dis'+str(i)\n",
    "        plot_fig(txt, Col[i-1], spe, div)\n",
    "    #plt.show()"
   ]
  },
  {
   "cell_type": "code",
   "execution_count": null,
   "metadata": {},
   "outputs": [],
   "source": [
    "plt.figure(1, figsize = (24,16))\n",
    "plt.subplot(221)\n",
    "plot_all('E')\n",
    "plt.subplot(222)\n",
    "plot_all('H2')\n",
    "plt.subplot(223)\n",
    "plot_all('H3j')\n",
    "plt.subplot(224)\n",
    "plot_all('H3Oj')"
   ]
  },
  {
   "cell_type": "code",
   "execution_count": null,
   "metadata": {},
   "outputs": [],
   "source": [
    "plt.figure(1, figsize = (24,16))\n",
    "plt.subplot(221)\n",
    "plot_all('HCO')\n",
    "plt.subplot(222)\n",
    "plot_all('CH3')\n",
    "plt.subplot(223)\n",
    "plot_all('OH')\n",
    "plt.subplot(224)\n",
    "plot_all('CH2')"
   ]
  },
  {
   "cell_type": "code",
   "execution_count": null,
   "metadata": {},
   "outputs": [],
   "source": [
    "plt.figure(1, figsize = (12,8))\n",
    "plot_all('CH4O')"
   ]
  }
 ],
 "metadata": {
  "kernelspec": {
   "display_name": "Python 3",
   "language": "python",
   "name": "python3"
  },
  "language_info": {
   "codemirror_mode": {
    "name": "ipython",
    "version": 3
   },
   "file_extension": ".py",
   "mimetype": "text/x-python",
   "name": "python",
   "nbconvert_exporter": "python",
   "pygments_lexer": "ipython3",
   "version": "3.7.1"
  }
 },
 "nbformat": 4,
 "nbformat_minor": 2
}
