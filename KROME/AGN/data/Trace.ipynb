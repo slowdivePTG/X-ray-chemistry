{
 "cells": [
  {
   "cell_type": "code",
   "execution_count": 1,
   "metadata": {},
   "outputs": [
    {
     "name": "stdout",
     "output_type": "stream",
     "text": [
      "All variables set as e.g. krome_idx_H2\n",
      "plot 'your_output' u 1:krome_idx_H2\n",
      " the offset is nkrome= 0\n"
     ]
    }
   ],
   "source": [
    "import numpy as np\n",
    "import matplotlib.pyplot as plt\n",
    "from species import *"
   ]
  },
  {
   "cell_type": "code",
   "execution_count": 64,
   "metadata": {},
   "outputs": [
    {
     "data": {
      "text/plain": [
       "(4983, 454)"
      ]
     },
     "execution_count": 64,
     "metadata": {},
     "output_type": "execute_result"
    }
   ],
   "source": [
    "raw10=np.loadtxt('Trace7')\n",
    "raw20=np.loadtxt('Trace8')\n",
    "l = len(raw10) - raw10.shape[0] #"
   ]
  },
  {
   "cell_type": "code",
   "execution_count": 46,
   "metadata": {},
   "outputs": [],
   "source": [
    "# Get names of the species\n",
    "data = open('species')\n",
    "Name = np.zeros(500).astype(np.str)\n",
    "length=len('krome_idx_')\n",
    "i=0\n",
    "while 1:\n",
    "    line = data.readline()\n",
    "    if not line:\n",
    "        break\n",
    "    line=line.strip('\\n')\n",
    "    temp=line[length:line.find(' ')]\n",
    "    if (temp[-1]=='J'):\n",
    "        temp=temp[0:-1]+'j'\n",
    "    Name[i]=temp\n",
    "    i += 1"
   ]
  },
  {
   "cell_type": "code",
   "execution_count": 47,
   "metadata": {},
   "outputs": [],
   "source": [
    "def deal_with(data):\n",
    "    leng=5\n",
    "    l=len(data[:,1])\n",
    "    dat=data\n",
    "    small,big=np.zeros((l,leng)),np.zeros((l,leng))\n",
    "    big_index,small_index=np.zeros((l,leng)),np.zeros((l,leng))\n",
    "    for i in range(l):\n",
    "        dati=dat[i,:]\n",
    "        sor1 = dati.argsort()[1:leng+1] #sort, find the smallest\n",
    "        sor2 = dati.argsort()[-1-leng:-1] #biggest\n",
    "        big_index[i,:]=sor2+1\n",
    "        small_index[i,:]=sor1+1\n",
    "        for j in range(leng):\n",
    "            big[i,j]=dati[sor2[j]]\n",
    "            small[i,j]=dati[sor1[j]]    \n",
    "    return(big,small,big_index,small_index)"
   ]
  },
  {
   "cell_type": "code",
   "execution_count": 48,
   "metadata": {},
   "outputs": [],
   "source": [
    "def read_name(index):\n",
    "    name=np.zeros((int(l/453),5)).astype(np.str)\n",
    "    for i in range(int(l/453)):\n",
    "        for j in range(5):\n",
    "            name[i,j]=Name[int(index[i,j]-1)]\n",
    "    return(name)"
   ]
  },
  {
   "cell_type": "code",
   "execution_count": 49,
   "metadata": {},
   "outputs": [],
   "source": [
    "def draw_evo(data, *spe):\n",
    "    if not spe in Name:\n",
    "        print('Name is not valid!')\n",
    "        return\n",
    "    else:\n",
    "        for i in spe:\n",
    "            T = data[:,0]\n",
    "            y = data[:,eval('krome_idx_' + i)]\n",
    "            Y = (2*(y>0)-1)*log10(abs(y))\n",
    "            plt.semilogx(T, Y, label = i)\n",
    "            plt.xlabel(r'$r$ (yr)')\n",
    "            plt.ylabel(r'$\\log\\delta$ (per hydrogen atom)')"
   ]
  },
  {
   "cell_type": "code",
   "execution_count": 56,
   "metadata": {},
   "outputs": [],
   "source": [
    "raw1=raw10.reshape(int(l/453),453,454)\n",
    "raw2=raw20.reshape(int(l/453),453,454)\n",
    "t_data1=raw1[:,krome_idx_NH3-1,:]\n",
    "t_data2=raw2[:,krome_idx_NH3-1,:]"
   ]
  },
  {
   "cell_type": "code",
   "execution_count": 62,
   "metadata": {},
   "outputs": [
    {
     "ename": "IndexError",
     "evalue": "index 10 is out of bounds for axis 0 with size 10",
     "output_type": "error",
     "traceback": [
      "\u001b[0;31m---------------------------------------------------------------------------\u001b[0m",
      "\u001b[0;31mIndexError\u001b[0m                                Traceback (most recent call last)",
      "\u001b[0;32m<ipython-input-62-8aa9043b8ff4>\u001b[0m in \u001b[0;36m<module>\u001b[0;34m\u001b[0m\n\u001b[1;32m      1\u001b[0m \u001b[0mb1\u001b[0m\u001b[0;34m,\u001b[0m\u001b[0ms1\u001b[0m\u001b[0;34m,\u001b[0m\u001b[0mb1_in\u001b[0m\u001b[0;34m,\u001b[0m\u001b[0ms1_in\u001b[0m\u001b[0;34m=\u001b[0m\u001b[0mdeal_with\u001b[0m\u001b[0;34m(\u001b[0m\u001b[0mt_data1\u001b[0m\u001b[0;34m[\u001b[0m\u001b[0;36m1\u001b[0m\u001b[0;34m:\u001b[0m\u001b[0;36m454\u001b[0m\u001b[0;34m]\u001b[0m\u001b[0;34m)\u001b[0m\u001b[0;34m\u001b[0m\u001b[0;34m\u001b[0m\u001b[0m\n\u001b[1;32m      2\u001b[0m \u001b[0mb2\u001b[0m\u001b[0;34m,\u001b[0m\u001b[0ms2\u001b[0m\u001b[0;34m,\u001b[0m\u001b[0mb2_in\u001b[0m\u001b[0;34m,\u001b[0m\u001b[0ms2_in\u001b[0m\u001b[0;34m=\u001b[0m\u001b[0mdeal_with\u001b[0m\u001b[0;34m(\u001b[0m\u001b[0mt_data2\u001b[0m\u001b[0;34m[\u001b[0m\u001b[0;36m1\u001b[0m\u001b[0;34m:\u001b[0m\u001b[0;36m454\u001b[0m\u001b[0;34m]\u001b[0m\u001b[0;34m)\u001b[0m\u001b[0;34m\u001b[0m\u001b[0;34m\u001b[0m\u001b[0m\n\u001b[0;32m----> 3\u001b[0;31m \u001b[0mb1_name\u001b[0m\u001b[0;34m=\u001b[0m\u001b[0mread_name\u001b[0m\u001b[0;34m(\u001b[0m\u001b[0mb1_in\u001b[0m\u001b[0;34m)\u001b[0m\u001b[0;34m\u001b[0m\u001b[0;34m\u001b[0m\u001b[0m\n\u001b[0m\u001b[1;32m      4\u001b[0m \u001b[0mb2_name\u001b[0m\u001b[0;34m=\u001b[0m\u001b[0mread_name\u001b[0m\u001b[0;34m(\u001b[0m\u001b[0mb2_in\u001b[0m\u001b[0;34m)\u001b[0m\u001b[0;34m\u001b[0m\u001b[0;34m\u001b[0m\u001b[0m\n\u001b[1;32m      5\u001b[0m \u001b[0ms1_name\u001b[0m\u001b[0;34m=\u001b[0m\u001b[0mread_name\u001b[0m\u001b[0;34m(\u001b[0m\u001b[0ms1_in\u001b[0m\u001b[0;34m)\u001b[0m\u001b[0;34m\u001b[0m\u001b[0;34m\u001b[0m\u001b[0m\n",
      "\u001b[0;32m<ipython-input-48-4a71b14078ad>\u001b[0m in \u001b[0;36mread_name\u001b[0;34m(index)\u001b[0m\n\u001b[1;32m      3\u001b[0m     \u001b[0;32mfor\u001b[0m \u001b[0mi\u001b[0m \u001b[0;32min\u001b[0m \u001b[0mrange\u001b[0m\u001b[0;34m(\u001b[0m\u001b[0mint\u001b[0m\u001b[0;34m(\u001b[0m\u001b[0ml\u001b[0m\u001b[0;34m/\u001b[0m\u001b[0;36m453\u001b[0m\u001b[0;34m)\u001b[0m\u001b[0;34m)\u001b[0m\u001b[0;34m:\u001b[0m\u001b[0;34m\u001b[0m\u001b[0;34m\u001b[0m\u001b[0m\n\u001b[1;32m      4\u001b[0m         \u001b[0;32mfor\u001b[0m \u001b[0mj\u001b[0m \u001b[0;32min\u001b[0m \u001b[0mrange\u001b[0m\u001b[0;34m(\u001b[0m\u001b[0;36m5\u001b[0m\u001b[0;34m)\u001b[0m\u001b[0;34m:\u001b[0m\u001b[0;34m\u001b[0m\u001b[0;34m\u001b[0m\u001b[0m\n\u001b[0;32m----> 5\u001b[0;31m             \u001b[0mname\u001b[0m\u001b[0;34m[\u001b[0m\u001b[0mi\u001b[0m\u001b[0;34m,\u001b[0m\u001b[0mj\u001b[0m\u001b[0;34m]\u001b[0m\u001b[0;34m=\u001b[0m\u001b[0mName\u001b[0m\u001b[0;34m[\u001b[0m\u001b[0mint\u001b[0m\u001b[0;34m(\u001b[0m\u001b[0mindex\u001b[0m\u001b[0;34m[\u001b[0m\u001b[0mi\u001b[0m\u001b[0;34m,\u001b[0m\u001b[0mj\u001b[0m\u001b[0;34m]\u001b[0m\u001b[0;34m-\u001b[0m\u001b[0;36m1\u001b[0m\u001b[0;34m)\u001b[0m\u001b[0;34m]\u001b[0m\u001b[0;34m\u001b[0m\u001b[0;34m\u001b[0m\u001b[0m\n\u001b[0m\u001b[1;32m      6\u001b[0m     \u001b[0;32mreturn\u001b[0m\u001b[0;34m(\u001b[0m\u001b[0mname\u001b[0m\u001b[0;34m)\u001b[0m\u001b[0;34m\u001b[0m\u001b[0;34m\u001b[0m\u001b[0m\n",
      "\u001b[0;31mIndexError\u001b[0m: index 10 is out of bounds for axis 0 with size 10"
     ]
    }
   ],
   "source": [
    "b1,s1,b1_in,s1_in=deal_with(t_data1[1:454])\n",
    "b2,s2,b2_in,s2_in=deal_with(t_data2[1:454])\n",
    "b1_name=read_name(b1_in)\n",
    "b2_name=read_name(b2_in)\n",
    "s1_name=read_name(s1_in)\n",
    "s2_name=read_name(s2_in)\n",
    "\n",
    "print(b1_name)\n",
    "print(b2_name)\n",
    "print(b1)\n",
    "print(b2)"
   ]
  },
  {
   "cell_type": "code",
   "execution_count": 61,
   "metadata": {},
   "outputs": [
    {
     "data": {
      "text/plain": [
       "array([], dtype=int64)"
      ]
     },
     "execution_count": 61,
     "metadata": {},
     "output_type": "execute_result"
    }
   ],
   "source": [
    "xxx = np.array([1,2,3])\n",
    "xxx[1:0]"
   ]
  },
  {
   "cell_type": "code",
   "execution_count": null,
   "metadata": {},
   "outputs": [],
   "source": []
  }
 ],
 "metadata": {
  "kernelspec": {
   "display_name": "Python 3",
   "language": "python",
   "name": "python3"
  },
  "language_info": {
   "codemirror_mode": {
    "name": "ipython",
    "version": 3
   },
   "file_extension": ".py",
   "mimetype": "text/x-python",
   "name": "python",
   "nbconvert_exporter": "python",
   "pygments_lexer": "ipython3",
   "version": "3.7.1"
  }
 },
 "nbformat": 4,
 "nbformat_minor": 2
}
