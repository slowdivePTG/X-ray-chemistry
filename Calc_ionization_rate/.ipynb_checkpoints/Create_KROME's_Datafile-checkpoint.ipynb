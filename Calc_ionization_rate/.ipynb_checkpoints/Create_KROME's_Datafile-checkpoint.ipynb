{
 "cells": [
  {
   "cell_type": "markdown",
   "metadata": {},
   "source": [
    "# Add calculated ionization rates to KROME's datafile "
   ]
  },
  {
   "cell_type": "code",
   "execution_count": 2,
   "metadata": {
    "ExecuteTime": {
     "end_time": "2019-09-10T02:15:35.975154Z",
     "start_time": "2019-09-10T02:15:33.760750Z"
    }
   },
   "outputs": [],
   "source": [
    "from Photon_Ionization import *\n",
    "import yt.units as u"
   ]
  },
  {
   "cell_type": "code",
   "execution_count": 3,
   "metadata": {
    "ExecuteTime": {
     "end_time": "2019-09-10T02:15:43.527394Z",
     "start_time": "2019-09-10T02:15:36.582579Z"
    }
   },
   "outputs": [],
   "source": [
    "distance = np.arange(8)+1\n",
    "dic = {'alpha':0.1, 'beta':100, 'mdot':3}\n",
    "Dat = compare(distance, dic)"
   ]
  },
  {
   "cell_type": "markdown",
   "metadata": {},
   "source": [
    "## Column density vs. Ionization rate"
   ]
  },
  {
   "cell_type": "markdown",
   "metadata": {},
   "source": [
    "### Column density vs. Number density"
   ]
  },
  {
   "cell_type": "markdown",
   "metadata": {},
   "source": [
    "KROME assumes the total number of $\\text{H/He}$ atoms in different molecular clouds as a constant, and therefore\n",
    "$$\n",
    "N^i=1.87\\times{10}^{21}\\left(\\frac{n^i}{1000}\\right)^{2/3}\\text{ cm}^{-2}\n",
    "$$"
   ]
  },
  {
   "cell_type": "code",
   "execution_count": 3,
   "metadata": {},
   "outputs": [],
   "source": [
    "def num2col0(nH, nHe):\n",
    "    NH = 1.87e21*(nH/1000)**(2/3)\n",
    "    NHe = 1.87e21*(nHe/1000)**(2/3)\n",
    "    return(NH, NHe)\n",
    "def col2num0(NH, NHe):\n",
    "    nH = 1000*(NH/1.87e21)**(3/2)\n",
    "    nHe = 1000*(NHe/1.87e21)**(3/2)\n",
    "    return(nH, nHe)"
   ]
  },
  {
   "cell_type": "code",
   "execution_count": 4,
   "metadata": {},
   "outputs": [
    {
     "data": {
      "text/plain": [
       "\"\\ndataH = np.loadtxt('ratexH.dat')\\ndataHe = np.loadtxt('ratexHe.dat')\\ndataH[:,1] += dataH[:,0] \\ndataH = 10**dataH\\ndataHe[:,1] += dataHe[:,0] \\ndataHe = 10**dataHe\\n\\ndaH, daHe = dataH.copy(), dataHe.copy()\\n\""
      ]
     },
     "execution_count": 4,
     "metadata": {},
     "output_type": "execute_result"
    }
   ],
   "source": [
    "'''\n",
    "dataH = np.loadtxt('ratexH.dat')\n",
    "dataHe = np.loadtxt('ratexHe.dat')\n",
    "dataH[:,1] += dataH[:,0] \n",
    "dataH = 10**dataH\n",
    "dataHe[:,1] += dataHe[:,0] \n",
    "dataHe = 10**dataHe\n",
    "\n",
    "daH, daHe = dataH.copy(), dataHe.copy()\n",
    "'''"
   ]
  },
  {
   "cell_type": "code",
   "execution_count": 5,
   "metadata": {},
   "outputs": [
    {
     "data": {
      "text/plain": [
       "'\\nion = np.array([])\\nfor NH, NHe in daH[:,0:2]:\\n    val, err = quad(lambda epsilon:F_E(epsilon)/epsilon*np.exp(-H.cross(epsilon)*NH-He.cross(epsilon)*NHe)*H.cross(epsilon), 2000, 10000)\\n    ion = np.append(ion, val)\\n\\nfor i in range(len(ion)):\\n    print(np.log10(ion[i]), np.log10(daH[:,-1][i]))\\n'"
      ]
     },
     "execution_count": 5,
     "metadata": {},
     "output_type": "execute_result"
    }
   ],
   "source": [
    "'''\n",
    "ion = np.array([])\n",
    "for NH, NHe in daH[:,0:2]:\n",
    "    val, err = quad(lambda epsilon:F_E(epsilon)/epsilon*np.exp(-H.cross(epsilon)*NH-He.cross(epsilon)*NHe)*H.cross(epsilon), 2000, 10000)\n",
    "    ion = np.append(ion, val)\n",
    "\n",
    "for i in range(len(ion)):\n",
    "    print(np.log10(ion[i]), np.log10(daH[:,-1][i]))\n",
    "'''"
   ]
  },
  {
   "cell_type": "markdown",
   "metadata": {},
   "source": [
    "However, if we consider the Jeans length as Latif+2015 did, the relationship between the column density and the number density is totally different\n",
    "$$N^i=n^i\\sqrt{\\frac{\\pi kT}{G\\rho\\mu m_H}}$$\n",
    "Thus\n",
    "$$\n",
    "\\frac{N_H}{N_{He}}=\\frac{n_H}{n_{He}}\\equiv\\chi\n",
    "$$\n",
    "Furthurmore\n",
    "$$\n",
    "\\rho\\mu m_H=\\frac{(m_Hn_H+m_{He}n_{He})^2}{n_H+n_{He}}=n_H\\frac{(m_H\\chi+m_{He})^2}{\\chi+1}\n",
    "$$"
   ]
  },
  {
   "cell_type": "code",
   "execution_count": 5,
   "metadata": {
    "ExecuteTime": {
     "end_time": "2019-09-03T07:47:02.511076Z",
     "start_time": "2019-09-03T07:47:02.504456Z"
    }
   },
   "outputs": [],
   "source": [
    "def num2col(nH, nHe):\n",
    "    chi = nH/nHe\n",
    "    A = np.sqrt(np.pi*k*T/G)\n",
    "    B = np.sqrt((mH*chi+mHe)**2/(chi+1)*nH)\n",
    "    return(nH*A/B, nHe*A/B)\n",
    "def col2num(NH, NHe):\n",
    "    chi = NH/NHe\n",
    "    C = np.sqrt(np.pi*k*T/G/(mH*chi+mHe)**2*(chi+1))\n",
    "    nH = (NH/C)**2\n",
    "    nHe = nH/chi\n",
    "    return(nH, nHe)"
   ]
  },
  {
   "cell_type": "markdown",
   "metadata": {},
   "source": [
    "- For the simple case, we directly utilize a radius of 1 pc for the molecular cloud"
   ]
  },
  {
   "cell_type": "code",
   "execution_count": 23,
   "metadata": {},
   "outputs": [
    {
     "name": "stdout",
     "output_type": "stream",
     "text": [
      "The column density (for hydrogen atoms) is 2.045590e+22 cm^-2\n",
      "The effective radius is 0.331465 pc\n"
     ]
    }
   ],
   "source": [
    "print('The column density (for hydrogen atoms) is {:e} cm^-2'.format((num2col(2e4,2e3)[0])))\n",
    "print('The effective radius is {:f} pc'.format((num2col(2e4,2e3)[0]/2e4*u.cm).in_units('pc')))"
   ]
  },
  {
   "cell_type": "code",
   "execution_count": 33,
   "metadata": {
    "ExecuteTime": {
     "end_time": "2019-09-04T01:36:18.822771Z",
     "start_time": "2019-09-04T01:36:18.764517Z"
    }
   },
   "outputs": [],
   "source": [
    "dataH = np.loadtxt('ratexH.dat')\n",
    "dataHe = np.loadtxt('ratexHe.dat')\n",
    "daH, daHe = dataH.copy(), dataHe.copy()\n",
    "\n",
    "daH[:,1] += daH[:,0] \n",
    "daH = 10**daH\n",
    "daHe[:,1] += daHe[:,0] \n",
    "daHe = 10**daHe\n",
    "\n",
    "#daH[:,0], daH[:,1] = col2num(daH[:,0], daH[:,1])\n",
    "#daHe[:,0], daHe[:,1] = col2num(daHe[:,0], daHe[:,1])\n",
    "\n",
    "#cloud size - 1 pc\n",
    "convert = (u.pc/u.cm).in_cgs()\n",
    "\n",
    "#cloud size - 5 pc\n",
    "convert = (5*u.pc/u.cm).in_cgs()\n",
    "\n",
    "#cloud size - 0.2 pc\n",
    "convert = (0.2*u.pc/u.cm).in_cgs()\n",
    "daH[:,0], daH[:,1] = 1/convert*(daH[:,0], daH[:,1])\n",
    "daHe[:,0], daHe[:,1] = 1/convert*(daHe[:,0], daHe[:,1])"
   ]
  },
  {
   "cell_type": "code",
   "execution_count": 29,
   "metadata": {
    "scrolled": true
   },
   "outputs": [
    {
     "data": {
      "text/plain": [
       "'\\nion = np.array([])\\nfor nH, nHe in daH[:,0:2]:\\n    ion = np.append(ion, Ion_p(H, He, H, None, nH, nHe))\\nfor i in range(len(ion)):\\n    print(np.log10(ion[i]), np.log10(daH[:,-1][i]))\\n'"
      ]
     },
     "execution_count": 29,
     "metadata": {},
     "output_type": "execute_result"
    }
   ],
   "source": [
    "'''\n",
    "ion = np.array([])\n",
    "for nH, nHe in daH[:,0:2]:\n",
    "    ion = np.append(ion, Ion_p(H, He, H, None, nH, nHe))\n",
    "for i in range(len(ion)):\n",
    "    print(np.log10(ion[i]), np.log10(daH[:,-1][i]))\n",
    "'''"
   ]
  },
  {
   "cell_type": "code",
   "execution_count": 35,
   "metadata": {
    "ExecuteTime": {
     "end_time": "2019-09-04T01:40:23.534677Z",
     "start_time": "2019-09-04T01:39:01.130023Z"
    },
    "scrolled": false
   },
   "outputs": [
    {
     "name": "stdout",
     "output_type": "stream",
     "text": [
      "************************\n",
      "alpha =  0.1\n",
      "beta =  100\n",
      "mdot =  3.0\n",
      "************************\n",
      "8.0\n",
      "************************\n",
      "alpha =  0.1\n",
      "beta =  100\n",
      "mdot =  3.0\n",
      "************************\n",
      "7.0\n",
      "************************\n",
      "alpha =  0.1\n",
      "beta =  100\n",
      "mdot =  3.0\n",
      "************************\n",
      "6.0\n",
      "************************\n",
      "alpha =  0.1\n",
      "beta =  100\n",
      "mdot =  3.0\n",
      "************************\n",
      "5.0\n",
      "************************\n",
      "alpha =  0.1\n",
      "beta =  100\n",
      "mdot =  3.0\n",
      "************************\n",
      "4.0\n",
      "************************\n",
      "alpha =  0.1\n",
      "beta =  100\n",
      "mdot =  3.0\n",
      "************************\n",
      "3.0\n",
      "************************\n",
      "alpha =  0.1\n",
      "beta =  100\n",
      "mdot =  3.0\n",
      "************************\n",
      "2.0\n",
      "************************\n",
      "alpha =  0.1\n",
      "beta =  100\n",
      "mdot =  3.0\n",
      "************************\n",
      "1.0\n"
     ]
    }
   ],
   "source": [
    "for da in Dat:\n",
    "    ion = np.array([])\n",
    "    da.intro()\n",
    "    print(da.distance_kpc)\n",
    "    for nH, nHe in daH[:,0:2]:\n",
    "        ion = np.append(ion, Ion_x(nH, nHe, H, He, H, He, da))\n",
    "    '''\n",
    "    for i in range(len(ion)):\n",
    "        if i%30==5:\n",
    "            print()\n",
    "            print(np.log10(daH[i, 0]), np.log10(daH[i,1]), np.log10(ion[i]), np.log10(daH[:,-1][i]))\n",
    "    '''\n",
    "    \n",
    "    f = open('/Users/chang/X-ray-chemistry/KROME/AGN_pc/2e-1/ratexH' + str(int(da.distance_kpc))+'.dat', 'w')\n",
    "    f.write('# KROME file, XRAY H rate\\n')\n",
    "    f.write('# Distance = ' + str(int(da.distance_kpc)) + ' kpc\\n')\n",
    "    f.write('# Xray rate including primary H ionization in 1/s\\n')\n",
    "    f.write('# first line indicates the size of the table (30x30)\\n')\n",
    "    f.write('# then first column is the parameter log10(nH), where nH is the H column density in cm-2\\n')\n",
    "    f.write('# second column is log10(xHe), where xHe = nHe/nH both in cm-2\\n')\n",
    "    f.write('# third column is log10(rate), where rate is in units of 1/s\\n')\n",
    "    f.write('30, 30')\n",
    "    for i in range(len(ion)):\n",
    "        if i%30==0:\n",
    "            f.write('\\n')\n",
    "        f.writelines([str(dataH[i, 0]) + ' ' + str(dataH[i,1]) + ' ' + str(np.log10(ion[i])) + '\\n'])\n",
    "    f.close()"
   ]
  },
  {
   "cell_type": "code",
   "execution_count": 36,
   "metadata": {
    "ExecuteTime": {
     "end_time": "2019-09-04T01:41:53.827397Z",
     "start_time": "2019-09-04T01:40:23.537094Z"
    }
   },
   "outputs": [
    {
     "name": "stdout",
     "output_type": "stream",
     "text": [
      "************************\n",
      "alpha =  0.1\n",
      "beta =  100\n",
      "mdot =  3.0\n",
      "************************\n",
      "8.0\n",
      "************************\n",
      "alpha =  0.1\n",
      "beta =  100\n",
      "mdot =  3.0\n",
      "************************\n",
      "7.0\n",
      "************************\n",
      "alpha =  0.1\n",
      "beta =  100\n",
      "mdot =  3.0\n",
      "************************\n",
      "6.0\n",
      "************************\n",
      "alpha =  0.1\n",
      "beta =  100\n",
      "mdot =  3.0\n",
      "************************\n",
      "5.0\n",
      "************************\n",
      "alpha =  0.1\n",
      "beta =  100\n",
      "mdot =  3.0\n",
      "************************\n",
      "4.0\n",
      "************************\n",
      "alpha =  0.1\n",
      "beta =  100\n",
      "mdot =  3.0\n",
      "************************\n",
      "3.0\n",
      "************************\n",
      "alpha =  0.1\n",
      "beta =  100\n",
      "mdot =  3.0\n",
      "************************\n",
      "2.0\n",
      "************************\n",
      "alpha =  0.1\n",
      "beta =  100\n",
      "mdot =  3.0\n",
      "************************\n",
      "1.0\n"
     ]
    }
   ],
   "source": [
    "for da in Dat:\n",
    "    ion = np.array([])\n",
    "    da.intro()\n",
    "    print(da.distance_kpc)\n",
    "    for nH, nHe in daHe[:,0:2]:\n",
    "        ion = np.append(ion, Ion_x(nHe, nH, H, He, He, H, da))\n",
    "    \n",
    "    f = open('/Users/chang/X-ray-chemistry/KROME/AGN_pc/2e-1/ratexHe' + str(int(da.distance_kpc))+'.dat', 'w')\n",
    "    f.write('# KROME file, XRAY He rate\\n')\n",
    "    f.write('# Distance = ' + str(int(da.distance_kpc)) + ' kpc\\n')\n",
    "    f.write('# Xray rate including primary He ionization in 1/s\\n')\n",
    "    f.write('# first line indicates the size of the table (30x30)\\n')\n",
    "    f.write('# then first column is the parameter log10(nH), where nH is the H column density in cm-2\\n')\n",
    "    f.write('# second column is log10(xHe), where xHe = nHe/nH both in cm-2\\n')\n",
    "    f.write('# third column is log10(rate), where rate is in units of 1/s\\n')\n",
    "    f.write('30, 30')\n",
    "    for i in range(len(ion)):\n",
    "        if i%30==0:\n",
    "            f.write('\\n')\n",
    "        f.writelines([str(dataH[i, 0]) + ' ' + str(dataH[i,1]) + ' ' + str(np.log10(ion[i])) + '\\n'])\n",
    "    f.close()"
   ]
  },
  {
   "cell_type": "code",
   "execution_count": 10,
   "metadata": {
    "ExecuteTime": {
     "end_time": "2019-09-03T07:50:54.983943Z",
     "start_time": "2019-09-03T07:50:54.976516Z"
    }
   },
   "outputs": [
    {
     "data": {
      "text/plain": [
       "array([22.29847969, 21.2527222 ])"
      ]
     },
     "execution_count": 10,
     "metadata": {},
     "output_type": "execute_result"
    }
   ],
   "source": [
    "np.log10(num2col(2e4,2e4*0.09))"
   ]
  },
  {
   "cell_type": "code",
   "execution_count": 11,
   "metadata": {
    "ExecuteTime": {
     "end_time": "2019-09-03T07:50:57.080726Z",
     "start_time": "2019-09-03T07:50:57.072608Z"
    }
   },
   "outputs": [
    {
     "data": {
      "text/plain": [
       "(1.9882898458212567e+22, 1.789460861239131e+21)"
      ]
     },
     "execution_count": 11,
     "metadata": {},
     "output_type": "execute_result"
    }
   ],
   "source": [
    "num2col(2e4,1.8e3)"
   ]
  }
 ],
 "metadata": {
  "kernelspec": {
   "display_name": "Python 3",
   "language": "python",
   "name": "python3"
  },
  "language_info": {
   "codemirror_mode": {
    "name": "ipython",
    "version": 3
   },
   "file_extension": ".py",
   "mimetype": "text/x-python",
   "name": "python",
   "nbconvert_exporter": "python",
   "pygments_lexer": "ipython3",
   "version": "3.7.1"
  }
 },
 "nbformat": 4,
 "nbformat_minor": 2
}
