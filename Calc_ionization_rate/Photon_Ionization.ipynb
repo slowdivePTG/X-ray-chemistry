{
 "cells": [
  {
   "cell_type": "markdown",
   "metadata": {},
   "source": [
    "# Photon Cross Section"
   ]
  },
  {
   "cell_type": "markdown",
   "metadata": {},
   "source": [
    "## Useful costants"
   ]
  },
  {
   "cell_type": "code",
   "execution_count": 1,
   "metadata": {},
   "outputs": [],
   "source": [
    "from scipy.integrate import quad\n",
    "import numpy as np\n",
    "import matplotlib as mpl\n",
    "import matplotlib.pyplot as plt\n",
    "\n",
    "#Planck Constant(ergs)\n",
    "h = 6.62606957e-27\n",
    "\n",
    "#Planck Constant(eVs)\n",
    "h_eV = 4.135667662e-15\n",
    "\n",
    "#Boltzmann Constant(erg/K)\n",
    "k = 1.3806485279e-16\n",
    "\n",
    "#frequence_0\n",
    "mu0 = 1e0/h\n",
    "\n",
    "#Gravitional constant(cm^3/g/s)\n",
    "G = 6.67408e-8\n",
    "\n",
    "#Mass of a Hydrogen atom(g)\n",
    "mH = 1.67357e-24\n",
    "\n",
    "#Mass of a Helium atom(g)\n",
    "mHe = 1.67357e-24*4.0026022/1.00794\n",
    "\n",
    "nH = 1e5\n",
    "nHe = 1e4\n",
    "\n",
    "xe = 0\n",
    "\n",
    "\n",
    "#Initial conditions\n",
    "T = 2.5e1 #K\n",
    "J21 = 0.1"
   ]
  },
  {
   "cell_type": "markdown",
   "metadata": {},
   "source": [
    "## Calculating the cross sections of HI and HeI"
   ]
  },
  {
   "cell_type": "code",
   "execution_count": 2,
   "metadata": {},
   "outputs": [],
   "source": [
    "class atom:\n",
    "    def __init__(self, name, Eth, Emax, E0, sigma0, ya, P, yw, y0, y1):\n",
    "        self.name = name\n",
    "        self.Eth, self.Emax, self.E0 = Eth, Emax, E0\n",
    "        self.sigma0, self.P = sigma0, P\n",
    "        self.ya, self.yw, self.y0, self.y1 = ya, yw, y0, y1\n",
    "        if (name == 'H'):\n",
    "            self.aa, self.bb, self.cc = 0.3908, 0.4092, 1.7592\n",
    "        elif (name == 'He'):\n",
    "            self.aa, self.bb, self.cc = 0.0554, 0.4614, 1.666\n",
    "        else:\n",
    "            self.aa, self.bb, self.cc = 0, 0, 0\n",
    "\n",
    "    def cross(self, E):\n",
    "        x = E/self.E0-self.y0\n",
    "        y = np.sqrt(x**2+self.y1**2)\n",
    "        D = (x-1)**2+self.yw**2\n",
    "        B = np.power(y, 0.5*self.P-5.5)\n",
    "        C = np.power(1+np.sqrt(y/self.ya),-self.P)\n",
    "        return(D*B*C*self.sigma0*1e-18)\n",
    "\n",
    "    def draw(self):\n",
    "        E = np.linspace(self.Eth, self.Emax, 10000)\n",
    "        sigma = self.cross(E)\n",
    "        plt.xscale('log')\n",
    "        plt.yscale('log')\n",
    "        plt.plot(E, sigma, label=self.name)\n",
    "        plt.xlabel(\"E(eV)\",fontsize=13)\n",
    "        plt.ylabel(\"$\\sigma$(cm$^2$)\",fontsize=13)\n",
    "        plt.legend()\n",
    "\n",
    "    def min(self):\n",
    "        return self.Eth\n",
    "\n",
    "    def max(self):\n",
    "        return self.Emax\n",
    "\n",
    "    def getabc(self):\n",
    "        return self.aa, self.bb, self.cc"
   ]
  },
  {
   "cell_type": "code",
   "execution_count": 3,
   "metadata": {},
   "outputs": [],
   "source": [
    "def main():\n",
    "    H = atom('H', 1.360E+1, 5.000E+04, 4.298E-01, 5.475E+04, 3.288E+01, 2.963E+00, 0.000E+00, 0.000E+00, 0.000E+00)\n",
    "    He = atom('He', 2.459E+1, 5.000E+04, 1.361E+01, 9.492E+02, 1.469E+00, 3.188E+00, 2.039E+00, 4.434E-01, 2.136E+00)\n",
    "    C = atom('C',1.126E+01, 2.910E+02, 2.144E+00, 5.027E+02, 6.216E+01, 5.101E+00, 9.157E-02, 1.133E+00, 1.607E+00)\n",
    "    O = atom('O',1.362E+01, 5.380E+02, 1.240E+00, 1.745E+03, 3.784E+00, 1.764E+01, 7.589E-02, 8.698E+00, 1.271E-01)\n",
    "    N = atom('N',1.453E+01, 4.048E+02, 4.034E+00, 8.235E+02, 8.033E+01, 3.928E+00, 9.097E-02, 8.598E-01, 2.325E+00)\n",
    "    Mg = atom('Mg',7.646E+00, 5.490E+01, 1.197E+01, 1.372E+08, 2.228E-01, 1.574E+01, 2.805E-01, 0.000E+00, 0.000E+00)\n",
    "    #H.draw()\n",
    "    #He.draw()\n",
    "    #C.draw()\n",
    "    #O.draw()\n",
    "    #plt.show()\n",
    "    print(O.cross(500)/H.cross(500))\n",
    "    print(C.cross(500)/H.cross(500))\n",
    "    print(O.cross(1000)/H.cross(1000))\n",
    "    print(C.cross(1000)/H.cross(1000))\n",
    "    print(N.cross(1000)/H.cross(1000))\n",
    "    print(Mg.cross(1000)/H.cross(1000)) #Ratios"
   ]
  },
  {
   "cell_type": "code",
   "execution_count": 4,
   "metadata": {},
   "outputs": [
    {
     "name": "stdout",
     "output_type": "stream",
     "text": [
      "302.0176806388171\n",
      "103.06672815494315\n",
      "411.3498814055944\n",
      "154.6646755115795\n",
      "282.8722370574143\n",
      "7.36010384707904\n"
     ]
    }
   ],
   "source": [
    "main()"
   ]
  },
  {
   "cell_type": "markdown",
   "metadata": {},
   "source": [
    "## Calculate the real ionization rate using Guangshuai's data"
   ]
  },
  {
   "cell_type": "code",
   "execution_count": 5,
   "metadata": {},
   "outputs": [],
   "source": [
    "from Spectrum_to_Ionization import *"
   ]
  },
  {
   "cell_type": "code",
   "execution_count": 6,
   "metadata": {},
   "outputs": [],
   "source": [
    "def inte(x, y): #integration\n",
    "    s = 0\n",
    "    for i in range(len(x)-1):\n",
    "        height = (y[i]+y[i+1])/2\n",
    "        delta = x[i+1]-x[i]\n",
    "        s += height*delta\n",
    "    return s"
   ]
  },
  {
   "cell_type": "code",
   "execution_count": 16,
   "metadata": {
    "scrolled": false
   },
   "outputs": [
    {
     "name": "stdout",
     "output_type": "stream",
     "text": [
      "1.0 0.018375205794656256\n",
      "2.0 0.03688380806069145\n",
      "0.1 0.0018357109794033136\n",
      "0.03 0.0005504373487338706\n",
      "3.0 0.055224958853892\n",
      "0.5 0.00913028044032958\n",
      "0.05 0.0009195257740749082\n"
     ]
    }
   ],
   "source": [
    "ty = '.txt'\n",
    "path = '/Users/chang/X-ray-chemistry/Calc_ionization_rate/spectrum data/spectrum/'\n",
    "data_list = readfile(path, ty)\n",
    "for i in data_list:\n",
    "    data = np.array([])\n",
    "    if i.alpha == 0.3 and i.beta == 100:\n",
    "        E = 10**(i.log_keV)*1.6021773e-9/h #eV to erg to Hertz\n",
    "        flux = i.flux(8) #8 kpc\n",
    "        print(i.mdot, inte(E, flux))"
   ]
  },
  {
   "cell_type": "markdown",
   "metadata": {},
   "source": [
    "## Calculating the X-rays ionization rates of HI and HeII\n",
    "> Lafif+ 2015\n",
    "\n",
    "- The primary ionization rate\n",
    "\n",
    "$$\n",
    "\\zeta_p^i=\\frac{4\\pi}{h}\\int_{E_{min}}^{E_{max}}\\frac{J(E)}{E}e^{-\\tau(E)}\\sigma^i(E)\\text{d}E\\\\\n",
    "J(E)=J_{X,21}\\left( \\frac{E}{1\\text{keV}}\\right) ^{-1.5}\\times10^{-21}\\text{ erg cm}^{−2}\\text{ s}^{-1}\\text{ Hz}^{-1} \\text{ sr}^{-1}\n",
    "$$"
   ]
  },
  {
   "cell_type": "code",
   "execution_count": 8,
   "metadata": {},
   "outputs": [],
   "source": [
    "# Flux\n",
    "def F_E(E): #E in eV, F_E in s^-1cm^-2\n",
    "    return(4*np.pi/h*1e-21*np.power(E/1000.0,-1.5)*J21)\n",
    "\n",
    "# Primary Ionization\n",
    "def Ion_p(H, He, A, E, flux):\n",
    "#     val1, err1 = quad(lambda epsilon:F_E(epsilon)/epsilon*np.exp(-Tau(epsilon, H, He))*A.cross(epsilon), 2000, 10000) (model)\n",
    "    y = np.array([])\n",
    "    for i in range(len(flux)):\n",
    "        y = np.append(y, flux[i]/h/E[i]*np.exp(-Tau(E[i], H, He))*A.cross(E[i]))\n",
    "    val1 = inte(E, y)\n",
    "    return(val1)\n",
    "\n",
    "def Ion_p0(H, He, A):\n",
    "    val1, err1 = quad(lambda epsilon:F_E(epsilon)/epsilon*np.exp(-Tau(epsilon, H, He))*A.cross(epsilon), 2000, 10000)\n",
    "    return(val1)    "
   ]
  },
  {
   "cell_type": "markdown",
   "metadata": {},
   "source": [
    "- Optical depth $\\tau$ is determined by the size of the cloud as well as the abundance of each species\n",
    "\n",
    "$$\n",
    "\\tau(E)=\\sum_{i=\\mathrm H,\\mathrm He}N_i\\sigma^i=\\frac{\\lambda_J}{2}\\sum_{i=\\mathrm H,\\mathrm He}n_i\\sigma^i\n",
    "$$\n",
    "\n",
    "- To estimate the size we take Jeans length\n",
    "\n",
    "$$\n",
    "\\lambda_J=\\sqrt{\\frac{\\pi kT}{G\\rho \\mu m_p}}\n",
    "$$\n",
    "\n",
    "where the mean molecular mass\n",
    "$$\n",
    "\\mu=\\frac{1.00794n_H+4.0026022n_{He}}{n_H+n_{He}}\n",
    "$$"
   ]
  },
  {
   "cell_type": "code",
   "execution_count": 9,
   "metadata": {},
   "outputs": [],
   "source": [
    "# Optical Depth\n",
    "def Tau(E, H, He):\n",
    "    rou_H, rou_He = nH*mH, nHe*mHe\n",
    "    rou = rou_H + rou_He\n",
    "    lambda_j = np.sqrt(np.pi*k*T/G/rou/mH*(nH+nHe)/(4.0026022*nHe+1.00794*nH))\n",
    "    NH, NHe = nH*lambda_j, nHe*lambda_j\n",
    "    tau = H.cross(E)*NH + He.cross(E)*NHe\n",
    "    #print(NH)\n",
    "    return(tau/2.0)"
   ]
  },
  {
   "cell_type": "markdown",
   "metadata": {},
   "source": [
    "- $\\sigma^i$ comes from Verner $\\&$ Ferland (1996)\n",
    "\n",
    "- $\\langle\\phi^j\\rangle​$ is much more complex. For $E>100​$eV and H, He mixture\n",
    "\n",
    "$$\n",
    "\\phi^H(E,x_e)=\\left( \\frac{E}{13.6\\text{eV}}-1\\right)0.3908(1-x_e^{0.4092})^{1.7592}\\\\\n",
    "\\phi^He(E,x_e)=\\left( \\frac{E}{24.6\\text{eV}}-1\\right)0.0554(1-x_e^{0.4614})^{1.666} \n",
    "$$\n",
    "\n",
    "where $x_e​$ is the electron fraction\n",
    "$$\n",
    "\\langle\\phi^i\\rangle=\\frac{\\int J(E)\\phi^i(E,x_e)\\text{d}E}{\\int J(E)\\text{d}E}\n",
    "$$"
   ]
  },
  {
   "cell_type": "code",
   "execution_count": 10,
   "metadata": {},
   "outputs": [],
   "source": [
    "def phi(E, A):\n",
    "    aa, bb, cc = A.getabc()\n",
    "    ph = (E/A.min()-1)*aa*np.power(1-np.power(xe, bb), cc)\n",
    "    return ph\n",
    "\n",
    "def phi_bar(A):\n",
    "    J_Phi, err1 = quad(lambda epsilon:J21*1e-21*np.power(epsilon/1000.0,-1.5)*phi(epsilon, A), 2000, 10000)\n",
    "    J, err2 = quad(lambda epsilon:J21*1e-21*np.power(epsilon/1000.0,-1.5), 2000, 10000)\n",
    "    return(J_Phi/J)\n",
    "\n",
    "def phi_b(A):\n",
    "    aa, bb, cc = A.getabc()\n",
    "    if A.name == 'H':\n",
    "        return 327.832286034056e0*aa*np.power(1-np.power(xe, bb), cc)\n",
    "    elif A.name == 'He':\n",
    "        return 180.793458763612e0*aa*np.power(1-np.power(xe, bb), cc)\n",
    "    else:\n",
    "        return 0\n",
    "\n",
    "def Ion_x(n1, n2, H, He, A, B): #the method offered in Latif 2015\n",
    "    Ip = Ion_p(H, He, A)\n",
    "    zeta_2 = (Ip + n2/n1*Ion_p(H, He, B))*phi_bar(A)\n",
    "    return(Ip + zeta_2)\n",
    "\n",
    "def Ion_xx(n1, n2, H, He, A, B): #what krome is actually using(simplified phi_b)\n",
    "    Ip = Ion_p(H, He, A)\n",
    "    zeta_2 = (Ip + n2/n1*Ion_p(H, He, B))*phi_b(A)\n",
    "    return(Ip + zeta_2)\n",
    "\n",
    "def Ion_xxx(n1, n2, H, He, A, B):\n",
    "    Ip = Ion_p(H, He, A)\n",
    "    I21,err1 = quad(lambda epsilon:F_E(epsilon)*np.exp(-Tau(epsilon, H, He))/epsilon*B.cross(epsilon)*phi(epsilon,A), 2000, 10000)\n",
    "    I22,err2 = quad(lambda epsilon:F_E(epsilon)*np.exp(-Tau(epsilon, H, He))/epsilon*A.cross(epsilon)*phi(epsilon,A), 2000, 10000)\n",
    "    print(I22/Ion_p(H, He, A)/phi_bar(A))\n",
    "    print(I21/Ion_p(H, He, B)/phi_bar(A))\n",
    "    print()\n",
    "    return(Ip+n2/n1*I21+I22)"
   ]
  },
  {
   "cell_type": "markdown",
   "metadata": {},
   "source": [
    "- The total X-ray ionization rate for certain species $i$\n",
    "\n",
    "$$\n",
    "\\zeta_x^i=\\zeta_p^i+\\sum_{j=H,He}\\frac{n_j}{n_i}\\zeta_p^j\\langle\\phi^j\\rangle\n",
    "$$\n",
    "\n",
    "where $n_j​$ is the number density"
   ]
  },
  {
   "cell_type": "code",
   "execution_count": 11,
   "metadata": {},
   "outputs": [],
   "source": [
    "def test(H, He):\n",
    "    print(H.name, np.log10(Ion_p(H, He, H)))\n",
    "    print(He.name, np.log10(Ion_p(H, He, He)))\n",
    "    print()\n",
    "    print(Ion_x(nH, nHe, H, He, H, He)/Ion_p(H, He, H), np.log10(Ion_x(nH, nHe, H, He, H, He)))\n",
    "    print(Ion_x(nHe, nH, H, He, He, H)/Ion_p(H, He, H), np.log10(Ion_x(nHe, nH, H, He, He, H)))\n",
    "    print()\n",
    "    #print(Ion_xx(nH, nHe, H, He, H, He), np.log10(Ion_xx(nH, nHe, H, He, H, He)))\n",
    "    #print(Ion_xx(nHe, nH, H, He, He, H), np.log10(Ion_xx(nHe, nH, H, He, He, H)))\n",
    "    #print()\n",
    "    #print(Ion_xxx(nH, nHe, H, He, H, He), np.log10(Ion_xxx(nH, nHe, H, He, H, He)))\n",
    "    #print(Ion_xxx(nHe, nH, H, He, He, H), np.log10(Ion_xxx(nHe, nH, H, He, He, H)))"
   ]
  },
  {
   "cell_type": "markdown",
   "metadata": {},
   "source": [
    "## Draw the flux-energy diagram"
   ]
  },
  {
   "cell_type": "code",
   "execution_count": 12,
   "metadata": {},
   "outputs": [],
   "source": [
    "def draw_flux(H, He):\n",
    "    E = np.linspace(100, 5.000E+04, 100000)\n",
    "    T = np.exp(-Tau(E, H, He))\n",
    "    J0 = J21*1e-21*np.power(E/1000.0,-1.5)\n",
    "    Jx = J0*T\n",
    "\n",
    "    plt.xscale('log')\n",
    "    plt.yscale('log')\n",
    "    plt.plot(E, J0, label='$J_0$')\n",
    "    plt.plot(E, Jx, label='$J_H$')\n",
    "    plt.xlabel(\"E(eV)\",fontsize=13)\n",
    "    plt.ylabel(\"$J$(erg/cm2/s/Hz)\",fontsize=13)\n",
    "    plt.legend()\n",
    "    plt.show()\n",
    "    J1 = J0*T*H.cross(E)\n",
    "    J2 = J0*T*He.cross(E)\n",
    "    plt.xscale('log')\n",
    "    plt.yscale('log')\n",
    "    plt.ylim([5e-6,1e-3])\n",
    "    #plt.plot(E, J1, label='$J_H$')\n",
    "    #plt.plot(E, J2, label='$J_{He}$')\n",
    "    plt.plot(E, Jx*4*np.pi*E/(4.135667662e-15), label=r'$\\nu F_{\\nu}$')\n",
    "    plt.xlabel(\"E(eV)\",fontsize=13)\n",
    "    plt.ylabel(r\"$\\nu F_{\\nu}$(erg cm$^{-2}$ s$^{-1}$)\",fontsize=13)\n",
    "    plt.legend()\n",
    "    fx = quad(lambda epsilon:J21*1e-21*np.power(epsilon/1000.0,-1.5)*np.exp(-Tau(epsilon, H, He))*4*np.pi/((h_eV)), 2000, 100000)\n",
    "    print(fx)"
   ]
  },
  {
   "cell_type": "code",
   "execution_count": 13,
   "metadata": {
    "scrolled": false
   },
   "outputs": [
    {
     "name": "stdout",
     "output_type": "stream",
     "text": [
      "573922607.7381752\n"
     ]
    }
   ],
   "source": [
    "def main_x():\n",
    "    H = atom('H', 1.360E+01, 5.000E+04, 4.298E-01, 5.475E+04, 3.288E+01, 2.963E+00, 0.000E+00, 0.000E+00, 0.000E+00)\n",
    "    He = atom('He', 2.459E+01, 5.000E+04, 1.361E+01, 9.492E+02, 1.469E+00, 3.188E+00, 2.039E+00, 4.434E-01, 2.136E+00)\n",
    "    #test(H, He)\n",
    "    #E=np.linspace(2000,10000,1000)\n",
    "    #plt.xscale('log')\n",
    "    #plt.yscale('log')\n",
    "    #plt.plot(E,Tau(E,H,He))\n",
    "\n",
    "    #draw_flux(H, He)\n",
    "    #plt.show()\n",
    "    print(inte(E/h, flux))\n",
    "    #print(Ion_p(H, He, H, E, flux))\n",
    "    #print(Ion_p0(H, He, H))\n",
    "    \n",
    "main_x()"
   ]
  },
  {
   "cell_type": "code",
   "execution_count": null,
   "metadata": {},
   "outputs": [],
   "source": []
  }
 ],
 "metadata": {
  "kernelspec": {
   "display_name": "Python 3",
   "language": "python",
   "name": "python3"
  },
  "language_info": {
   "codemirror_mode": {
    "name": "ipython",
    "version": 3
   },
   "file_extension": ".py",
   "mimetype": "text/x-python",
   "name": "python",
   "nbconvert_exporter": "python",
   "pygments_lexer": "ipython3",
   "version": "3.7.1"
  }
 },
 "nbformat": 4,
 "nbformat_minor": 2
}
