{
 "cells": [
  {
   "cell_type": "markdown",
   "metadata": {},
   "source": [
    "# Photon Cross Section"
   ]
  },
  {
   "cell_type": "markdown",
   "metadata": {},
   "source": [
    "## Useful costants"
   ]
  },
  {
   "cell_type": "code",
   "execution_count": 1,
   "metadata": {},
   "outputs": [],
   "source": [
    "from scipy.integrate import quad\n",
    "import numpy as np\n",
    "import matplotlib as mpl\n",
    "import matplotlib.pyplot as plt\n",
    "\n",
    "#Planck Constant(ergs)\n",
    "h = 6.62606957e-27\n",
    "\n",
    "#Planck Constant(eVs)\n",
    "h_eV = 4.135667662e-15\n",
    "\n",
    "#Boltzmann Constant(erg/K)\n",
    "k = 1.3806485279e-16\n",
    "\n",
    "#frequence_0\n",
    "mu0 = 1e0/h\n",
    "\n",
    "#Gravitional constant(cm^3/g/s)\n",
    "G = 6.67408e-8\n",
    "\n",
    "#Mass of a Hydrogen atom(g)\n",
    "mH = 1.67357e-24\n",
    "\n",
    "#Mass of a Helium atom(g)\n",
    "mHe = 1.67357e-24*4.0026022/1.00794\n",
    "\n",
    "nH = 1e5\n",
    "nHe = 1e4\n",
    "\n",
    "xe = 0\n",
    "\n",
    "\n",
    "#Initial conditions\n",
    "T = 1.6e2 #K\n",
    "J21 = 0.1"
   ]
  },
  {
   "cell_type": "code",
   "execution_count": 2,
   "metadata": {},
   "outputs": [],
   "source": [
    "from Spectrum_to_Ionization import Spec #Guangshuai's data\n",
    "import Spectrum_to_Ionization as spi"
   ]
  },
  {
   "cell_type": "markdown",
   "metadata": {},
   "source": [
    "## Calculating the cross sections of HI and HeI"
   ]
  },
  {
   "cell_type": "code",
   "execution_count": 3,
   "metadata": {},
   "outputs": [],
   "source": [
    "class atom:\n",
    "    def __init__(self, name, Eth, Emax, E0, sigma0, ya, P, yw, y0, y1):\n",
    "        self.name = name\n",
    "        self.Eth, self.Emax, self.E0 = Eth, Emax, E0\n",
    "        self.sigma0, self.P = sigma0, P\n",
    "        self.ya, self.yw, self.y0, self.y1 = ya, yw, y0, y1\n",
    "        if (name == 'H'):\n",
    "            self.aa, self.bb, self.cc = 0.3908, 0.4092, 1.7592\n",
    "        elif (name == 'He'):\n",
    "            self.aa, self.bb, self.cc = 0.0554, 0.4614, 1.666\n",
    "        else:\n",
    "            self.aa, self.bb, self.cc = 0, 0, 0\n",
    "\n",
    "    def cross(self, E):\n",
    "        x = E/self.E0-self.y0\n",
    "        y = np.sqrt(x**2+self.y1**2)\n",
    "        D = (x-1)**2+self.yw**2\n",
    "        B = np.power(y, 0.5*self.P-5.5)\n",
    "        C = np.power(1+np.sqrt(y/self.ya),-self.P)\n",
    "        return(D*B*C*self.sigma0*1e-18)\n",
    "\n",
    "    def draw(self):\n",
    "        E = np.linspace(self.Eth, self.Emax, 10000)\n",
    "        sigma = self.cross(E)\n",
    "        plt.xscale('log')\n",
    "        plt.yscale('log')\n",
    "        plt.plot(E, sigma, label=self.name)\n",
    "        plt.xlabel(\"E(eV)\",fontsize=13)\n",
    "        plt.ylabel(\"$\\sigma$(cm$^2$)\",fontsize=13)\n",
    "        plt.legend()\n",
    "\n",
    "    def min(self):\n",
    "        return self.Eth\n",
    "\n",
    "    def max(self):\n",
    "        return self.Emax\n",
    "\n",
    "    def getabc(self):\n",
    "        return self.aa, self.bb, self.cc"
   ]
  },
  {
   "cell_type": "code",
   "execution_count": 37,
   "metadata": {},
   "outputs": [],
   "source": [
    "def main():\n",
    "    H = atom('H', 1.360E+1, 5.000E+04, 4.298E-01, 5.475E+04, 3.288E+01, 2.963E+00, 0.000E+00, 0.000E+00, 0.000E+00)\n",
    "    He = atom('He', 2.459E+1, 5.000E+04, 1.361E+01, 9.492E+02, 1.469E+00, 3.188E+00, 2.039E+00, 4.434E-01, 2.136E+00)\n",
    "    C = atom('C',1.126E+01, 2.910E+02, 2.144E+00, 5.027E+02, 6.216E+01, 5.101E+00, 9.157E-02, 1.133E+00, 1.607E+00)\n",
    "    O = atom('O',1.362E+01, 5.380E+02, 1.240E+00, 1.745E+03, 3.784E+00, 1.764E+01, 7.589E-02, 8.698E+00, 1.271E-01)\n",
    "    N = atom('N',1.453E+01, 4.048E+02, 4.034E+00, 8.235E+02, 8.033E+01, 3.928E+00, 9.097E-02, 8.598E-01, 2.325E+00)\n",
    "    Mg = atom('Mg',7.646E+00, 5.490E+01, 1.197E+01, 1.372E+08, 2.228E-01, 1.574E+01, 2.805E-01, 0.000E+00, 0.000E+00)\n",
    "    H.draw()\n",
    "    #He.draw()\n",
    "    #C.draw()\n",
    "    #O.draw()\n",
    "    #plt.show()\n",
    "    print(O.cross(500)/H.cross(500))\n",
    "    print(C.cross(500)/H.cross(500))\n",
    "    print(O.cross(1000)/H.cross(1000))\n",
    "    print(C.cross(1000)/H.cross(1000))\n",
    "    print(N.cross(1000)/H.cross(1000))\n",
    "    print(Mg.cross(1000)/H.cross(1000)) #Ratios\n",
    "    print(H.cross(1000)*2e22)"
   ]
  },
  {
   "cell_type": "code",
   "execution_count": 38,
   "metadata": {},
   "outputs": [
    {
     "name": "stdout",
     "output_type": "stream",
     "text": [
      "302.0176806388171\n",
      "103.06672815494315\n",
      "411.3498814055944\n",
      "154.6646755115795\n",
      "282.8722370574143\n",
      "7.36010384707904\n",
      "0.22817346622219448\n"
     ]
    },
    {
     "data": {
      "image/png": "[encoded data removed]",
      "text/plain": [
       "<Figure size 432x288 with 1 Axes>"
      ]
     },
     "metadata": {
      "needs_background": "light"
     },
     "output_type": "display_data"
    }
   ],
   "source": [
    "main()"
   ]
  },
  {
   "cell_type": "code",
   "execution_count": 6,
   "metadata": {},
   "outputs": [],
   "source": [
    "H = atom('H', 1.360E+01, 5.000E+04, 4.298E-01, 5.475E+04, 3.288E+01, 2.963E+00, 0.000E+00, 0.000E+00, 0.000E+00)\n",
    "He = atom('He', 2.459E+01, 5.000E+04, 1.361E+01, 9.492E+02, 1.469E+00, 3.188E+00, 2.039E+00, 4.434E-01, 2.136E+00)"
   ]
  },
  {
   "cell_type": "markdown",
   "metadata": {},
   "source": [
    "## Calculating the X-rays ionization rates of HI and HeII\n",
    "> Lafif+ 2015\n",
    "\n",
    "- The primary ionization rate\n",
    "\n",
    "$$\n",
    "\\zeta_p^i=\\frac{4\\pi}{h}\\int_{E_{min}}^{E_{max}}\\frac{J(E)}{E}e^{-\\tau(E)}\\sigma^i(E)\\text{d}E\\\\\n",
    "J(E)=J_{X,21}\\left( \\frac{E}{1\\text{keV}}\\right) ^{-1.5}\\times10^{-21}\\text{ erg cm}^{−2}\\text{ s}^{-1}\\text{ Hz}^{-1} \\text{ sr}^{-1}\n",
    "$$"
   ]
  },
  {
   "cell_type": "code",
   "execution_count": 7,
   "metadata": {},
   "outputs": [],
   "source": [
    "# Flux\n",
    "def F_E(E): #E in eV, F_E in s^-1cm^-2\n",
    "    return(4*np.pi/h*1e-21*np.power(E/1000.0,-1.5))\n",
    "\n",
    "# Primary Ionization\n",
    "\n",
    "def Ion_p(H, He, A, spec = None, nH = 1e5, nHe = 1e4):\n",
    "    if spec == None:\n",
    "        val1, err1 = quad(lambda epsilon:F_E(epsilon)/epsilon*np.exp(-Tau(epsilon, H, He, nH, nHe))*A.cross(epsilon), 2000, 10000)\n",
    "        return(val1)\n",
    "    y = np.array([])\n",
    "    for i in range(len(spec.E_eV)):\n",
    "        y = np.append(y, spec.Fnu_abs[i]/h/spec.E_eV[i]*np.exp(-Tau(spec.E_eV[i], H, He, nH, nHe))*A.cross(spec.E_eV[i]))\n",
    "    return(inte(spec.E_eV, y))"
   ]
  },
  {
   "cell_type": "markdown",
   "metadata": {},
   "source": [
    "- Optical depth $\\tau$ is determined by the size of the cloud as well as the abundance of each species\n",
    "\n",
    "$$\n",
    "\\tau(E)=\\sum_{i=\\mathrm H,\\mathrm He}N_i\\sigma^i=\\frac{\\lambda_J}{2}\\sum_{i=\\mathrm H,\\mathrm He}n_i\\sigma^i\n",
    "$$\n",
    "\n",
    "- To estimate the size we take Jeans length\n",
    "\n",
    "$$\n",
    "\\lambda_J=\\sqrt{\\frac{\\pi kT}{G\\rho \\mu m_p}}\n",
    "$$\n",
    "\n",
    "where the mean molecular mass\n",
    "$$\n",
    "\\mu=\\frac{1.00794n_H+4.0026022n_{He}}{n_H+n_{He}}\n",
    "$$"
   ]
  },
  {
   "cell_type": "code",
   "execution_count": 8,
   "metadata": {},
   "outputs": [],
   "source": [
    "# Jeans Length (Consider only H/He)\n",
    "def Jeans(nH, nHe):\n",
    "    rhogas = nH*mH+nHe*mHe\n",
    "    mu = (4.0026022*nHe+1.00794*nH)/(nH+nHe)\n",
    "    jeans_length = np.sqrt(np.pi*k*T/rhogas/mH/G/mu)\n",
    "    return(jeans_length)\n",
    "\n",
    "# Optical Depth\n",
    "def Tau(E, H, He, nH = 1e5, nHe = 1e4):\n",
    "    lambda_j = Jeans(nH, nHe)\n",
    "    NH, NHe = nH*lambda_j, nHe*lambda_j\n",
    "    tau = H.cross(E)*NH + He.cross(E)*NHe\n",
    "    return(tau/2.0)\n",
    "\n",
    "# Column Density\n",
    "def Col(nH, nHe):\n",
    "    lambda_j = Jeans(nH, nHe)\n",
    "    col = (nH+nHe)*lambda_j\n",
    "    return(col/2.0)"
   ]
  },
  {
   "cell_type": "markdown",
   "metadata": {},
   "source": [
    "- $\\sigma^i$ comes from Verner $\\&$ Ferland (1996)\n",
    "\n",
    "- $\\langle\\phi^j\\rangle​$ is much more complex. For $E>100​$eV and H, He mixture\n",
    "\n",
    "$$\n",
    "\\phi^H(E,x_e)=\\left( \\frac{E}{13.6\\text{eV}}-1\\right)0.3908(1-x_e^{0.4092})^{1.7592}\\\\\n",
    "\\phi^{He}(E,x_e)=\\left( \\frac{E}{24.6\\text{eV}}-1\\right)0.0554(1-x_e^{0.4614})^{1.666} \n",
    "$$\n",
    "\n",
    "where $x_e​$ is the electron fraction\n",
    "$$\n",
    "\\langle\\phi^i\\rangle=\\frac{\\int J(E)\\phi^i(E,x_e)\\text{d}E}{\\int J(E)\\text{d}E}\n",
    "$$"
   ]
  },
  {
   "cell_type": "markdown",
   "metadata": {},
   "source": [
    "To simpily calculate this integration (in the certain energy range from 2 keV to 10 keV), the KROME package takes an approximation\n",
    "```fortran\n",
    "phiH = .3908d0*(1d0-xe**.4092)**1.7592 * 327.832286034056d0\n",
    "phiHe = .0554d0*(1d0-xe**.4614)**1.666 * 180.793458763612d0\n",
    "```\n",
    "that is\n",
    "$$\n",
    "\\langle\\phi^H\\rangle=\\frac{\\int J(E)\\phi^i(E,x_e)\\text{d}E}{\\int J(E)\\text{d}E}\\approx\\left( \\frac{E_{eff}}{13.6\\text{eV}}-1\\right)0.3908(1-x_e^{0.4092})^{1.7592}\\\\\n",
    "\\langle\\phi^{He}\\rangle\\approx\\left( \\frac{E_{eff}}{24.6\\text{eV}}-1\\right)0.0554(1-x_e^{0.4614})^{1.666} \n",
    "$$\n",
    "where $E_{eff}\\approx$ 4.472 keV"
   ]
  },
  {
   "cell_type": "code",
   "execution_count": 9,
   "metadata": {},
   "outputs": [],
   "source": [
    "def phi(E, A):\n",
    "    aa, bb, cc = A.getabc()\n",
    "    ph = (E/A.min()-1)*aa*np.power(1-np.power(xe, bb), cc)\n",
    "    return ph\n",
    "\n",
    "def phi_bar(A, spec = None):\n",
    "    if spec == None:\n",
    "        J_Phi, err1 = quad(lambda epsilon:J21*1e-21*np.power(epsilon/1000.0,-1.5)*phi(epsilon, A), 2000, 10000)\n",
    "        J, err2 = quad(lambda epsilon:J21*1e-21*np.power(epsilon/1000.0,-1.5), 2000, 10000)\n",
    "        return(J_Phi/J)\n",
    "    J_Phi = np.array([])\n",
    "    J = np.array([])\n",
    "    for i in range(len(spec.E_eV)):\n",
    "        J_Phi = np.append(J_Phi, spec.Fnu_abs[i]*phi(E_eV[i], A))\n",
    "        J = np.append(J_Phi, spec.Fnu_abs[i])\n",
    "    return(inte(spec.E_eV, J_Phi)/inte(spec.E_eV, J))\n",
    "\n",
    "def phi_b(A):\n",
    "    aa, bb, cc = A.getabc()\n",
    "    if A.name == 'H':\n",
    "        return 327.832286034056e0*aa*np.power(1-np.power(xe, bb), cc)\n",
    "    elif A.name == 'He':\n",
    "        return 180.793458763612e0*aa*np.power(1-np.power(xe, bb), cc)\n",
    "    else:\n",
    "        return 0\n",
    "\n",
    "def Ion_x(n1, n2, H, He, A, B, spec = None): #the method offered in Latif 2015\n",
    "    Ip = Ion_p(H, He, A, spec)\n",
    "    zeta_2 = (Ip + n2/n1*Ion_p(H, He, B, spec))*phi_bar(A)\n",
    "    return(Ip + zeta_2)\n",
    "\n",
    "def Ion_xx(n1, n2, H, He, A, B, spec = None): #what krome is actually using(simplified phi_b)\n",
    "    Ip = Ion_p(H, He, A, spec)\n",
    "    zeta_2 = (Ip + n2/n1*Ion_p(H, He, B, spec))*phi_b(A)\n",
    "    return(Ip + zeta_2)\n",
    "\n",
    "def Ion_xxx(n1, n2, H, He, A, B, spec = None):\n",
    "    Ip = Ion_p(H, He, A, spec)\n",
    "    I21,err1 = quad(lambda epsilon:F_E(epsilon)*np.exp(-Tau(epsilon, H, He))/epsilon*B.cross(epsilon)*phi(epsilon,A), 2000, 10000)\n",
    "    I22,err2 = quad(lambda epsilon:F_E(epsilon)*np.exp(-Tau(epsilon, H, He))/epsilon*A.cross(epsilon)*phi(epsilon,A), 2000, 10000)\n",
    "    print(I22/Ion_p(H, He, A, spec)/phi_bar(A))\n",
    "    print(I21/Ion_p(H, He, B, spec)/phi_bar(A))\n",
    "    print()\n",
    "    return(Ip+n2/n1*I21+I22)"
   ]
  },
  {
   "cell_type": "markdown",
   "metadata": {},
   "source": [
    "- The total X-ray ionization rate for certain species $i$\n",
    "\n",
    "$$\n",
    "\\zeta_x^i=\\zeta_p^i+\\sum_{j=H,He}\\frac{n_j}{n_i}\\zeta_p^j\\langle\\phi^j\\rangle\n",
    "$$\n",
    "\n",
    "where $n_j​$ is the number density"
   ]
  },
  {
   "cell_type": "code",
   "execution_count": 10,
   "metadata": {},
   "outputs": [],
   "source": [
    "def test(H, He, spec = None):\n",
    "    print(H.name, np.log10(Ion_p(H, He, H, spec)), np.log10(Ion_x(nH, nHe, H, He, H, He, spec)))\n",
    "    print(He.name, np.log10(Ion_p(H, He, He, spec)), np.log10(Ion_x(nHe, nH, H, He, He, H, spec)))\n",
    "    print()\n",
    "    #print(Ion_x(nH, nHe, H, He, H, He, spec)/Ion_p(H, He, H, spec), np.log10(Ion_x(nH, nHe, H, He, H, He, spec)))\n",
    "    #print(Ion_x(nHe, nH, H, He, He, H, spec)/Ion_p(H, He, H, spec), np.log10(Ion_x(nHe, nH, H, He, He, H, spec)))\n",
    "    #print()\n",
    "    #print(Ion_xx(nH, nHe, H, He, H, He), np.log10(Ion_xx(nH, nHe, H, He, H, He)))\n",
    "    #print(Ion_xx(nHe, nH, H, He, He, H), np.log10(Ion_xx(nHe, nH, H, He, He, H)))\n",
    "    #print()\n",
    "    #print(Ion_xxx(nH, nHe, H, He, H, He), np.log10(Ion_xxx(nH, nHe, H, He, H, He)))\n",
    "    #print(Ion_xxx(nHe, nH, H, He, He, H), np.log10(Ion_xxx(nHe, nH, H, He, He, H)))"
   ]
  },
  {
   "cell_type": "markdown",
   "metadata": {},
   "source": [
    "## Draw the flux-energy diagram"
   ]
  },
  {
   "cell_type": "code",
   "execution_count": 11,
   "metadata": {},
   "outputs": [],
   "source": [
    "def draw_flux(H, He):\n",
    "    E = np.linspace(100, 5.000E+06, 100000)\n",
    "    T = np.exp(-Tau(E, H, He))\n",
    "    J0 = J21*1e-21*np.power(E/1000.0,-1.5)\n",
    "    Jx = J0*T\n",
    "\n",
    "    fx = quad(lambda epsilon:J21*1e-21*np.power(epsilon/1000.0,-1.5)*4*np.pi/((h_eV)), 2000, 1000000)[0]\n",
    "    fy = quad(lambda epsilon:J21*1e-21*np.power(epsilon/1000.0,-1.5)*np.exp(-Tau(epsilon, H, He))*4*np.pi/((h_eV)), 2000, 1000000)[0]\n",
    "    print(fx, fy)\n",
    "    \n",
    "    plt.xscale('log')\n",
    "    plt.yscale('log')\n",
    "    plt.loglog(E, J0, label='$J_0$')\n",
    "    plt.loglog(E, Jx, label='$J_H$')\n",
    "    plt.xlabel(\"E(eV)\",fontsize=13)\n",
    "    plt.ylabel(\"$J$(erg/cm2/s/Hz)\",fontsize=13)\n",
    "    plt.xlim([1e2,1e6])\n",
    "    plt.ylim([1e-30,1e-15])\n",
    "    #plt.legend()\n",
    "    plt.show()\n",
    "    J1 = J0*T*H.cross(E)\n",
    "    J2 = J0*T*He.cross(E)\n",
    "    #plt.ylim([5e-6,1e-3])\n",
    "    #plt.plot(E, J1, label='$J_H$')\n",
    "    #plt.plot(E, J2, label='$J_{He}$')\n",
    "    plt.loglog(E*1.6021773e-12/h, Jx*4*np.pi*E/(4.135667662e-15), label=r'$\\nu F_{\\nu}$')\n",
    "    plt.ylim([1e-20,1e0])\n",
    "    plt.xlabel(r\"$\\nu$(Hz)\",fontsize=13)\n",
    "    plt.ylabel(r\"$\\nu F_{\\nu}$(erg cm$^{-2}$ s$^{-1}$)\",fontsize=13)\n",
    "    #plt.legend()\n",
    "    return()"
   ]
  },
  {
   "cell_type": "markdown",
   "metadata": {},
   "source": [
    "## Calculate the real ionization rate using Guangshuai's data"
   ]
  },
  {
   "cell_type": "code",
   "execution_count": 12,
   "metadata": {},
   "outputs": [],
   "source": [
    "def inte(x, y, lower = -np.inf, upper = np.inf): #integration with bounds\n",
    "    s = 0\n",
    "    ran = np.array([], dtype='int64')\n",
    "    for i in range(len(x)):\n",
    "        if x[i] > lower:\n",
    "            ran = np.append(ran, int(i))\n",
    "        if x[i] > upper:\n",
    "            break\n",
    "    x, y = np.take(x, ran), np.take(y, ran)\n",
    "    return(np.trapz(y,x)) #integration"
   ]
  },
  {
   "cell_type": "markdown",
   "metadata": {},
   "source": [
    "### Comparison"
   ]
  },
  {
   "cell_type": "markdown",
   "metadata": {},
   "source": [
    "- $F_\\nu-\\nu$ (eV)"
   ]
  },
  {
   "cell_type": "code",
   "execution_count": 13,
   "metadata": {},
   "outputs": [],
   "source": [
    "def draw_Fnu(i, col1, col2, col3, absorb = True):\n",
    "    plt.loglog(i.E_eV, i.Fnu, label = i.title(), lw = 0.4, color = col1)\n",
    "    plt.xlabel(r'$E$(eV)')\n",
    "    plt.ylabel(r'$F($erg s$^{-1}$ cm $^{-2}$ Hz $^{-1}$)')\n",
    "\n",
    "    plt.xlim([1e-1,1e6])\n",
    "    if absorb:\n",
    "        plt.loglog(i.E_eV, i.Fnu_abs, '--', label = i.title() + ' (absorption)', lw = 1, color = col2)\n",
    "    plt.loglog(i.E_eV, i.Fnu_abs, '.', label = i.title() + ' (absorption*)', lw = 1, color = col3)\n",
    "    plt.loglog(i.E_eV, i.Fnu_abs*np.exp(-Tau(i.E_eV, H, He)), '-.', label = i.title() + ' (absorption*)', lw = 1, color = col3)\n",
    "    #plt.legend()\n",
    "    \n",
    "    plt.xlim([1e2,1e6])\n",
    "    plt.ylim([1e-30,(i.Fnu).max()*10])\n",
    "    \n",
    "def draw_Fnu_model():\n",
    "    E = np.linspace(100, 5.000E+06, 100000)\n",
    "    ext = np.exp(-Tau(E, H, He))\n",
    "    F0 = 4*np.pi*J21*1e-21*np.power(E/1000.0,-1.5)\n",
    "    Fx = F0*ext\n",
    "    \n",
    "    plt.loglog(E, F0, label = r'power law', color = '#006284')\n",
    "    plt.loglog(E, Fx, '-.', label = r'power law (absorption*)', color = '#81C7D4')\n",
    "    plt.xlabel(\"E(eV)\", fontsize=13)\n",
    "    plt.ylabel(\"$F$(erg cm$^{-2}$ s$^{-1}$ Hz$^{-1}$)\", fontsize=13)"
   ]
  },
  {
   "cell_type": "markdown",
   "metadata": {},
   "source": [
    "- $\\nu F_\\nu-\\nu$ (Hz)"
   ]
  },
  {
   "cell_type": "code",
   "execution_count": 14,
   "metadata": {},
   "outputs": [],
   "source": [
    "def draw_nuF(i, col1, col2):\n",
    "    plt.loglog(i.nu, i.Fnu*i.nu, label = i.title(), lw = 0.4, color = col1)\n",
    "    plt.loglog(i.nu, i.Fnu_abs*i.nu, '-.', label = i.title(), lw = 0.8, color = col2)\n",
    "    plt.ylim([1e-8,(i.Fnu*i.nu).max()*10])\n",
    "    plt.xlim([1e13,1e21])\n",
    "    #plt.legend()\n",
    "    \n",
    "def draw_nuF_model():\n",
    "    E = np.linspace(100, 5.000E+06, 100000)\n",
    "    ext = np.exp(-Tau(E, H, He))\n",
    "    F0 = 4*np.pi*J21*1e-21*np.power(E/1000.0,-1.5)\n",
    "    Fx = F0*ext\n",
    "    \n",
    "    plt.loglog(E*1.6021773e-12/h, Fx*E/(4.135667662e-15), label='power law', color = '#006284')\n",
    "    plt.xlabel(r\"$\\nu$(Hz)\",fontsize=13)\n",
    "    plt.ylabel(r\"$\\nu F_{\\nu}$(erg cm$^{-2}$ s$^{-1}$)\", fontsize=13)"
   ]
  },
  {
   "cell_type": "markdown",
   "metadata": {},
   "source": [
    "- $\\nu L_\\nu-\\nu$ (Hz)"
   ]
  },
  {
   "cell_type": "code",
   "execution_count": 15,
   "metadata": {},
   "outputs": [],
   "source": [
    "def draw_nuL(i, col1, col2):\n",
    "    plt.loglog(i.nu, i.Lnu*i.nu, lw = 0.4, color = col1)\n",
    "    plt.loglog(i.nu, i.Fnu_abs*i.nu*4*np.pi*i.distance_cm**2, '-.', label = i.title(), lw = 0.8, color = col2)\n",
    "    plt.ylim([1e40,(i.Lnu*i.nu).max()*10])\n",
    "    plt.xlim([1e13,1e21])\n",
    "    #plt.legend()\n",
    "    \n",
    "def draw_nuL_model():\n",
    "    E = np.linspace(100, 5.000E+06, 100000)\n",
    "    ext = np.exp(-Tau(E, H, He))\n",
    "    F0 = 4*np.pi*J21*1e-21*np.power(E/1000.0,-1.5)\n",
    "    Fx = F0*ext\n",
    "    \n",
    "    plt.loglog(E*1.6021773e-12/h, Fx*E/(4.135667662e-15)*4*np.pi*(8*3.08567758e21)**2,  color = '#006284')\n",
    "    plt.xlabel(r\"$\\nu$(Hz)\",fontsize=13)\n",
    "    plt.ylabel(r\"$\\nu L_{\\nu}$(erg s$^{-1}$)\", fontsize=13)"
   ]
  },
  {
   "cell_type": "markdown",
   "metadata": {},
   "source": [
    "- Read parameters, pick out certain spectra"
   ]
  },
  {
   "cell_type": "code",
   "execution_count": 16,
   "metadata": {},
   "outputs": [],
   "source": [
    "def compare(distance, dic):\n",
    "    ty = '.txt'\n",
    "    path = '/Users/chang/X-ray-chemistry/Calc_ionization_rate/spectrum data/spectrum/'\n",
    "    ab, ab_UV = spi.read_abs()\n",
    "    data_list = spi.readfile(path, ty, distance, ab, ab_UV)\n",
    "    \n",
    "    keys = np.array([], dtype = 'int64')\n",
    "    for i in range(len(data_list)):            \n",
    "        if data_list[i].info() == dic:\n",
    "            keys = np.append(int(i), keys)\n",
    "    if len(keys) == 0:\n",
    "        print('No such data:')\n",
    "        print(dic)\n",
    "        return\n",
    "    Dat = np.take(data_list, keys).ravel().copy()\n",
    "    return(Dat)"
   ]
  },
  {
   "cell_type": "code",
   "execution_count": 17,
   "metadata": {},
   "outputs": [
    {
     "data": {
      "text/plain": [
       "2.57750323464073"
      ]
     },
     "execution_count": 17,
     "metadata": {},
     "output_type": "execute_result"
    }
   ],
   "source": [
    "def Eh(ma, mi, alpha):\n",
    "    xx = (1-alpha)/(2-alpha)\n",
    "    yy = (ma**(2-alpha)-mi**(2-alpha))/(ma**(1-alpha)-mi**(1-alpha))\n",
    "    return(xx*yy)\n",
    "Eh(100, 0.2, 1.7)"
   ]
  },
  {
   "cell_type": "code",
   "execution_count": null,
   "metadata": {},
   "outputs": [],
   "source": []
  }
 ],
 "metadata": {
  "kernelspec": {
   "display_name": "Python 3",
   "language": "python",
   "name": "python3"
  },
  "language_info": {
   "codemirror_mode": {
    "name": "ipython",
    "version": 3
   },
   "file_extension": ".py",
   "mimetype": "text/x-python",
   "name": "python",
   "nbconvert_exporter": "python",
   "pygments_lexer": "ipython3",
   "version": "3.7.1"
  }
 },
 "nbformat": 4,
 "nbformat_minor": 2
}
